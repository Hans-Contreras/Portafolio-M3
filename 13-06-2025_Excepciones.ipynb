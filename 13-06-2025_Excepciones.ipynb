{
 "cells": [
  {
   "metadata": {},
   "cell_type": "markdown",
   "source": "INTRODUCCION AL MANEJO DE EXCEPCIONES",
   "id": "6d690ac3eda7c7f9"
  },
  {
   "metadata": {
    "ExecuteTime": {
     "end_time": "2025-06-13T23:47:11.951906Z",
     "start_time": "2025-06-13T23:47:11.948816Z"
    }
   },
   "cell_type": "code",
   "source": [
    "class ErrorDeValidacion(Exception):\n",
    "    #Excepcion personalizada para errores de validacion\n",
    "    def __init__(self, mensaje, campo):\n",
    "        self.m = mensaje\n",
    "        self.c = campo\n",
    "        #Voy a\n",
    "        super().__init__(F\"Error en {self.c}: {self.m}\")\n",
    "\n",
    "def validar_edad(edad):\n",
    "    if edad < 0:\n",
    "        raise ErrorDeValidacion(F\"La Edad no puede ser negativa\", \"edad\")\n",
    "    else:\n",
    "        print(F\"La Edad es valida : {edad}\")\n",
    "\n",
    "try:\n",
    "    validar_edad(-1)\n",
    "\n",
    "except ErrorDeValidacion as ex:\n",
    "    print(ex)\n",
    "\n"
   ],
   "id": "8bf4a7e6c0b35a5d",
   "outputs": [
    {
     "name": "stdout",
     "output_type": "stream",
     "text": [
      "Error en edad: La Edad no puede ser negativa\n"
     ]
    }
   ],
   "execution_count": 15
  },
  {
   "metadata": {
    "ExecuteTime": {
     "end_time": "2025-06-14T00:00:42.150812Z",
     "start_time": "2025-06-14T00:00:42.147462Z"
    }
   },
   "cell_type": "code",
   "source": [
    "def funcion1():\n",
    "    funcion2()\n",
    "\n",
    "def funcion2():\n",
    "    funcion3()\n",
    "\n",
    "def funcion3():\n",
    "    raise ValueError(\"Error en Funcion 3\")\n",
    "\n",
    "try:\n",
    "    funcion1()\n",
    "except ValueError as e:\n",
    "    print(e)\n",
    "\n",
    "\"\"\"\n",
    "funcion1() llama a la funcion2()\n",
    "    funcion2() llama a la funcion3()\n",
    "        funcion3() lanza una excepcion del tipo ValueError\n",
    "\n",
    "\"\"\"\n"
   ],
   "id": "7c64625272867aaf",
   "outputs": [
    {
     "name": "stdout",
     "output_type": "stream",
     "text": [
      "Error en Funcion 3\n"
     ]
    }
   ],
   "execution_count": 23
  }
 ],
 "metadata": {
  "kernelspec": {
   "display_name": "Python [conda env:base] *",
   "language": "python",
   "name": "conda-base-py"
  },
  "language_info": {
   "codemirror_mode": {
    "name": "ipython",
    "version": 2
   },
   "file_extension": ".py",
   "mimetype": "text/x-python",
   "name": "python",
   "nbconvert_exporter": "python",
   "pygments_lexer": "ipython2",
   "version": "2.7.6"
  }
 },
 "nbformat": 4,
 "nbformat_minor": 5
}
