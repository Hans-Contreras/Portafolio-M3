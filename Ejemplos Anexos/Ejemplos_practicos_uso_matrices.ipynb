{
 "cells": [
  {
   "metadata": {},
   "cell_type": "markdown",
   "source": [
    "Casos de uso más comunes y prácticos donde las funciones de matrices son la opción ideal:\n",
    "==========================================================================================\n",
    "\n",
    "**<p style=\"font-size:18px; color:auto;\">1. Cuando el Rendimiento es Crítico (Cálculos Numéricos Intensivos)</p>**\n",
    "\n",
    "Las operaciones con matrices de NumPy son órdenes de magnitud más rápidas que sus equivalentes en Python puro.\n",
    "\n",
    "**La Razón:** Las funciones de NumPy están escritas en lenguajes de bajo nivel (como C o Fortran) y están optimizadas para ejecutar operaciones en bloques de memoria completos a la vez (un concepto llamado vectorización). Un bucle for de Python, en cambio, procesa cada elemento individualmente, lo cual es mucho más lento.\n"
   ],
   "id": "6c83607ff61c456f"
  },
  {
   "metadata": {
    "ExecuteTime": {
     "end_time": "2025-06-20T16:13:50.346526Z",
     "start_time": "2025-06-20T16:13:50.330447Z"
    }
   },
   "cell_type": "code",
   "source": [
    "\"\"\"\n",
    "Ejemplo Práctico: Sumar dos matrices grandes.\n",
    "\"\"\"\n",
    "import numpy as np\n",
    "import time\n",
    "\n",
    "# Creando dos matrices grandes de 1000x1000\n",
    "matriz_a = np.random.rand(1000, 1000)\n",
    "matriz_b = np.random.rand(1000, 1000)\n",
    "\n",
    "# Método NumPy (vectorizado)\n",
    "start_time = time.time()\n",
    "resultado_numpy = matriz_a + matriz_b\n",
    "end_time = time.time()\n",
    "print(f\"Tiempo con NumPy: {end_time - start_time:.6f} segundos\")\n",
    "\n",
    "# Método con bucles for (sería extremadamente lento y no se recomienda ejecutar)\n",
    "# for i in range(1000):\n",
    "#     for j in range(1000):\n",
    "#         resultado_manual[i][j] = matriz_a[i][j] + matriz_b[i][j]"
   ],
   "id": "741b2e05a9d5713a",
   "outputs": [
    {
     "name": "stdout",
     "output_type": "stream",
     "text": [
      "Tiempo con NumPy: 0.002001 segundos\n"
     ]
    }
   ],
   "execution_count": 4
  },
  {
   "metadata": {},
   "cell_type": "markdown",
   "source": [
    "**<p style=\"font-size:18px; color:auto;\">2. Cuando la Simplicidad y Legibilidad del Código son Importantes</p>**\n",
    "\n",
    "El código que utiliza funciones de matrices es mucho más corto, limpio y fácil de leer porque las operaciones matemáticas se expresan de forma natural.\n",
    "\n",
    "Comparación Directa:\n",
    "* Multiplicación de matrices en NumPy: C = A @ B\n",
    "* Multiplicación de matrices con bucles: Requiere bucles anidados complejos y es fácil cometer errores."
   ],
   "id": "7842c40776319a11"
  },
  {
   "metadata": {},
   "cell_type": "markdown",
   "source": [
    "**<p style=\"font-size:18px; color:auto;\">3. Para Álgebra Lineal y Resolución de Sistemas de Ecuaciones</p>**\n",
    "\n",
    "Este es el caso de uso por excelencia. Si tienes un problema que puede ser modelado por un sistema de ecuaciones lineales, NumPy es la herramienta perfecta"
   ],
   "id": "768b70f7b3b11169"
  },
  {
   "metadata": {
    "ExecuteTime": {
     "end_time": "2025-06-20T16:15:41.183142Z",
     "start_time": "2025-06-20T16:15:41.169535Z"
    }
   },
   "cell_type": "code",
   "source": [
    "\"\"\"\n",
    "Ejemplo Práctico: Resolver el sistema:\n",
    "3x + y = 9\n",
    "x + 2y = 8\n",
    "\"\"\"\n",
    "\n",
    "import numpy as np\n",
    "\n",
    "# Matriz de coeficientes (A)\n",
    "A = np.array([[3, 1],\n",
    "              [1, 2]])\n",
    "\n",
    "# Vector de resultados (b)\n",
    "b = np.array([9, 8])\n",
    "\n",
    "# Resolver para x\n",
    "solucion = np.linalg.solve(A, b)\n",
    "\n",
    "print(f\"La solución es x = {solucion[0]}, y = {solucion[1]}\")\n",
    "# Salida: La solución es x = 2.0, y = 3.0"
   ],
   "id": "daaf2d92eeb86a57",
   "outputs": [
    {
     "name": "stdout",
     "output_type": "stream",
     "text": [
      "La solución es x = 2.0, y = 3.0\n"
     ]
    }
   ],
   "execution_count": 5
  },
  {
   "metadata": {},
   "cell_type": "markdown",
   "source": [
    "**<p style=\"font-size:18px; color:auto;\">4. En Ciencia de Datos y Machine Learning</p>**\n",
    "\n",
    "Casi todas las operaciones en estas áreas se basan en matrices:\n",
    "\n",
    "* Normalizar o escalar características de un conjunto de datos.\n",
    "* Calcular matrices de covarianza.\n",
    "* Las redes neuronales son, en esencia, una serie de multiplicaciones de matrices y funciones de activación aplicadas a los resultados.\n",
    "\n",
    "**<p style=\"font-size:18px; color:auto;\">5. Procesamiento de Imágenes y Gráficos</p>**\n",
    "Una imagen digital puede ser representada como una matriz de píxeles (o tres matrices para los canales RGB). Aplicar filtros, cambiar el brillo, rotar o escalar una imagen son operaciones matriciales.\n",
    "\n",
    "**<p style=\"font-size:18px; color:auto;\">¿Cuándo NO es tan práctico?</p>**\n",
    "\n",
    "* Cuando los datos no son homogéneos: Si tienes una colección de datos con tipos mixtos (números, textos, objetos, etc.), una lista de diccionarios de Python es una estructura mucho más adecuada. Las matrices de NumPy requieren que todos los elementos sean del mismo tipo de dato (ej. int64 o float64).\n",
    "* Cuando la lógica por elemento es muy compleja y no es matemática: Si para cada elemento necesitas aplicar una serie de condiciones if/elif/else complejas que no se pueden expresar fácilmente como una fórmula matemática, un bucle for tradicional puede ser más claro y directo.\n",
    "* Para colecciones de datos muy pequeñas y simples: Si solo tienes un puñado de números, el overhead de importar y usar NumPy puede ser innecesario.\n",
    "\n"
   ],
   "id": "52e4f20f2e945245"
  },
  {
   "metadata": {},
   "cell_type": "markdown",
   "source": [
    "**<p style=\"font-size:18px; color:auto;\">Otros Ejemplos</p>**\n",
    "\n",
    "**<p style=\"font-size:18px; color:auto;\">Ejemplo 1: Procesamiento de Imágenes - Aumentar el Brillo</p>**\n",
    "\n",
    "**Problema:** Una imagen en escala de grises puede representarse como una matriz donde cada elemento es un valor de píxel (ej. de 0 a 255). Queremos aumentar el brillo de toda la imagen de forma uniforme.\n",
    "\n",
    "**Lógica:** Simplemente sumamos un valor constante a cada píxel. Con NumPy, esto es una sola operación.\n"
   ],
   "id": "d9aca04a94510d3f"
  },
  {
   "metadata": {
    "ExecuteTime": {
     "end_time": "2025-06-20T16:41:14.461859Z",
     "start_time": "2025-06-20T16:41:14.457859Z"
    }
   },
   "cell_type": "code",
   "source": [
    "import numpy as np\n",
    "\n",
    "# Creamos una matriz que simula una imagen pequeña de 4x4 píxeles\n",
    "imagen = np.array([\n",
    "    [10, 20, 30, 40],\n",
    "    [50, 60, 70, 80],\n",
    "    [90, 100, 110, 120],\n",
    "    [130, 140, 150, 160]\n",
    "])\n",
    "\n",
    "# Factor de brillo que queremos añadir\n",
    "factor_brillo = 50\n",
    "\n",
    "# Aumentamos el brillo de TODOS los píxeles a la vez\n",
    "imagen_aclarada = imagen + factor_brillo\n",
    "\n",
    "# Nos aseguramos de que ningún píxel supere el valor máximo (255)\n",
    "# np.clip es una función que limita los valores a un rango [min, max]\n",
    "imagen_aclarada = np.clip(imagen_aclarada, 0, 255)\n",
    "\n",
    "print(\"--- Imagen Original ---\")\n",
    "print(imagen)\n",
    "\n",
    "print(\"\\n--- Imagen Aclarada ---\")\n",
    "print(imagen_aclarada)"
   ],
   "id": "f471a5ee5b7a7c5c",
   "outputs": [
    {
     "name": "stdout",
     "output_type": "stream",
     "text": [
      "--- Imagen Original ---\n",
      "[[ 10  20  30  40]\n",
      " [ 50  60  70  80]\n",
      " [ 90 100 110 120]\n",
      " [130 140 150 160]]\n",
      "\n",
      "--- Imagen Aclarada ---\n",
      "[[ 60  70  80  90]\n",
      " [100 110 120 130]\n",
      " [140 150 160 170]\n",
      " [180 190 200 210]]\n"
     ]
    }
   ],
   "execution_count": 6
  },
  {
   "metadata": {},
   "cell_type": "markdown",
   "source": "**Ventaja Práctica:** En lugar de usar dos bucles for anidados para recorrer cada píxel (lo cual sería muy lento en una imagen real de millones de píxeles), realizamos la operación en toda la matriz de una sola vez. Es extremadamente rápido y el código es muy legible.",
   "id": "e8e0f4a9e8969e3c"
  },
  {
   "metadata": {},
   "cell_type": "markdown",
   "source": [
    "**<p style=\"font-size:18px; color:auto;\">Ejemplo 2: Análisis de Datos - Normalización de Datos (Z-score)</p>**\n",
    "\n",
    "**Problema:** Tienes las calificaciones de un grupo de estudiantes y quieres saber qué tan bien o mal le fue a cada uno en relación con el promedio de la clase. Para esto, se usa la normalización Z-score, cuya fórmula es: z = (x - media) / desviación_estándar.\n",
    "\n",
    "**Lógica:** Con NumPy, podemos calcular la media y la desviación estándar de todo el grupo y luego aplicar la fórmula a todas las calificaciones simultáneamente."
   ],
   "id": "99368a61345ac263"
  },
  {
   "metadata": {
    "ExecuteTime": {
     "end_time": "2025-06-20T16:45:47.441946Z",
     "start_time": "2025-06-20T16:45:47.438141Z"
    }
   },
   "cell_type": "code",
   "source": [
    "import numpy as np\n",
    "\n",
    "# Calificaciones de 10 estudiantes\n",
    "calificaciones = np.array([85, 92, 78, 65, 95, 88, 76, 89, 91, 80])\n",
    "\n",
    "# 1. Calcular la media y la desviación estándar\n",
    "media = np.mean(calificaciones)\n",
    "desviacion_std = np.std(calificaciones)\n",
    "\n",
    "# 2. Aplicar la fórmula a todo el arreglo a la vez\n",
    "calificaciones_normalizadas = (calificaciones - media) / desviacion_std\n",
    "\n",
    "print(\"--- Calificaciones Originales ---\")\n",
    "print(calificaciones)\n",
    "\n",
    "print(f\"\\nMedia de la clase: {media:.2f}\")\n",
    "print(f\"Desviación Estándar: {desviacion_std:.2f}\")\n",
    "\n",
    "print(\"\\n--- Calificaciones Normalizadas (Z-scores) ---\")\n",
    "# El Z-score indica cuántas desviaciones estándar por encima o por debajo\n",
    "# de la media está cada calificación.\n",
    "print(calificaciones_normalizadas)"
   ],
   "id": "d33451552b818f64",
   "outputs": [
    {
     "name": "stdout",
     "output_type": "stream",
     "text": [
      "--- Calificaciones Originales ---\n",
      "[85 92 78 65 95 88 76 89 91 80]\n",
      "\n",
      "Media de la clase: 83.90\n",
      "Desviación Estándar: 8.68\n",
      "\n",
      "--- Calificaciones Normalizadas (Z-scores) ---\n",
      "[ 0.1267722   0.9335044  -0.67996    -2.17817694  1.27924677  0.47251457\n",
      " -0.91045491  0.58776203  0.81825695 -0.44946508]\n"
     ]
    }
   ],
   "execution_count": 7
  },
  {
   "metadata": {},
   "cell_type": "markdown",
   "source": "**Ventaja Práctica:** Realizamos un cálculo estadístico complejo sobre un conjunto de datos completo con una sola línea de código, evitando bucles manuales y haciendo el código muy fácil de leer y verificar.",
   "id": "3dc7ab8af3bc9c04"
  },
  {
   "metadata": {},
   "cell_type": "markdown",
   "source": [
    "**<p style=\"font-size:18px; color:auto;\">Ejemplo 3: Finanzas y Negocios - Cálculo de Ingresos Totales</p>**\n",
    "\n",
    "**Problema:** Tienes un registro de las cantidades vendidas de varios productos y sus respectivos precios. Quieres calcular el ingreso total de las ventas.\n",
    "\n",
    "**Lógica:** El ingreso total es la suma de (cantidad_producto_1 * precio_1) + (cantidad_producto_2 * precio_2) + ... Esto es exactamente la definición de un producto punto (dot product) entre dos vectores."
   ],
   "id": "3583125b771676ff"
  },
  {
   "metadata": {
    "ExecuteTime": {
     "end_time": "2025-06-20T16:45:54.566142Z",
     "start_time": "2025-06-20T16:45:54.562556Z"
    }
   },
   "cell_type": "code",
   "source": [
    "import numpy as np\n",
    "\n",
    "# Vector con las cantidades vendidas de 4 productos\n",
    "cantidades = np.array([10, 25, 8, 30])\n",
    "\n",
    "# Vector con los precios de cada producto\n",
    "precios = np.array([1500, 800, 3500, 2200]) # Precios en CLP\n",
    "\n",
    "# Calculamos el ingreso total con un producto punto\n",
    "ingreso_total = np.dot(cantidades, precios)\n",
    "\n",
    "print(\"--- Datos de Ventas ---\")\n",
    "print(f\"Cantidades vendidas: {cantidades}\")\n",
    "print(f\"Precios unitarios: {precios}\")\n",
    "\n",
    "print(\"\\n--- Resultado ---\")\n",
    "print(f\"El ingreso total por ventas es: ${ingreso_total} CLP\")"
   ],
   "id": "8b645c81eed1f7c8",
   "outputs": [
    {
     "name": "stdout",
     "output_type": "stream",
     "text": [
      "--- Datos de Ventas ---\n",
      "Cantidades vendidas: [10 25  8 30]\n",
      "Precios unitarios: [1500  800 3500 2200]\n",
      "\n",
      "--- Resultado ---\n",
      "El ingreso total por ventas es: $129000 CLP\n"
     ]
    }
   ],
   "execution_count": 9
  },
  {
   "metadata": {},
   "cell_type": "markdown",
   "source": "**Ventaja Práctica:** El np.dot() es una operación fundamental del álgebra lineal que representa perfectamente este tipo de problemas. Es mucho más expresivo y eficiente que un bucle for que acumula la suma de las multiplicaciones.",
   "id": "6479d3dd74c36e09"
  },
  {
   "metadata": {},
   "cell_type": "markdown",
   "source": [
    "**<p style=\"font-size:18px; color:auto;\">Ejemplo 4: Gráficos por Computadora - Rotar un Objeto 2D</p>**\n",
    "\n",
    "**Problema:** Tienes las coordenadas de los vértices de un cuadrado y quieres rotarlo 90 grados en sentido antihorario alrededor del origen.\n",
    "\n",
    "**Lógica:** En gráficos 2D, puedes rotar un conjunto de puntos multiplicando la matriz de puntos por una matriz de rotación."
   ],
   "id": "7149caa79ec669ed"
  },
  {
   "metadata": {
    "ExecuteTime": {
     "end_time": "2025-06-20T16:45:58.199488Z",
     "start_time": "2025-06-20T16:45:58.194506Z"
    }
   },
   "cell_type": "code",
   "source": [
    "import numpy as np\n",
    "\n",
    "# Matriz de puntos [x, y]. Cada fila es un vértice del cuadrado.\n",
    "puntos_cuadrado = np.array([\n",
    "    [1, 1],\n",
    "    [3, 1],\n",
    "    [3, 3],\n",
    "    [1, 3]\n",
    "])\n",
    "\n",
    "# Ángulo de rotación: 90 grados en radianes (pi / 2)\n",
    "angulo = np.pi / 2\n",
    "c, s = np.cos(angulo), np.sin(angulo)\n",
    "\n",
    "# Matriz de rotación 2D\n",
    "matriz_rotacion = np.array([\n",
    "    [c, -s],\n",
    "    [s,  c]\n",
    "])\n",
    "\n",
    "# Aplicamos la rotación multiplicando las matrices\n",
    "# El símbolo @ es el operador para la multiplicación de matrices en NumPy\n",
    "puntos_rotados = puntos_cuadrado @ matriz_rotacion\n",
    "\n",
    "print(\"--- Vértices Originales ---\")\n",
    "print(puntos_cuadrado)\n",
    "\n",
    "print(\"\\n--- Matriz de Rotación (90°) ---\")\n",
    "print(matriz_rotacion)\n",
    "\n",
    "print(\"\\n--- Vértices Rotados ---\")\n",
    "# Los resultados pueden tener pequeños errores de precisión flotante (ej. 1.83e-16 en lugar de 0)\n",
    "print(puntos_rotados.round(2)) # Redondeamos para una mejor visualización"
   ],
   "id": "38ed33c8a3aff420",
   "outputs": [
    {
     "name": "stdout",
     "output_type": "stream",
     "text": [
      "--- Vértices Originales ---\n",
      "[[1 1]\n",
      " [3 1]\n",
      " [3 3]\n",
      " [1 3]]\n",
      "\n",
      "--- Matriz de Rotación (90°) ---\n",
      "[[ 6.123234e-17 -1.000000e+00]\n",
      " [ 1.000000e+00  6.123234e-17]]\n",
      "\n",
      "--- Vértices Rotados ---\n",
      "[[ 1. -1.]\n",
      " [ 1. -3.]\n",
      " [ 3. -3.]\n",
      " [ 3. -1.]]\n"
     ]
    }
   ],
   "execution_count": 10
  },
  {
   "metadata": {},
   "cell_type": "markdown",
   "source": "**Ventaja Práctica:** Permite aplicar transformaciones geométricas complejas a miles de puntos (como en un modelo 3D) de forma extremadamente eficiente, algo que sería prohibitivamente lento con bucles de Python.",
   "id": "b9bc0e5c9abbe26f"
  }
 ],
 "metadata": {
  "kernelspec": {
   "display_name": "Python [conda env:base] *",
   "language": "python",
   "name": "conda-base-py"
  },
  "language_info": {
   "codemirror_mode": {
    "name": "ipython",
    "version": 2
   },
   "file_extension": ".py",
   "mimetype": "text/x-python",
   "name": "python",
   "nbconvert_exporter": "python",
   "pygments_lexer": "ipython2",
   "version": "2.7.6"
  }
 },
 "nbformat": 4,
 "nbformat_minor": 5
}
