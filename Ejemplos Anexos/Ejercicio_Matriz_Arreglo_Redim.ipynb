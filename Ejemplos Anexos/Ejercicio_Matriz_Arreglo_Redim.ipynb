{
 "cells": [
  {
   "metadata": {},
   "cell_type": "markdown",
   "source": [
    "**Resolución del Ejercicio de clase con NumPy**\n",
    "\n"
   ],
   "id": "aa2086b3aa72eff7"
  },
  {
   "metadata": {
    "ExecuteTime": {
     "end_time": "2025-06-20T15:54:37.443787Z",
     "start_time": "2025-06-20T15:54:37.440259Z"
    }
   },
   "cell_type": "code",
   "source": [
    "#Primero, importamos la librería NumPy:\n",
    "import numpy as np\n",
    "\n",
    "\"\"\"\n",
    "Paso 1: Crea un arreglo con np.arange y redimensionalo\n",
    "Se crea un arreglo con números del 1 al 16 y luego se reestructura en una matriz de 4x4.\n",
    "\"\"\"\n",
    "# Crea un arreglo con números enteros del 1 al 16 (el 17 no se incluye)\n",
    "arreglo_x = np.arange(1, 17)\n",
    "\n",
    "# Redimensiona el arreglo a una matriz de 4x4\n",
    "matriz_4x4 = arreglo_x.reshape(4, 4)\n",
    "\n",
    "print(\"--- Paso 1 ---\")\n",
    "print(\"Matriz de 4x4 creada:\")\n",
    "print(matriz_4x4)\n"
   ],
   "id": "4d95c0b7dfd8a63a",
   "outputs": [
    {
     "name": "stdout",
     "output_type": "stream",
     "text": [
      "--- Paso 1 ---\n",
      "Matriz de 4x4 creada:\n",
      "[[ 1  2  3  4]\n",
      " [ 5  6  7  8]\n",
      " [ 9 10 11 12]\n",
      " [13 14 15 16]]\n"
     ]
    }
   ],
   "execution_count": 2
  },
  {
   "metadata": {
    "ExecuteTime": {
     "end_time": "2025-06-20T15:54:39.900693Z",
     "start_time": "2025-06-20T15:54:39.896957Z"
    }
   },
   "cell_type": "code",
   "source": [
    "\"\"\"\n",
    "Paso 2: Genera un arreglo con np.linspace\n",
    "Se genera un arreglo que contiene 10 números flotantes, espaciados de forma uniforme entre 0 y 100.\n",
    "\"\"\"\n",
    "\n",
    "# Genera 10 números equidistantes entre 0 y 100\n",
    "arreglo_linspace = np.linspace(0, 100, 10)\n",
    "\n",
    "print(\"\\n--- Paso 2 ---\")\n",
    "print(\"Arreglo de 10 elementos equidistantes:\")\n",
    "print(arreglo_linspace)\n"
   ],
   "id": "6a26d8e1d0e13c77",
   "outputs": [
    {
     "name": "stdout",
     "output_type": "stream",
     "text": [
      "\n",
      "--- Paso 2 ---\n",
      "Arreglo de 10 elementos equidistantes:\n",
      "[  0.          11.11111111  22.22222222  33.33333333  44.44444444\n",
      "  55.55555556  66.66666667  77.77777778  88.88888889 100.        ]\n"
     ]
    }
   ],
   "execution_count": 3
  },
  {
   "metadata": {
    "ExecuteTime": {
     "end_time": "2025-06-20T15:55:16.497334Z",
     "start_time": "2025-06-20T15:55:16.494314Z"
    }
   },
   "cell_type": "code",
   "source": [
    "\"\"\"\n",
    "Paso 3: Crea una matriz aleatoria con np.random.randint\n",
    "Se crea una matriz de 3x3 con números enteros aleatorios entre 1 y 20.\n",
    "\"\"\"\n",
    "\n",
    "# Genera una matriz de 3x3 con enteros aleatorios entre 1 y 20\n",
    "# (se usa 21 porque el límite superior no es inclusivo)\n",
    "matriz_aleatoria_3x3 = np.random.randint(1, 21, size=(3, 3))\n",
    "\n",
    "print(\"\\n--- Paso 3 ---\")\n",
    "print(\"Matriz aleatoria de 3x3:\")\n",
    "print(matriz_aleatoria_3x3)\n"
   ],
   "id": "79d461304b0e7a6b",
   "outputs": [
    {
     "name": "stdout",
     "output_type": "stream",
     "text": [
      "\n",
      "--- Paso 3 ---\n",
      "Matriz aleatoria de 3x3:\n",
      "[[ 3  9 14]\n",
      " [ 7  9 20]\n",
      " [16 12 18]]\n"
     ]
    }
   ],
   "execution_count": 4
  },
  {
   "metadata": {
    "ExecuteTime": {
     "end_time": "2025-06-20T15:57:29.146160Z",
     "start_time": "2025-06-20T15:57:29.141872Z"
    }
   },
   "cell_type": "code",
   "source": [
    "\"\"\"\n",
    "Paso 4: Aplica np.sqrt() y np.log()\n",
    "Se aplican las funciones de raíz cuadrada y logaritmo natural a las matrices creadas.\n",
    "\"\"\"\n",
    "\n",
    "print(\"\\n--- Paso 4 ---\")\n",
    "\n",
    "# Aplicando raíz cuadrada (sqrt)\n",
    "print(\"\\nRaíz cuadrada de la matriz 4x4:\")\n",
    "print(np.sqrt(matriz_4x4))\n",
    "\n",
    "print(\"\\nRaíz cuadrada de la matriz aleatoria 3x3:\")\n",
    "print(np.sqrt(matriz_aleatoria_3x3))\n",
    "\n",
    "# Aplicando logaritmo natural (log)\n",
    "print(\"\\nLogaritmo natural de la matriz 4x4:\")\n",
    "print(np.log(matriz_4x4))\n",
    "\n",
    "print(\"\\nLogaritmo natural del arreglo linspace:\")\n",
    "# Nota: np.log(0) da como resultado -inf (infinito negativo) y genera una advertencia.\n",
    "# Esto es matemáticamente correcto y NumPy lo maneja así.\n",
    "print(np.log(arreglo_linspace))\n"
   ],
   "id": "1456210dd4096f97",
   "outputs": [
    {
     "name": "stdout",
     "output_type": "stream",
     "text": [
      "\n",
      "--- Paso 4 ---\n",
      "\n",
      "Raíz cuadrada de la matriz 4x4:\n",
      "[[1.         1.41421356 1.73205081 2.        ]\n",
      " [2.23606798 2.44948974 2.64575131 2.82842712]\n",
      " [3.         3.16227766 3.31662479 3.46410162]\n",
      " [3.60555128 3.74165739 3.87298335 4.        ]]\n",
      "\n",
      "Raíz cuadrada de la matriz aleatoria 3x3:\n",
      "[[1.73205081 3.         3.74165739]\n",
      " [2.64575131 3.         4.47213595]\n",
      " [4.         3.46410162 4.24264069]]\n",
      "\n",
      "Logaritmo natural de la matriz 4x4:\n",
      "[[0.         0.69314718 1.09861229 1.38629436]\n",
      " [1.60943791 1.79175947 1.94591015 2.07944154]\n",
      " [2.19722458 2.30258509 2.39789527 2.48490665]\n",
      " [2.56494936 2.63905733 2.7080502  2.77258872]]\n",
      "\n",
      "Logaritmo natural del arreglo linspace:\n",
      "[      -inf 2.40794561 3.10109279 3.5065579  3.79423997 4.01738352\n",
      " 4.19970508 4.35385576 4.48738715 4.60517019]\n"
     ]
    },
    {
     "name": "stderr",
     "output_type": "stream",
     "text": [
      "C:\\Users\\hcr88\\AppData\\Local\\Temp\\ipykernel_11056\\414606816.py:22: RuntimeWarning: divide by zero encountered in log\n",
      "  print(np.log(arreglo_linspace))\n"
     ]
    }
   ],
   "execution_count": 6
  },
  {
   "metadata": {},
   "cell_type": "markdown",
   "source": [
    "**<p style=\"font-size:18px; color:green;\">Paso 5: ¿Qué diferencias notas en la forma de aplicar funciones sobre arreglos enteros vs flotantes?</p>**\n",
    "\n",
    "La diferencia fundamental no está en cómo se aplica la función (la sintaxis es la misma: np.funcion(arreglo)), sino en el tipo de dato (dtype) del arreglo resultante.\n",
    "\n",
    "**<p style=\"font-size:18px; color:auto;\">Arreglos de Enteros (int):</p>**\n",
    "Cuando aplicas una función matemática como np.sqrt() o np.log() a un arreglo de enteros, el resultado casi nunca es un número entero.\n",
    "Para no perder precisión, NumPy crea automáticamente un nuevo arreglo de tipo flotante (float64) para almacenar los resultados.\n",
    "Este cambio de tipo se llama \"upcasting\".\n",
    "\n",
    "**<p style=\"font-size:18px; color:auto;\">Arreglos de Flotantes (float):</p>**\n",
    "Cuando aplicas estas mismas funciones a un arreglo que ya es de tipo flotante, el resultado seguirá siendo un arreglo de tipo flotante. No hay necesidad de cambiar el tipo de dato.\n"
   ],
   "id": "5e5224c333934fe2"
  },
  {
   "metadata": {
    "ExecuteTime": {
     "end_time": "2025-06-20T16:05:54.289033Z",
     "start_time": "2025-06-20T16:05:54.284529Z"
    }
   },
   "cell_type": "code",
   "source": [
    "print(\"\\n--- Paso 5: Diferencia de Tipos de Dato ---\")\n",
    "\n",
    "# Caso 1: Arreglo de enteros\n",
    "print(f\"Tipo de dato original (aleatorio): {matriz_aleatoria_3x3.dtype}\")\n",
    "resultado_sqrt = np.sqrt(matriz_aleatoria_3x3)\n",
    "print(f\"Tipo de dato después de sqrt: {resultado_sqrt.dtype}\") # Cambia a float64\n",
    "\n",
    "print(\"-\" * 20)\n",
    "\n",
    "# Caso 2: Arreglo de flotantes\n",
    "print(f\"Tipo de dato original (linspace): {arreglo_linspace.dtype}\")\n",
    "resultado_log = np.log(arreglo_linspace)\n",
    "print(f\"Tipo de dato después de log: {resultado_log.dtype}\") # Se mantiene en float64"
   ],
   "id": "a1ffe855aab42d2b",
   "outputs": [
    {
     "name": "stdout",
     "output_type": "stream",
     "text": [
      "\n",
      "--- Paso 5: Diferencia de Tipos de Dato ---\n",
      "Tipo de dato original (aleatorio): int32\n",
      "Tipo de dato después de sqrt: float64\n",
      "--------------------\n",
      "Tipo de dato original (linspace): float64\n",
      "Tipo de dato después de log: float64\n"
     ]
    },
    {
     "name": "stderr",
     "output_type": "stream",
     "text": [
      "C:\\Users\\hcr88\\AppData\\Local\\Temp\\ipykernel_11056\\307907868.py:12: RuntimeWarning: divide by zero encountered in log\n",
      "  resultado_log = np.log(arreglo_linspace)\n"
     ]
    }
   ],
   "execution_count": 8
  }
 ],
 "metadata": {
  "kernelspec": {
   "display_name": "Python [conda env:base] *",
   "language": "python",
   "name": "conda-base-py"
  },
  "language_info": {
   "codemirror_mode": {
    "name": "ipython",
    "version": 2
   },
   "file_extension": ".py",
   "mimetype": "text/x-python",
   "name": "python",
   "nbconvert_exporter": "python",
   "pygments_lexer": "ipython2",
   "version": "2.7.6"
  }
 },
 "nbformat": 4,
 "nbformat_minor": 5
}
