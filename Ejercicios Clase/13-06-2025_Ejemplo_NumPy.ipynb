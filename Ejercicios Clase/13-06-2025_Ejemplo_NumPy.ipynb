{
 "cells": [
  {
   "metadata": {},
   "cell_type": "markdown",
   "source": "INTRODUCCION A NUMPY - Importación y Creación de Arrays",
   "id": "5ff93966e294f584"
  },
  {
   "metadata": {
    "ExecuteTime": {
     "end_time": "2025-06-14T00:28:11.611196Z",
     "start_time": "2025-06-14T00:28:11.530904Z"
    }
   },
   "cell_type": "code",
   "source": [
    "#Importar NumPy\n",
    "import numpy as np\n",
    "\n",
    "#Crear el primer array (vector o arreglo) con NumPy\n",
    "arreglo_numerico = [1, 2, 3, 4, 5]\n",
    "vector_inicial = np.array(arreglo_numerico)\n",
    "print(F\"El arreglo_numerico es del tipo = {type(arreglo_numerico)}\")\n",
    "print(F\"El vector inicial es del tipo = {type(vector_inicial)}\")\n",
    "vector_inicial"
   ],
   "id": "1ebd4b249d754974",
   "outputs": [
    {
     "name": "stdout",
     "output_type": "stream",
     "text": [
      "El arreglo_numerico es del tipo = <class 'list'>\n",
      "El vector inicial es del tipo = <class 'numpy.ndarray'>\n"
     ]
    },
    {
     "data": {
      "text/plain": [
       "array([1, 2, 3, 4, 5])"
      ]
     },
     "execution_count": 1,
     "metadata": {},
     "output_type": "execute_result"
    }
   ],
   "execution_count": 1
  },
  {
   "metadata": {
    "ExecuteTime": {
     "end_time": "2025-06-14T00:29:34.759405Z",
     "start_time": "2025-06-14T00:29:34.755154Z"
    }
   },
   "cell_type": "code",
   "source": [
    "matriz = np.array([[1, 2, 3], [4, 5, 6], [7, 8, 9]])\n",
    "print(type(matriz))\n",
    "\n",
    "#elemento = matriz[1,2]\n",
    "#elemento\n",
    "\n",
    "matriz\n",
    "\n"
   ],
   "id": "aae4be5067627a1d",
   "outputs": [
    {
     "name": "stdout",
     "output_type": "stream",
     "text": [
      "<class 'numpy.ndarray'>\n"
     ]
    },
    {
     "data": {
      "text/plain": [
       "array([[1, 2, 3],\n",
       "       [4, 5, 6],\n",
       "       [7, 8, 9]])"
      ]
     },
     "execution_count": 2,
     "metadata": {},
     "output_type": "execute_result"
    }
   ],
   "execution_count": 2
  },
  {
   "metadata": {},
   "cell_type": "markdown",
   "source": "OPERACIONES VECTORIZADAS",
   "id": "2a64a3585d333e0"
  },
  {
   "metadata": {
    "ExecuteTime": {
     "end_time": "2025-06-14T00:31:00.801568Z",
     "start_time": "2025-06-14T00:31:00.797568Z"
    }
   },
   "cell_type": "code",
   "source": [
    "resultado = matriz*2 #Multiplica todos los elementos por 2      resultado       matriz\n",
    "resultado\n"
   ],
   "id": "a1d3d954b555618e",
   "outputs": [
    {
     "data": {
      "text/plain": [
       "array([[ 2,  4,  6],\n",
       "       [ 8, 10, 12],\n",
       "       [14, 16, 18]])"
      ]
     },
     "execution_count": 4,
     "metadata": {},
     "output_type": "execute_result"
    }
   ],
   "execution_count": 4
  },
  {
   "metadata": {},
   "cell_type": "markdown",
   "source": "FUNCIONES ESTADISTICAS CON NUMPHY\n",
   "id": "e38bb867b31acd3c"
  },
  {
   "metadata": {},
   "cell_type": "code",
   "outputs": [],
   "execution_count": null,
   "source": [
    "datos = np.array([1, 2, 3, 4, 5])\n",
    "\n",
    "media = np.mean(datos)\n",
    "mediana = np.median(datos)\n",
    "desviacion = np.std(datos)\n",
    "minimo = np.min(datos)\n",
    "maximo = np.max(datos)\n",
    "suma = np.sum(datos)\n",
    "\n",
    "print(F\"Los resultados de las operaciones son: \\n\",\n"
   ],
   "id": "a1ab1802e9afafc8"
  }
 ],
 "metadata": {
  "kernelspec": {
   "display_name": "Python [conda env:base] *",
   "language": "python",
   "name": "conda-base-py"
  },
  "language_info": {
   "codemirror_mode": {
    "name": "ipython",
    "version": 2
   },
   "file_extension": ".py",
   "mimetype": "text/x-python",
   "name": "python",
   "nbconvert_exporter": "python",
   "pygments_lexer": "ipython2",
   "version": "2.7.6"
  }
 },
 "nbformat": 4,
 "nbformat_minor": 5
}
