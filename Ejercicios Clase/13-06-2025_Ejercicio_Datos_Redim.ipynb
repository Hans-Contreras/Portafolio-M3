{
 "cells": [
  {
   "cell_type": "code",
   "id": "initial_id",
   "metadata": {
    "collapsed": true,
    "ExecuteTime": {
     "end_time": "2025-06-20T18:53:06.956749Z",
     "start_time": "2025-06-20T18:53:06.891803Z"
    }
   },
   "source": [
    "# Importar la librería NumPy\n",
    "import numpy as np\n",
    "\n",
    "# 1. Crear un arreglo con np.arange(1, 17) y redimensionarlo a una matriz de 4x4.\n",
    "matriz_arange = np.arange(1, 17).reshape(4, 4)\n",
    "print(\"1. Matriz 4x4 creada con arange y reshape:\")\n",
    "print(matriz_arange)\n",
    "\n",
    "print(\"-\" * 40)\n",
    "\n",
    "# 2. Generar un arreglo de 10 elementos equidistantes entre 0 y 100.\n",
    "arreglo_linspace = np.linspace(0, 100, 10)\n",
    "print(\"2. Arreglo de 10 elementos equidistantes (linspace):\")\n",
    "print(arreglo_linspace)\n",
    "\n",
    "print(\"-\" * 40)\n",
    "\n",
    "# 3. Crear una matriz aleatoria de 3x3 con enteros entre 1 y 20.\n",
    "matriz_aleatoria = np.random.randint(1, 20, size=(3, 3))\n",
    "print(\"3. Matriz aleatoria 3x3 de enteros:\")\n",
    "print(matriz_aleatoria)\n",
    "\n",
    "print(\"-\" * 40)\n",
    "\n",
    "# 4. Aplicar np.sqrt() y np.log() sobre las matrices creadas.\n",
    "print(\"4. Aplicando funciones matemáticas:\")\n",
    "\n",
    "# Raíz cuadrada (sqrt)\n",
    "print(\"\\nRaíz cuadrada de la primera matriz:\")\n",
    "print(np.sqrt(matriz_arange))\n",
    "\n",
    "print(\"\\nRaíz cuadrada de la matriz aleatoria:\")\n",
    "print(np.sqrt(matriz_aleatoria))\n",
    "\n",
    "# Logaritmo natural (log)\n",
    "print(\"\\nLogaritmo natural de la primera matriz:\")\n",
    "print(np.log(matriz_arange))\n",
    "\n",
    "print(\"\\nLogaritmo natural de la matriz aleatoria:\")\n",
    "print(np.log(matriz_aleatoria))\n",
    "\n",
    "\n",
    "print(\"\\nRaíz cuadrada del Arreglo de 10 elementos:\")\n",
    "print(np.sqrt(arreglo_linspace))\n"
   ],
   "outputs": [
    {
     "name": "stdout",
     "output_type": "stream",
     "text": [
      "1. Matriz 4x4 creada con arange y reshape:\n",
      "[[ 1  2  3  4]\n",
      " [ 5  6  7  8]\n",
      " [ 9 10 11 12]\n",
      " [13 14 15 16]]\n",
      "----------------------------------------\n",
      "2. Arreglo de 10 elementos equidistantes (linspace):\n",
      "[  0.          11.11111111  22.22222222  33.33333333  44.44444444\n",
      "  55.55555556  66.66666667  77.77777778  88.88888889 100.        ]\n",
      "----------------------------------------\n",
      "3. Matriz aleatoria 3x3 de enteros:\n",
      "[[ 1  2 18]\n",
      " [ 1  3 17]\n",
      " [ 7 12 19]]\n",
      "----------------------------------------\n",
      "4. Aplicando funciones matemáticas:\n",
      "\n",
      "Raíz cuadrada de la primera matriz:\n",
      "[[1.         1.41421356 1.73205081 2.        ]\n",
      " [2.23606798 2.44948974 2.64575131 2.82842712]\n",
      " [3.         3.16227766 3.31662479 3.46410162]\n",
      " [3.60555128 3.74165739 3.87298335 4.        ]]\n",
      "\n",
      "Raíz cuadrada de la matriz aleatoria:\n",
      "[[1.         1.41421356 4.24264069]\n",
      " [1.         1.73205081 4.12310563]\n",
      " [2.64575131 3.46410162 4.35889894]]\n",
      "\n",
      "Logaritmo natural de la primera matriz:\n",
      "[[0.         0.69314718 1.09861229 1.38629436]\n",
      " [1.60943791 1.79175947 1.94591015 2.07944154]\n",
      " [2.19722458 2.30258509 2.39789527 2.48490665]\n",
      " [2.56494936 2.63905733 2.7080502  2.77258872]]\n",
      "\n",
      "Logaritmo natural de la matriz aleatoria:\n",
      "[[0.         0.69314718 2.89037176]\n",
      " [0.         1.09861229 2.83321334]\n",
      " [1.94591015 2.48490665 2.94443898]]\n",
      "\n",
      "Raíz cuadrada del Arreglo de 10 elementos:\n",
      "[ 0.          3.33333333  4.71404521  5.77350269  6.66666667  7.45355992\n",
      "  8.16496581  8.81917104  9.42809042 10.        ]\n"
     ]
    }
   ],
   "execution_count": 1
  },
  {
   "metadata": {},
   "cell_type": "markdown",
   "source": [
    "## 5. Diferencias al Aplicar Funciones (Enteros vs. Flotantes)\n",
    "La pregunta final es clave para entender cómo opera NumPy.\n",
    "\n",
    "Universalidad de la Aplicación: Las funciones matemáticas de NumPy (como np.sqrt y np.log) se aplican elemento por elemento a todo el arreglo, sin importar si sus datos son de tipo entero (int) o de punto flotante (float). No necesitas escribir un código diferente para cada tipo de dato.\n",
    "\n",
    "El Tipo de Dato del Resultado (dtype): La principal diferencia que se nota está en el tipo de dato del arreglo resultante.\n",
    "\n",
    "Cuando aplicas una función como np.sqrt o np.log a un arreglo de enteros, NumPy casi siempre devolverá un nuevo arreglo de flotantes (float64).\n",
    "¿Por qué? Porque el resultado de la operación (ej: la raíz cuadrada de 2 o el logaritmo de 5) generalmente no es un número entero. Para no perder la parte decimal y mantener la precisión del cálculo, NumPy automáticamente \"promociona\" el tipo de dato a flotante.\n",
    "En el caso del arreglo creado con np.linspace, como ya es de tipo flotante, el resultado de aplicarle estas funciones seguirá siendo un arreglo de tipo flotante."
   ],
   "id": "5584150f86952517"
  }
 ],
 "metadata": {
  "kernelspec": {
   "display_name": "Python [conda env:base] *",
   "language": "python",
   "name": "conda-base-py"
  },
  "language_info": {
   "codemirror_mode": {
    "name": "ipython",
    "version": 2
   },
   "file_extension": ".py",
   "mimetype": "text/x-python",
   "name": "python",
   "nbconvert_exporter": "python",
   "pygments_lexer": "ipython2",
   "version": "2.7.6"
  }
 },
 "nbformat": 4,
 "nbformat_minor": 5
}
