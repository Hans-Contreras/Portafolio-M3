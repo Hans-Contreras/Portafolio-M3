{
 "cells": [
  {
   "cell_type": "code",
   "id": "initial_id",
   "metadata": {
    "collapsed": true,
    "ExecuteTime": {
     "end_time": "2025-06-20T18:54:54.419244Z",
     "start_time": "2025-06-20T18:54:54.350845Z"
    }
   },
   "source": [
    "# Paso 1: Importar la librería NumPy\n",
    "import numpy as np\n",
    "\n",
    "# Paso 2: Crear una matriz A de 3x3 con números del 1 al 9\n",
    "A = np.array([[1, 2, 3],\n",
    "              [4, 5, 6],\n",
    "              [7, 8, 9]])\n",
    "print(\"Matriz A original:\")\n",
    "print(A)\n",
    "print(\"-\" * 20)\n",
    "\n",
    "# Paso 3: Realizar las siguientes operaciones\n",
    "\n",
    "# Sumar 10 a cada elemento de la matriz\n",
    "suma = A + 10\n",
    "print(\"Matriz A + 10:\")\n",
    "print(suma)\n",
    "print(\"-\" * 20)\n",
    "\n",
    "# Multiplicar la matriz por 2\n",
    "multiplicacion = A * 2\n",
    "print(\"Matriz A * 2:\")\n",
    "print(multiplicacion)\n",
    "print(\"-\" * 20)\n",
    "\n",
    "# Extraer los elementos mayores a 5\n",
    "mayores_a_5 = A[A > 5]\n",
    "print(\"Elementos de A mayores a 5:\")\n",
    "print(mayores_a_5)\n",
    "print(\"-\" * 20)\n",
    "\n",
    "# Paso 4: Analizar asignación y copia\n",
    "\n",
    "# Asignación (B es una referencia a A)\n",
    "print(\"Análisis de Asignación (Referencia):\")\n",
    "B = A\n",
    "# Modificamos un elemento de B\n",
    "B[0, 0] = 99\n",
    "print(\"Matriz B modificada:\")\n",
    "print(B)\n",
    "print(\"¿Cambió también A? Sí, porque B es una referencia a A.\")\n",
    "print(\"Matriz A después de modificar B:\")\n",
    "print(A)\n",
    "print(\"-\" * 20)\n",
    "\n",
    "# Para el siguiente paso, restauramos A a su valor original\n",
    "A[0, 0] = 1\n",
    "\n",
    "# Copia (B es una copia independiente de A)\n",
    "print(\"Análisis de Copia:\")\n",
    "B = A.copy()\n",
    "# Modificamos un elemento de B\n",
    "B[0, 0] = 555\n",
    "print(\"Matriz B (copia) modificada:\")\n",
    "print(B)\n",
    "print(\"¿Cambió también A? No, porque B es una copia independiente.\")\n",
    "print(\"Matriz A después de modificar la copia B:\")\n",
    "print(A)\n"
   ],
   "outputs": [
    {
     "name": "stdout",
     "output_type": "stream",
     "text": [
      "Matriz A original:\n",
      "[[1 2 3]\n",
      " [4 5 6]\n",
      " [7 8 9]]\n",
      "--------------------\n",
      "Matriz A + 10:\n",
      "[[11 12 13]\n",
      " [14 15 16]\n",
      " [17 18 19]]\n",
      "--------------------\n",
      "Matriz A * 2:\n",
      "[[ 2  4  6]\n",
      " [ 8 10 12]\n",
      " [14 16 18]]\n",
      "--------------------\n",
      "Elementos de A mayores a 5:\n",
      "[6 7 8 9]\n",
      "--------------------\n",
      "Análisis de Asignación (Referencia):\n",
      "Matriz B modificada:\n",
      "[[99  2  3]\n",
      " [ 4  5  6]\n",
      " [ 7  8  9]]\n",
      "¿Cambió también A? Sí, porque B es una referencia a A.\n",
      "Matriz A después de modificar B:\n",
      "[[99  2  3]\n",
      " [ 4  5  6]\n",
      " [ 7  8  9]]\n",
      "--------------------\n",
      "Análisis de Copia:\n",
      "Matriz B (copia) modificada:\n",
      "[[555   2   3]\n",
      " [  4   5   6]\n",
      " [  7   8   9]]\n",
      "¿Cambió también A? No, porque B es una copia independiente.\n",
      "Matriz A después de modificar la copia B:\n",
      "[[1 2 3]\n",
      " [4 5 6]\n",
      " [7 8 9]]\n"
     ]
    }
   ],
   "execution_count": 1
  },
  {
   "metadata": {},
   "cell_type": "code",
   "outputs": [],
   "execution_count": null,
   "source": "",
   "id": "3d5ec2ce30e18ff7"
  },
  {
   "metadata": {},
   "cell_type": "markdown",
   "source": [
    "## Explicación: ¿Copia o Referencia?\n",
    "La parte final del ejercicio demuestra una de las características más importantes de NumPy (y de Python en general) al manejar objetos.\n",
    "\n",
    "Asignación (B = A): Cuando haces B = A, no estás creando una nueva matriz. Simplemente estás creando una nueva \"etiqueta\" o \"apodo\" (B) que apunta al mismo objeto en la memoria al que apunta A. Por lo tanto, cualquier cambio que hagas a través de B se reflejará en A (y viceversa), porque ambos nombres se refieren a la misma matriz. A esto se le llama crear una vista o una referencia.\n",
    "\n",
    "Copia (B = A.copy()): Al usar el método .copy(), estás creando una matriz completamente nueva e independiente en otra ubicación de la memoria, con los mismos valores que A. Como B es ahora un objeto separado, los cambios que realices en B no afectarán en absoluto a la matriz original A."
   ],
   "id": "8f3dc3f0126bfe11"
  }
 ],
 "metadata": {
  "kernelspec": {
   "display_name": "Python [conda env:base] *",
   "language": "python",
   "name": "conda-base-py"
  },
  "language_info": {
   "codemirror_mode": {
    "name": "ipython",
    "version": 2
   },
   "file_extension": ".py",
   "mimetype": "text/x-python",
   "name": "python",
   "nbconvert_exporter": "python",
   "pygments_lexer": "ipython2",
   "version": "2.7.6"
  }
 },
 "nbformat": 4,
 "nbformat_minor": 5
}
