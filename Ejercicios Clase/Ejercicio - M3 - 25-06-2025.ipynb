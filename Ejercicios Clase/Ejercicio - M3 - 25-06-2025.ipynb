{
 "cells": [
  {
   "cell_type": "code",
   "id": "initial_id",
   "metadata": {
    "collapsed": true,
    "ExecuteTime": {
     "end_time": "2025-06-26T01:29:52.808149Z",
     "start_time": "2025-06-26T01:29:52.804532Z"
    }
   },
   "source": [
    "import matplotlib\n",
    "#importar librerias\n",
    "import numpy as np\n",
    "import matplotlib.pyplot as plt\n",
    "import pandas as pd\n",
    "import seaborn\n",
    "import seaborn as sns\n",
    "\n",
    "print(f\"version instalada de numpy: {np.__version__}\")\n",
    "print(f\"version instalada de pandas: {pd.__version__}\")\n",
    "print(f\"version instalada de matplotlib: {plt.matplotlib.__version__}\")\n",
    "print(f\"version instalada de seaborn: {sns.__version__}\")\n",
    "\n"
   ],
   "outputs": [
    {
     "name": "stdout",
     "output_type": "stream",
     "text": [
      "version instalada de numpy: 1.26.4\n",
      "version instalada de pandas: 2.2.2\n",
      "version instalada de matplotlib: 3.9.2\n",
      "version instalada de seaborn: 0.13.2\n"
     ]
    }
   ],
   "execution_count": 3
  },
  {
   "metadata": {
    "ExecuteTime": {
     "end_time": "2025-06-26T01:52:58.854288Z",
     "start_time": "2025-06-26T01:52:58.848048Z"
    }
   },
   "cell_type": "code",
   "source": [
    "encabezados = [\"Gold\",\"Silver\",\"Bronze\",\"Totals\",\"Country\"]\n",
    "df = pd.read_csv(\"medallas.csv\", header=None, names=encabezados, skiprows=1)\n",
    "df.head()\n"
   ],
   "id": "5b75295c45731435",
   "outputs": [
    {
     "data": {
      "text/plain": [
       "   Gold  Silver  Bronze  Totals     Country\n",
       "0   NaN     1.0     2.0       3   Argentina\n",
       "1   NaN     2.0     2.0       4     Armenia\n",
       "2  17.0     7.0    22.0      46   Australia\n",
       "3   1.0     1.0     5.0       7     Austria\n",
       "4   NaN     3.0     4.0       7  Azerbaijan"
      ],
      "text/html": [
       "<div>\n",
       "<style scoped>\n",
       "    .dataframe tbody tr th:only-of-type {\n",
       "        vertical-align: middle;\n",
       "    }\n",
       "\n",
       "    .dataframe tbody tr th {\n",
       "        vertical-align: top;\n",
       "    }\n",
       "\n",
       "    .dataframe thead th {\n",
       "        text-align: right;\n",
       "    }\n",
       "</style>\n",
       "<table border=\"1\" class=\"dataframe\">\n",
       "  <thead>\n",
       "    <tr style=\"text-align: right;\">\n",
       "      <th></th>\n",
       "      <th>Gold</th>\n",
       "      <th>Silver</th>\n",
       "      <th>Bronze</th>\n",
       "      <th>Totals</th>\n",
       "      <th>Country</th>\n",
       "    </tr>\n",
       "  </thead>\n",
       "  <tbody>\n",
       "    <tr>\n",
       "      <th>0</th>\n",
       "      <td>NaN</td>\n",
       "      <td>1.0</td>\n",
       "      <td>2.0</td>\n",
       "      <td>3</td>\n",
       "      <td>Argentina</td>\n",
       "    </tr>\n",
       "    <tr>\n",
       "      <th>1</th>\n",
       "      <td>NaN</td>\n",
       "      <td>2.0</td>\n",
       "      <td>2.0</td>\n",
       "      <td>4</td>\n",
       "      <td>Armenia</td>\n",
       "    </tr>\n",
       "    <tr>\n",
       "      <th>2</th>\n",
       "      <td>17.0</td>\n",
       "      <td>7.0</td>\n",
       "      <td>22.0</td>\n",
       "      <td>46</td>\n",
       "      <td>Australia</td>\n",
       "    </tr>\n",
       "    <tr>\n",
       "      <th>3</th>\n",
       "      <td>1.0</td>\n",
       "      <td>1.0</td>\n",
       "      <td>5.0</td>\n",
       "      <td>7</td>\n",
       "      <td>Austria</td>\n",
       "    </tr>\n",
       "    <tr>\n",
       "      <th>4</th>\n",
       "      <td>NaN</td>\n",
       "      <td>3.0</td>\n",
       "      <td>4.0</td>\n",
       "      <td>7</td>\n",
       "      <td>Azerbaijan</td>\n",
       "    </tr>\n",
       "  </tbody>\n",
       "</table>\n",
       "</div>"
      ]
     },
     "execution_count": 14,
     "metadata": {},
     "output_type": "execute_result"
    }
   ],
   "execution_count": 14
  },
  {
   "metadata": {
    "ExecuteTime": {
     "end_time": "2025-06-26T02:00:26.599556Z",
     "start_time": "2025-06-26T02:00:26.595048Z"
    }
   },
   "cell_type": "code",
   "source": "df.isnull().sum()",
   "id": "98ff490ea8f1d69c",
   "outputs": [
    {
     "data": {
      "text/plain": [
       "Gold       28\n",
       "Silver     24\n",
       "Bronze     17\n",
       "Totals      0\n",
       "Country     0\n",
       "dtype: int64"
      ]
     },
     "execution_count": 19,
     "metadata": {},
     "output_type": "execute_result"
    }
   ],
   "execution_count": 19
  },
  {
   "metadata": {
    "ExecuteTime": {
     "end_time": "2025-06-26T02:00:28.713299Z",
     "start_time": "2025-06-26T02:00:28.596403Z"
    }
   },
   "cell_type": "code",
   "source": [
    "plt.figure(figsize=(8, 5))\n",
    "df.isnull().sum().plot(kind='bar')\n",
    "plt.title('Conteo de Valores Nulos por Columna')\n",
    "plt.ylabel('Cantidad de Valores Nulos')\n",
    "plt.xticks(rotation=0)\n",
    "plt.show()"
   ],
   "id": "89073a96da45d5d5",
   "outputs": [
    {
     "data": {
      "text/plain": [
       "<Figure size 800x500 with 1 Axes>"
      ],
      "image/png": "[encoded data removed]"
     },
     "metadata": {},
     "output_type": "display_data"
    }
   ],
   "execution_count": 20
  },
  {
   "metadata": {
    "ExecuteTime": {
     "end_time": "2025-06-26T02:01:05.596147Z",
     "start_time": "2025-06-26T02:01:05.590573Z"
    }
   },
   "cell_type": "code",
   "source": [
    "df_imputacion = df.copy()\n",
    "df_imputacion.fillna(0, inplace=True)\n",
    "df_imputacion.isnull().sum()"
   ],
   "id": "9fb407f810c05ec7",
   "outputs": [
    {
     "data": {
      "text/plain": [
       "Gold       0\n",
       "Silver     0\n",
       "Bronze     0\n",
       "Totals     0\n",
       "Country    0\n",
       "dtype: int64"
      ]
     },
     "execution_count": 21,
     "metadata": {},
     "output_type": "execute_result"
    }
   ],
   "execution_count": 21
  },
  {
   "metadata": {},
   "cell_type": "code",
   "outputs": [],
   "execution_count": null,
   "source": "",
   "id": "cb3204fa002b6005"
  }
 ],
 "metadata": {
  "kernelspec": {
   "display_name": "Python [conda env:base] *",
   "language": "python",
   "name": "conda-base-py"
  },
  "language_info": {
   "codemirror_mode": {
    "name": "ipython",
    "version": 2
   },
   "file_extension": ".py",
   "mimetype": "text/x-python",
   "name": "python",
   "nbconvert_exporter": "python",
   "pygments_lexer": "ipython2",
   "version": "2.7.6"
  }
 },
 "nbformat": 4,
 "nbformat_minor": 5
}
