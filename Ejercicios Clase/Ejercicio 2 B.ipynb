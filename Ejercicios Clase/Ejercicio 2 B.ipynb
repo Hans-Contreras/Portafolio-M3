{
 "cells": [
  {
   "cell_type": "code",
   "id": "initial_id",
   "metadata": {
    "collapsed": true,
    "ExecuteTime": {
     "end_time": "2025-06-24T02:07:19.237106Z",
     "start_time": "2025-06-24T02:07:18.604309Z"
    }
   },
   "source": [
    "import pandas as pd\n",
    "\n",
    "# --- Paso 1: Definir los nombres de los archivos ---\n",
    "# Usamos variables para que sea fácil cambiar los nombres si es necesario.\n",
    "archivo_csv_entrada = 'medallas (1).csv'\n",
    "archivo_excel_salida = 'medallas_limpio.xlsx'\n",
    "\n",
    "try:\n",
    "    # --- Paso 2: Leer el archivo CSV y cargarlo en un DataFrame ---\n",
    "    # La función read_csv convierte automáticamente los datos en un DataFrame.\n",
    "    df = pd.read_csv(archivo_csv_entrada)\n",
    "    print(f\"Archivo '{archivo_csv_entrada}' cargado exitosamente.\")\n",
    "    print(\"DataFrame original:\")\n",
    "    print(df)\n",
    "\n",
    "    # --- Paso 3: Limpiar los datos rellenando vacíos con ceros ---\n",
    "    # El método .fillna(0) reemplaza todos los valores nulos (NaN) con 0.\n",
    "    # Creamos un nuevo DataFrame limpio para mantener el original intacto.\n",
    "    df_limpio = df.fillna(0)\n",
    "\n",
    "    # Opcional: Si al rellenar con 0 alguna columna numérica se convirtió en flotante,\n",
    "    # podríamos querer convertirla de nuevo a entero.\n",
    "    # Por ejemplo, para las columnas de medallas:\n",
    "    columnas_medallas = ['Oro', 'Plata', 'Bronce', 'Total']\n",
    "    for col in columnas_medallas:\n",
    "        if col in df_limpio.columns:\n",
    "            # Convertimos la columna a tipo entero.\n",
    "            df_limpio[col] = df_limpio[col].astype(int)\n",
    "\n",
    "    print(\"\\nDataFrame después de limpiar (rellenar vacíos con 0):\")\n",
    "    print(df_limpio)\n",
    "\n",
    "    # --- Paso 4: Transformar/Exportar el DataFrame a un archivo Excel ---\n",
    "    # El método .to_excel() guarda el DataFrame en el formato .xlsx.\n",
    "    # Usamos index=False para evitar que se escriba una columna extra con el índice (0, 1, 2...).\n",
    "    df_limpio.to_excel(archivo_excel_salida, index=False)\n",
    "\n",
    "    print(f\"\\n¡Proceso completado! El DataFrame limpio ha sido guardado como '{archivo_excel_salida}'\")\n",
    "\n",
    "except FileNotFoundError:\n",
    "    print(f\"Error: No se pudo encontrar el archivo '{archivo_csv_entrada}'.\")\n",
    "except Exception as e:\n",
    "    print(f\"Ocurrió un error inesperado: {e}\")"
   ],
   "outputs": [
    {
     "name": "stdout",
     "output_type": "stream",
     "text": [
      "Archivo 'medallas (1).csv' cargado exitosamente.\n",
      "DataFrame original:\n",
      "     Oro  Plata  Bronce  Total          Pais\n",
      "0    NaN    1.0     2.0      3     Argentina\n",
      "1    NaN    2.0     2.0      4       Armenia\n",
      "2   17.0    7.0    22.0     46     Australia\n",
      "3    1.0    1.0     5.0      7       Austria\n",
      "4    NaN    3.0     4.0      7    Azerbaijan\n",
      "..   ...    ...     ...    ...           ...\n",
      "88   NaN    1.0     NaN      1  Turkmenistan\n",
      "89   2.0    1.0     1.0      4        Uganda\n",
      "90   1.0    6.0    12.0     19       Ukraine\n",
      "91   3.0    NaN     2.0      5    Uzbekistan\n",
      "92   1.0    3.0     NaN      4     Venezuela\n",
      "\n",
      "[93 rows x 5 columns]\n",
      "\n",
      "DataFrame después de limpiar (rellenar vacíos con 0):\n",
      "    Oro  Plata  Bronce  Total          Pais\n",
      "0     0      1       2      3     Argentina\n",
      "1     0      2       2      4       Armenia\n",
      "2    17      7      22     46     Australia\n",
      "3     1      1       5      7       Austria\n",
      "4     0      3       4      7    Azerbaijan\n",
      "..  ...    ...     ...    ...           ...\n",
      "88    0      1       0      1  Turkmenistan\n",
      "89    2      1       1      4        Uganda\n",
      "90    1      6      12     19       Ukraine\n",
      "91    3      0       2      5    Uzbekistan\n",
      "92    1      3       0      4     Venezuela\n",
      "\n",
      "[93 rows x 5 columns]\n",
      "\n",
      "¡Proceso completado! El DataFrame limpio ha sido guardado como 'medallas_limpio.xlsx'\n"
     ]
    }
   ],
   "execution_count": 1
  }
 ],
 "metadata": {
  "kernelspec": {
   "display_name": "Python [conda env:base] *",
   "language": "python",
   "name": "conda-base-py"
  },
  "language_info": {
   "codemirror_mode": {
    "name": "ipython",
    "version": 2
   },
   "file_extension": ".py",
   "mimetype": "text/x-python",
   "name": "python",
   "nbconvert_exporter": "python",
   "pygments_lexer": "ipython2",
   "version": "2.7.6"
  }
 },
 "nbformat": 4,
 "nbformat_minor": 5
}
