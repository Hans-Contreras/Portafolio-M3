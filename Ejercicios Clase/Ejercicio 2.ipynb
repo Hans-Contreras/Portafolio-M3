{
 "cells": [
  {
   "metadata": {},
   "cell_type": "code",
   "outputs": [],
   "execution_count": null,
   "source": [
    "import pandas as pd\n",
    "\n",
    "df_medallas = pd.read_csv('medallas.csv')\n",
    "df_medallas.head()\n",
    "\n",
    "\n",
    "\n",
    "df_excel_medallas.info()\n",
    "\n",
    "df_excel_medallas.fillna(0)\n"
   ],
   "id": "74121acd19ed2f41"
  },
  {
   "metadata": {},
   "cell_type": "code",
   "outputs": [],
   "execution_count": null,
   "source": "",
   "id": "4d5b7577cf4a2b8b"
  }
 ],
 "metadata": {
  "kernelspec": {
   "display_name": "Python [conda env:base] *",
   "language": "python",
   "name": "conda-base-py"
  },
  "language_info": {
   "codemirror_mode": {
    "name": "ipython",
    "version": 2
   },
   "file_extension": ".py",
   "mimetype": "text/x-python",
   "name": "python",
   "nbconvert_exporter": "python",
   "pygments_lexer": "ipython2",
   "version": "2.7.6"
  }
 },
 "nbformat": 4,
 "nbformat_minor": 5
}
