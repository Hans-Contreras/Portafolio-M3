{
 "cells": [
  {
   "metadata": {},
   "cell_type": "markdown",
   "source": "**Ejercicio de Clase: Generación de datos y redimensionado**\n",
   "id": "70ea7b043b7aa9b7"
  },
  {
   "cell_type": "code",
   "id": "initial_id",
   "metadata": {
    "collapsed": true,
    "ExecuteTime": {
     "end_time": "2025-07-05T23:01:51.000050Z",
     "start_time": "2025-07-05T23:01:50.931505Z"
    }
   },
   "source": [
    "# Se importa la librería NumPy para poder utilizar sus funciones.\n",
    "import numpy as np\n",
    "\n",
    "# Paso 1: Crea un arreglo x con np.arange(1, 17) y redimensionalo en una matriz de 4x4.\n",
    "# La función np.arange() genera una secuencia de números.\n",
    "# La función reshape() cambia la estructura del arreglo sin modificar sus datos.\n",
    "arreglo_x = np.arange(1, 17)\n",
    "matriz_x = arreglo_x.reshape(4, 4)\n",
    "print(\"Paso 1: Matriz 4x4 creada con arange y reshape:\")\n",
    "print(matriz_x)\n",
    "print(\"-\" * 50)\n",
    "\n",
    "# Paso 2: Genera un arreglo de 10 elementos equidistantes entre 0 y 100 usando np.linspace().\n",
    "# np.linspace() genera un vector con valores equidistantes en un rango.\n",
    "arreglo_linspace = np.linspace(0, 100, 10)\n",
    "print(\"Paso 2: Arreglo de 10 elementos entre 0 y 100:\")\n",
    "print(arreglo_linspace)\n",
    "print(\"-\" * 50)\n",
    "\n",
    "# Paso 3: Crea una matriz aleatoria de 3x3 con enteros entre 1 y 20 usando np.random.randint().\n",
    "# np.random.randint() genera una matriz con números enteros aleatorios.\n",
    "matriz_aleatoria = np.random.randint(1, 21, size=(3, 3))\n",
    "print(\"Paso 3: Matriz aleatoria 3x3:\")\n",
    "print(matriz_aleatoria)\n",
    "print(\"-\" * 50)\n",
    "\n",
    "# Paso 4: Aplica np.sqrt() y np.log() sobre las matrices creadas.\n",
    "# NumPy proporciona funciones matemáticas para aplicar a cada elemento de un arreglo.\n",
    "print(\"Paso 4: Aplicación de funciones matemáticas:\")\n",
    "\n",
    "# Sobre la matriz de enteros\n",
    "raiz_matriz_x = np.sqrt(matriz_x)\n",
    "log_matriz_x = np.log(matriz_x)\n",
    "print(\"\\nRaíz cuadrada de la matriz del paso 1 (devuelve floats):\")\n",
    "print(raiz_matriz_x)\n",
    "print(\"\\nLogaritmo de la matriz del paso 1 (devuelve floats):\")\n",
    "print(log_matriz_x)\n",
    "\n",
    "# Sobre el arreglo de floats (linspace)\n",
    "# Nota: np.log(0) resultará en -inf y generará una advertencia (lo cual es esperado).\n",
    "raiz_linspace = np.sqrt(arreglo_linspace)\n",
    "log_linspace = np.log(arreglo_linspace)\n",
    "print(\"\\nRaíz cuadrada del arreglo del paso 2:\")\n",
    "print(raiz_linspace)\n",
    "print(\"\\nLogaritmo del arreglo del paso 2 (con -inf para log(0)):\")\n",
    "print(log_linspace)\n",
    "print(\"-\" * 50)"
   ],
   "outputs": [
    {
     "name": "stdout",
     "output_type": "stream",
     "text": [
      "Paso 1: Matriz 4x4 creada con arange y reshape:\n",
      "[[ 1  2  3  4]\n",
      " [ 5  6  7  8]\n",
      " [ 9 10 11 12]\n",
      " [13 14 15 16]]\n",
      "--------------------------------------------------\n",
      "Paso 2: Arreglo de 10 elementos entre 0 y 100:\n",
      "[  0.          11.11111111  22.22222222  33.33333333  44.44444444\n",
      "  55.55555556  66.66666667  77.77777778  88.88888889 100.        ]\n",
      "--------------------------------------------------\n",
      "Paso 3: Matriz aleatoria 3x3:\n",
      "[[10  2  5]\n",
      " [ 6  8  9]\n",
      " [ 4 16 19]]\n",
      "--------------------------------------------------\n",
      "Paso 4: Aplicación de funciones matemáticas:\n",
      "\n",
      "Raíz cuadrada de la matriz del paso 1 (devuelve floats):\n",
      "[[1.         1.41421356 1.73205081 2.        ]\n",
      " [2.23606798 2.44948974 2.64575131 2.82842712]\n",
      " [3.         3.16227766 3.31662479 3.46410162]\n",
      " [3.60555128 3.74165739 3.87298335 4.        ]]\n",
      "\n",
      "Logaritmo de la matriz del paso 1 (devuelve floats):\n",
      "[[0.         0.69314718 1.09861229 1.38629436]\n",
      " [1.60943791 1.79175947 1.94591015 2.07944154]\n",
      " [2.19722458 2.30258509 2.39789527 2.48490665]\n",
      " [2.56494936 2.63905733 2.7080502  2.77258872]]\n",
      "\n",
      "Raíz cuadrada del arreglo del paso 2:\n",
      "[ 0.          3.33333333  4.71404521  5.77350269  6.66666667  7.45355992\n",
      "  8.16496581  8.81917104  9.42809042 10.        ]\n",
      "\n",
      "Logaritmo del arreglo del paso 2 (con -inf para log(0)):\n",
      "[      -inf 2.40794561 3.10109279 3.5065579  3.79423997 4.01738352\n",
      " 4.19970508 4.35385576 4.48738715 4.60517019]\n",
      "--------------------------------------------------\n"
     ]
    },
    {
     "name": "stderr",
     "output_type": "stream",
     "text": [
      "C:\\Users\\hcr88\\AppData\\Local\\Temp\\ipykernel_7840\\3810592683.py:42: RuntimeWarning: divide by zero encountered in log\n",
      "  log_linspace = np.log(arreglo_linspace)\n"
     ]
    }
   ],
   "execution_count": 1
  },
  {
   "metadata": {},
   "cell_type": "markdown",
   "source": [
    "**<p style=\"font-size:18px; color:auto;\">Análisis: Aplicación de Funciones (Paso 5)</p>**\n",
    "\n",
    "¿Qué diferencias notas en la forma de aplicar funciones sobre arreglos enteros vs flotantes?\n",
    "\n",
    "La diferencia fundamental no está en cómo se aplica la función (la sintaxis es idéntica), sino en el tipo de dato del resultado.\n",
    "\n",
    "* **Arreglos de Enteros:** Cuando aplicas una función matemática como np.sqrt() o np.log() a un arreglo de enteros, NumPy realiza la operación y devuelve un nuevo arreglo de tipo flotante (float). Esto es necesario porque el resultado de estas operaciones raramente es un número entero (por ejemplo, sqrt(2) es 1.414...). NumPy maneja esta conversión de tipo de dato automáticamente.\n",
    "\n",
    "* **Arreglos de Flotantes:** Cuando la misma función se aplica a un arreglo que ya contiene flotantes (como el generado por np.linspace), el resultado es, como es de esperar, otro arreglo de flotantes.\n",
    "\n",
    "En resumen, la principal diferencia es la conversión de tipo implícita que NumPy realiza al operar sobre enteros para no perder la precisión decimal del resultado."
   ],
   "id": "468f10fe95f4564f"
  }
 ],
 "metadata": {
  "kernelspec": {
   "display_name": "Python [conda env:base] *",
   "language": "python",
   "name": "conda-base-py"
  },
  "language_info": {
   "codemirror_mode": {
    "name": "ipython",
    "version": 2
   },
   "file_extension": ".py",
   "mimetype": "text/x-python",
   "name": "python",
   "nbconvert_exporter": "python",
   "pygments_lexer": "ipython2",
   "version": "2.7.6"
  }
 },
 "nbformat": 4,
 "nbformat_minor": 5
}
