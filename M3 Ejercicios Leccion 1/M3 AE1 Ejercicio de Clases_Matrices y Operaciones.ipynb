{
 "cells": [
  {
   "metadata": {},
   "cell_type": "markdown",
   "source": "**Ejercicio de Clase: Explorando Matrices y operaciones básicas**",
   "id": "e99193d3c15389cc"
  },
  {
   "metadata": {
    "ExecuteTime": {
     "end_time": "2025-07-05T23:03:53.444192Z",
     "start_time": "2025-07-05T23:03:53.439178Z"
    }
   },
   "cell_type": "code",
   "source": [
    "# Paso 1: Importa la librería NumPy como np.\n",
    "import numpy as np\n",
    "\n",
    "# Paso 2: Crea una matriz A de 3x3 con números enteros del 1 al 9.\n",
    "# La consigna pide crearla a partir de una lista de listas.\n",
    "A = np.array([[1, 2, 3],\n",
    "              [4, 5, 6],\n",
    "              [7, 8, 9]])\n",
    "print(\"Matriz Original A:\")\n",
    "print(A)\n",
    "print(\"-\" * 30)\n",
    "\n",
    "# Paso 3: Realiza las siguientes operaciones.\n",
    "# Suma 10 a cada elemento de la matriz.\n",
    "suma = A + 10\n",
    "print(\"Suma de A + 10:\")\n",
    "print(suma)\n",
    "print(\"-\" * 30)\n",
    "\n",
    "# Multiplica la matriz por 2.\n",
    "multiplicacion = A * 2\n",
    "print(\"Multiplicación de A * 2:\")\n",
    "print(multiplicacion)\n",
    "print(\"-\" * 30)\n",
    "\n",
    "# Extrae los elementos mayores a 5 utilizando selección condicional.\n",
    "mayores_a_5 = A[A > 5]\n",
    "print(\"Elementos mayores a 5:\")\n",
    "print(mayores_a_5)\n",
    "print(\"-\" * 30)\n",
    "\n",
    "# Paso 4: Analiza la diferencia entre asignación (referencia) y copia.\n",
    "\n",
    "# --- Primer caso: Asignación (B = A) ---\n",
    "print(\"Análisis de Asignación (Referencia):\")\n",
    "B = A\n",
    "# Modifica un valor de \"B\".\n",
    "B[0, 0] = 99\n",
    "print(\"Matriz B modificada:\")\n",
    "print(B)\n",
    "print(\"¿Cambió también A?\")\n",
    "print(\"Matriz A después de modificar B:\")\n",
    "print(A) # Se observa que \"A\" también cambió.\n",
    "print(\"-\" * 30)\n",
    "\n",
    "# --- Segundo caso: Copia (B = A.copy()) ---\n",
    "print(\"Análisis con .copy():\")\n",
    "# Reseteamos \"A\" a su valor original para una comparación justa.\n",
    "A = np.array([[1, 2, 3], [4, 5, 6], [7, 8, 9]])\n",
    "B = A.copy()\n",
    "# Modifica un valor de \"B\".\n",
    "B[0, 0] = 99\n",
    "print(\"Matriz B (copia) modificada:\")\n",
    "print(B)\n",
    "print(\"¿Qué ocurrió con A esta vez?\")\n",
    "print(\"Matriz A después de modificar la copia B:\")\n",
    "print(A) # Se observa que \"A\" permanece sin cambios."
   ],
   "id": "646e8ee96b7bd738",
   "outputs": [
    {
     "name": "stdout",
     "output_type": "stream",
     "text": [
      "Matriz Original A:\n",
      "[[1 2 3]\n",
      " [4 5 6]\n",
      " [7 8 9]]\n",
      "------------------------------\n",
      "Suma de A + 10:\n",
      "[[11 12 13]\n",
      " [14 15 16]\n",
      " [17 18 19]]\n",
      "------------------------------\n",
      "Multiplicación de A * 2:\n",
      "[[ 2  4  6]\n",
      " [ 8 10 12]\n",
      " [14 16 18]]\n",
      "------------------------------\n",
      "Elementos mayores a 5:\n",
      "[6 7 8 9]\n",
      "------------------------------\n",
      "Análisis de Asignación (Referencia):\n",
      "Matriz B modificada:\n",
      "[[99  2  3]\n",
      " [ 4  5  6]\n",
      " [ 7  8  9]]\n",
      "¿Cambió también A?\n",
      "Matriz A después de modificar B:\n",
      "[[99  2  3]\n",
      " [ 4  5  6]\n",
      " [ 7  8  9]]\n",
      "------------------------------\n",
      "Análisis con .copy():\n",
      "Matriz B (copia) modificada:\n",
      "[[99  2  3]\n",
      " [ 4  5  6]\n",
      " [ 7  8  9]]\n",
      "¿Qué ocurrió con A esta vez?\n",
      "Matriz A después de modificar la copia B:\n",
      "[[1 2 3]\n",
      " [4 5 6]\n",
      " [7 8 9]]\n"
     ]
    }
   ],
   "execution_count": 3
  },
  {
   "metadata": {},
   "cell_type": "markdown",
   "source": [
    "**<p style=\"font-size:18px; color:auto;\">Análisis de Copia vs. Referencia</p>**\n",
    "\n",
    "El último paso del ejercicio demuestra un concepto fundamental de NumPy: la diferencia entre una referencia y una copia de un array.\n",
    "\n",
    "* **Primer Caso _(Asignación B = A)_:** Cuando ejecutas B = A, no estás creando una nueva matriz. En cambio, estás creando una referencia, lo que significa que tanto A como B apuntan exactamente al mismo objeto en la memoria. Por eso, al modificar B (cambiando el primer elemento a 99), el cambio también se reflejó en A, porque son dos nombres para la misma matriz.\n",
    "\n",
    "* **Segundo Caso _(Copia B = A.copy())_:** Al usar el método _.copy()_, se crea una copia real e independiente de la matriz A en una nueva ubicación de la memoria. Por lo tanto, A y B son dos objetos completamente separados. Cuando modificaste B esta vez, A no se vio afectada y mantuvo sus valores originales, demostrando que la modificación solo ocurrió en la copia.\n"
   ],
   "id": "302dbbd07a45d35d"
  }
 ],
 "metadata": {
  "kernelspec": {
   "display_name": "Python [conda env:base] *",
   "language": "python",
   "name": "conda-base-py"
  },
  "language_info": {
   "codemirror_mode": {
    "name": "ipython",
    "version": 2
   },
   "file_extension": ".py",
   "mimetype": "text/x-python",
   "name": "python",
   "nbconvert_exporter": "python",
   "pygments_lexer": "ipython2",
   "version": "2.7.6"
  }
 },
 "nbformat": 4,
 "nbformat_minor": 5
}
