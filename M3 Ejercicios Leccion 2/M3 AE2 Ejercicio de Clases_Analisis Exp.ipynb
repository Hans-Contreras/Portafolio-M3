{
 "cells": [
  {
   "metadata": {},
   "cell_type": "markdown",
   "source": [
    "Ejercicio de análisis exploratorio con Pandas\n",
    "=============================================\n",
    "Resolución del Ejercicio con archivo _medallas.csv_"
   ],
   "id": "ea6353a34ac614bf"
  },
  {
   "metadata": {
    "ExecuteTime": {
     "end_time": "2025-06-20T18:33:58.896428Z",
     "start_time": "2025-06-20T18:33:58.890924Z"
    }
   },
   "cell_type": "code",
   "source": [
    "\"\"\"\n",
    "Paso 1: Importar la librería y leer el archivo\n",
    "Primero, importamos Pandas y cargamos el contenido de medallas.csv en un DataFrame.\n",
    "\"\"\"\n",
    "import pandas as pd\n",
    "\n",
    "# Lee el archivo medallas.csv proporcionado y lo carga en un DataFrame\n",
    "df = pd.read_csv('../Ejercicios Clase/medallas.csv')\n",
    "\n",
    "print(\"--- Archivo 'medallas.csv' cargado exitosamente ---\")\n",
    "\n",
    "\"\"\"\n",
    "Paso 2: Usar df.head() para ver los primeros registros\n",
    "Este método nos da una vista previa de las primeras 5 filas del DataFrame para entender su estructura.\n",
    "\"\"\"\n",
    "\n",
    "print(\"\\n--- 1. Primeros 5 registros del medallero ---\")\n",
    "print(df.head())\n",
    "\n"
   ],
   "id": "8018db1463e4aeb5",
   "outputs": [
    {
     "name": "stdout",
     "output_type": "stream",
     "text": [
      "--- Archivo 'medallas.csv' cargado exitosamente ---\n",
      "\n",
      "--- 1. Primeros 5 registros del medallero ---\n",
      "    Oro  Plata  Bronce  Total        Pais\n",
      "0   NaN    1.0     2.0      3   Argentina\n",
      "1   NaN    2.0     2.0      4     Armenia\n",
      "2  17.0    7.0    22.0     46   Australia\n",
      "3   1.0    1.0     5.0      7     Austria\n",
      "4   NaN    3.0     4.0      7  Azerbaijan\n"
     ]
    }
   ],
   "execution_count": 36
  },
  {
   "metadata": {
    "ExecuteTime": {
     "end_time": "2025-06-20T18:34:05.894134Z",
     "start_time": "2025-06-20T18:34:05.889380Z"
    }
   },
   "cell_type": "code",
   "source": [
    "\"\"\"\n",
    "Paso 3: Usar df.info() para revisar estructura y tipos de datos\n",
    "Este método nos da un resumen técnico del DataFrame, incluyendo el número de filas, las columnas,\n",
    "la cantidad de valores no nulos y el tipo de dato de cada columna.\n",
    "\"\"\"\n",
    "\n",
    "print(\"\\n--- 2. Estructura y tipos de datos (df.info()) ---\")\n",
    "df.info()"
   ],
   "id": "b3448c63e9540c8",
   "outputs": [
    {
     "name": "stdout",
     "output_type": "stream",
     "text": [
      "\n",
      "--- 2. Estructura y tipos de datos (df.info()) ---\n",
      "<class 'pandas.core.frame.DataFrame'>\n",
      "RangeIndex: 93 entries, 0 to 92\n",
      "Data columns (total 5 columns):\n",
      " #   Column  Non-Null Count  Dtype  \n",
      "---  ------  --------------  -----  \n",
      " 0   Oro     65 non-null     float64\n",
      " 1   Plata   69 non-null     float64\n",
      " 2   Bronce  76 non-null     float64\n",
      " 3   Total   93 non-null     int64  \n",
      " 4   Pais    93 non-null     object \n",
      "dtypes: float64(3), int64(1), object(1)\n",
      "memory usage: 3.8+ KB\n"
     ]
    }
   ],
   "execution_count": 39
  },
  {
   "metadata": {},
   "cell_type": "markdown",
   "source": [
    "**Análisis de info():** Vemos que hay 92 filas (RangeIndex: 93 entries).\n",
    "La columna \"País\" es de tipo object (texto) y las demás son numéricas int64 o float64."
   ],
   "id": "790b909a96c99b8e"
  },
  {
   "metadata": {
    "ExecuteTime": {
     "end_time": "2025-06-20T18:34:12.604409Z",
     "start_time": "2025-06-20T18:34:12.597451Z"
    }
   },
   "cell_type": "code",
   "source": [
    "\"\"\"\n",
    "Paso 4: Usar df.describe() para ver estadísticas básicas\n",
    "Este método calcula estadísticas descriptivas (como media, desviación estándar, mínimo, máximo, etc.) para las columnas numéricas.\n",
    "\"\"\"\n",
    "print(\"\\n--- 3. Estadísticas descriptivas de las medallas (df.describe()) ---\")\n",
    "print(df.describe())"
   ],
   "id": "d6cd40e3bd741f",
   "outputs": [
    {
     "name": "stdout",
     "output_type": "stream",
     "text": [
      "\n",
      "--- 3. Estadísticas descriptivas de las medallas (df.describe()) ---\n",
      "             Oro      Plata     Bronce       Total\n",
      "count  65.000000  69.000000  76.000000   93.000000\n",
      "mean    4.400000   4.768116   4.934211   10.548387\n",
      "std     7.633806   7.276362   6.261705   18.897617\n",
      "min     1.000000   1.000000   1.000000    1.000000\n",
      "25%     1.000000   1.000000   1.000000    2.000000\n",
      "50%     2.000000   2.000000   2.000000    4.000000\n",
      "75%     3.000000   5.000000   5.250000    8.000000\n",
      "max    39.000000  41.000000  33.000000  113.000000\n"
     ]
    }
   ],
   "execution_count": 42
  },
  {
   "metadata": {},
   "cell_type": "markdown",
   "source": [
    "**Análisis de describe():** Podemos ver rápidamente que el promedio de medallas de oro (mean) es de 4.4,\n",
    "y el país con más medallas de oro tiene 39 (max)."
   ],
   "id": "728e80848337acb3"
  },
  {
   "metadata": {
    "ExecuteTime": {
     "end_time": "2025-06-20T18:35:52.656265Z",
     "start_time": "2025-06-20T18:35:52.652479Z"
    }
   },
   "cell_type": "code",
   "source": [
    "\"\"\"\n",
    "Paso 5: Aplicar df.isnull().sum() para detectar valores nulos\n",
    "Este comando cuenta cuántos valores nulos o faltantes hay en cada columna.\n",
    "\"\"\"\n",
    "print(\"\\n--- 4. Conteo de valores nulos por columna ---\")\n",
    "print(df.isnull().sum())"
   ],
   "id": "a7a69899fd1c0bca",
   "outputs": [
    {
     "name": "stdout",
     "output_type": "stream",
     "text": [
      "\n",
      "--- 4. Conteo de valores nulos por columna ---\n",
      "Oro       28\n",
      "Plata     24\n",
      "Bronce    17\n",
      "Total      0\n",
      "Pais       0\n",
      "dtype: int64\n"
     ]
    }
   ],
   "execution_count": 45
  },
  {
   "metadata": {},
   "cell_type": "markdown",
   "source": "**Análisis de isnull().sum():** El resultado que observamos con .info(). Es que existen valores nulos en el conjunto de datos.",
   "id": "540f3008f7ab09fa"
  },
  {
   "metadata": {
    "ExecuteTime": {
     "end_time": "2025-06-20T18:37:29.200436Z",
     "start_time": "2025-06-20T18:37:29.194932Z"
    }
   },
   "cell_type": "code",
   "source": [
    "\"\"\"\n",
    "Paso 6: Usar df.mean(), df.median() y df.std()\n",
    "Calculamos estas medidas estadísticas de forma individual.\n",
    "\"\"\"\n",
    "\n",
    "print(\"\\n--- 5. Medidas estadísticas adicionales ---\")\n",
    "\n",
    "# Usamos numeric_only=True para que los cálculos ignoren las columnas de texto como 'País'\n",
    "print(\"\\nMedia de medallas:\")\n",
    "print(df.mean(numeric_only=True))\n",
    "\n",
    "print(\"\\nMediana de medallas:\")\n",
    "print(df.median(numeric_only=True))\n",
    "\n",
    "print(\"\\nDesviación estándar de medallas:\")\n",
    "print(df.std(numeric_only=True))"
   ],
   "id": "d5b77f014251dd56",
   "outputs": [
    {
     "name": "stdout",
     "output_type": "stream",
     "text": [
      "\n",
      "--- 5. Medidas estadísticas adicionales ---\n",
      "\n",
      "Media de medallas:\n",
      "Oro        4.400000\n",
      "Plata      4.768116\n",
      "Bronce     4.934211\n",
      "Total     10.548387\n",
      "dtype: float64\n",
      "\n",
      "Mediana de medallas:\n",
      "Oro       2.0\n",
      "Plata     2.0\n",
      "Bronce    2.0\n",
      "Total     4.0\n",
      "dtype: float64\n",
      "\n",
      "Desviación estándar de medallas:\n",
      "Oro        7.633806\n",
      "Plata      7.276362\n",
      "Bronce     6.261705\n",
      "Total     18.897617\n",
      "dtype: float64\n"
     ]
    }
   ],
   "execution_count": 46
  },
  {
   "metadata": {
    "ExecuteTime": {
     "end_time": "2025-06-20T18:43:51.732263Z",
     "start_time": "2025-06-20T18:43:51.725112Z"
    }
   },
   "cell_type": "code",
   "source": [
    "\"\"\"\n",
    "Paso 7: Utilizar otras funciones para expander el dominio\n",
    "Ahora aplicaremos otras funciones muy útiles para analizar estos datos específicos.\n",
    "\"\"\"\n",
    "\n",
    "print(\"\\n--- 6. Funciones adicionales para explorar ---\")\n",
    "\n",
    "# a) Ordenar el DataFrame por la cantidad de medallas de Oro (de mayor a menor)\n",
    "print(\"\\nPaíses ordenados por medallas de Oro:\")\n",
    "df_ordenado_oro = df.sort_values(by='Oro', ascending=False)\n",
    "print(df_ordenado_oro)\n",
    "\n",
    "# b) Filtrar los países que ganaron más de 20 medallas de oro\n",
    "print(\"\\nPaíses con más de 20 medallas de Oro:\")\n",
    "paises_top_oro = df[df['Oro'] > 20]\n",
    "print(paises_top_oro)\n",
    "\n",
    "# c) Calcular el total de medallas de cada tipo para este grupo de países\n",
    "print(\"\\nTotal de medallas de cada tipo en el top 10:\")\n",
    "total_medallas_tipo = df[['Oro', 'Plata', 'Bronce']].sum()\n",
    "print(total_medallas_tipo)"
   ],
   "id": "39f6c316e4a88d65",
   "outputs": [
    {
     "name": "stdout",
     "output_type": "stream",
     "text": [
      "\n",
      "--- 6. Funciones adicionales para explorar ---\n",
      "\n",
      "Países ordenados por medallas de Oro:\n",
      "     Oro  Plata  Bronce  Total                        Pais\n",
      "25  39.0   41.0    33.0    113   Estados Unidos de America\n",
      "72  38.0   32.0    18.0     88  Republica Popular de China\n",
      "46  27.0   14.0    17.0     58                       Japon\n",
      "34  22.0   21.0    22.0     65                Gran Bretana\n",
      "2   17.0    7.0    22.0     46                   Australia\n",
      "..   ...    ...     ...    ...                         ...\n",
      "71   NaN    NaN     1.0      1         Republic of Moldova\n",
      "75   NaN    1.0     2.0      3                  San Marino\n",
      "76   NaN    1.0     NaN      1                Saudi Arabia\n",
      "84   NaN    NaN     1.0      1        Syrian Arab Republic\n",
      "88   NaN    1.0     NaN      1                Turkmenistan\n",
      "\n",
      "[93 rows x 5 columns]\n",
      "\n",
      "Países con más de 20 medallas de Oro:\n",
      "     Oro  Plata  Bronce  Total                        Pais\n",
      "25  39.0   41.0    33.0    113   Estados Unidos de America\n",
      "34  22.0   21.0    22.0     65                Gran Bretana\n",
      "46  27.0   14.0    17.0     58                       Japon\n",
      "72  38.0   32.0    18.0     88  Republica Popular de China\n",
      "\n",
      "Total de medallas de cada tipo en el top 10:\n",
      "Oro       286.0\n",
      "Plata     329.0\n",
      "Bronce    375.0\n",
      "dtype: float64\n"
     ]
    }
   ],
   "execution_count": 49
  }
 ],
 "metadata": {
  "kernelspec": {
   "display_name": "Python [conda env:base] *",
   "language": "python",
   "name": "conda-base-py"
  },
  "language_info": {
   "codemirror_mode": {
    "name": "ipython",
    "version": 2
   },
   "file_extension": ".py",
   "mimetype": "text/x-python",
   "name": "python",
   "nbconvert_exporter": "python",
   "pygments_lexer": "ipython2",
   "version": "2.7.6"
  }
 },
 "nbformat": 4,
 "nbformat_minor": 5
}
