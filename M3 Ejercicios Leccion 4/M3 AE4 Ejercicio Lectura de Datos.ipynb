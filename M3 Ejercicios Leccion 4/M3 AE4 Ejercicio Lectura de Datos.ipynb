{
 "cells": [
  {
   "cell_type": "code",
   "id": "initial_id",
   "metadata": {
    "collapsed": true,
    "ExecuteTime": {
     "end_time": "2025-07-07T00:41:35.097002Z",
     "start_time": "2025-07-07T00:41:35.085412Z"
    }
   },
   "source": [
    "import pandas as pd\n",
    "\n",
    "# --------------------------------------------\n",
    "# 3. Leer el archivo CSV sin encabezado y asignar nombres de columnas\n",
    "# --------------------------------------------\n",
    "# Suponiendo que el archivo se llama 'datos.csv' y está en el mismo directorio\n",
    "# Usamos header=None para indicar que no hay encabezados en el archivo original\n",
    "# Asignamos nombres personalizados con el parámetro names\n",
    "df = pd.read_csv('datos.csv',\n",
    "                 header=None,\n",
    "                 names=['nombre', 'edad', 'ciudad'],\n",
    "                 na_values=['?', 'NA', ''])  # Definimos valores que deben considerarse como nulos\n",
    "\n",
    "print(\"\\nDatos cargados (primeras filas):\")\n",
    "print(df.head())\n",
    "\n",
    "# --------------------------------------------\n",
    "# 4. Limpieza de datos\n",
    "# --------------------------------------------\n",
    "# a) Reemplazar valores nulos (los definidos en na_values)\n",
    "# Para columnas numéricas (edad) usamos la mediana\n",
    "# Para columnas categóricas (nombre, ciudad) usamos la moda\n",
    "df['edad'] = df['edad'].fillna(df['edad'].median())\n",
    "df['nombre'] = df['nombre'].fillna(df['nombre'].mode()[0])\n",
    "df['ciudad'] = df['ciudad'].fillna(df['ciudad'].mode()[0])\n",
    "\n",
    "# b) Eliminar filas duplicadas\n",
    "df = df.drop_duplicates()\n",
    "\n",
    "print(\"\\nDatos después de la limpieza:\")\n",
    "print(df.head())\n",
    "\n",
    "# --------------------------------------------\n",
    "# 5. Exportar el DataFrame limpio\n",
    "# --------------------------------------------\n",
    "# Usamos sep=';' como delimitador y encoding='utf-8'\n",
    "# index=False para no incluir el índice automático\n",
    "df.to_csv('datos_limpios.csv',\n",
    "          sep=';',\n",
    "          encoding='utf-8',\n",
    "          index=False)\n",
    "\n",
    "print(\"\\nProceso completado!\")\n",
    "print(f\"Archivo guardado como: 'datos_limpios.csv'\")\n",
    "print(f\"Registros originales: {len(pd.read_csv('datos.csv', header=None))}\")\n",
    "print(f\"Registros limpios: {len(df)}\")"
   ],
   "outputs": [
    {
     "name": "stdout",
     "output_type": "stream",
     "text": [
      "\n",
      "Datos cargados (primeras filas):\n",
      "  nombre  edad     ciudad\n",
      "0   Juan  25.0     Madrid\n",
      "1  Maria   NaN  Barcelona\n",
      "2  Pedro  30.0        NaN\n",
      "3   Luis  25.0     Madrid\n",
      "4    NaN  28.0   Valencia\n",
      "\n",
      "Datos después de la limpieza:\n",
      "  nombre  edad     ciudad\n",
      "0   Juan  25.0     Madrid\n",
      "1  Maria  29.0  Barcelona\n",
      "2  Pedro  30.0     Madrid\n",
      "3   Luis  25.0     Madrid\n",
      "4    Ana  28.0   Valencia\n",
      "\n",
      "Proceso completado!\n",
      "Archivo guardado como: 'datos_limpios.csv'\n",
      "Registros originales: 10\n",
      "Registros limpios: 10\n"
     ]
    }
   ],
   "execution_count": 2
  }
 ],
 "metadata": {
  "kernelspec": {
   "display_name": "Python [conda env:base] *",
   "language": "python",
   "name": "conda-base-py"
  },
  "language_info": {
   "codemirror_mode": {
    "name": "ipython",
    "version": 2
   },
   "file_extension": ".py",
   "mimetype": "text/x-python",
   "name": "python",
   "nbconvert_exporter": "python",
   "pygments_lexer": "ipython2",
   "version": "2.7.6"
  }
 },
 "nbformat": 4,
 "nbformat_minor": 5
}
