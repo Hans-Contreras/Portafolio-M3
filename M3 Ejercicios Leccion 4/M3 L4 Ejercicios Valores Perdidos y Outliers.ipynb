{
 "cells": [
  {
   "metadata": {},
   "cell_type": "markdown",
   "source": "### **Manejo de Valores Perdidos y Outliers**",
   "id": "a2c18802b95e1c56"
  },
  {
   "metadata": {
    "ExecuteTime": {
     "end_time": "2025-07-07T00:24:05.601155Z",
     "start_time": "2025-07-07T00:24:05.593648Z"
    }
   },
   "cell_type": "code",
   "source": [
    "# ==========================================\n",
    "# 1. Carga y exploración del dataset\n",
    "# ==========================================\n",
    "\n",
    "# Simulamos un dataset con valores perdidos y outliers\n",
    "data = {\n",
    "    'ID': [1, 2, 3, 4, 5, 6, 7, 8, 9, 10],\n",
    "    'Edad': [25, 32, 45, None, 28, 60, 22, 19, None, 150],  # 150 es outlier\n",
    "    'Salario': [50000, 54000, None, 62000, 58000, None, 52000, 48000, 75000, 200000],  # 200000 es outlier\n",
    "    'Departamento': ['Ventas', 'TI', 'TI', 'RH', None, 'Ventas', 'Marketing', None, 'TI', 'Ventas'],\n",
    "    'Experiencia': [3, 5, None, 2, 4, 10, 1, None, 8, 15]  # 15 es outlier\n",
    "}\n",
    "\n",
    "df = pd.DataFrame(data)\n",
    "print(\"\\n=== Dataset original ===\")\n",
    "print(df.head())\n",
    "\n",
    "# Información general del dataset\n",
    "print(\"\\n=== Información del dataset ===\")\n",
    "print(df.info())\n",
    "\n",
    "# Valores nulos por columna\n",
    "print(\"\\n=== Valores nulos por columna ===\")\n",
    "print(df.isnull().sum())"
   ],
   "id": "6ee927dd080ece21",
   "outputs": [
    {
     "name": "stdout",
     "output_type": "stream",
     "text": [
      "\n",
      "=== Dataset original ===\n",
      "   ID  Edad  Salario Departamento  Experiencia\n",
      "0   1  25.0  50000.0       Ventas          3.0\n",
      "1   2  32.0  54000.0           TI          5.0\n",
      "2   3  45.0      NaN           TI          NaN\n",
      "3   4   NaN  62000.0           RH          2.0\n",
      "4   5  28.0  58000.0         None          4.0\n",
      "\n",
      "=== Información del dataset ===\n",
      "<class 'pandas.core.frame.DataFrame'>\n",
      "RangeIndex: 10 entries, 0 to 9\n",
      "Data columns (total 5 columns):\n",
      " #   Column        Non-Null Count  Dtype  \n",
      "---  ------        --------------  -----  \n",
      " 0   ID            10 non-null     int64  \n",
      " 1   Edad          8 non-null      float64\n",
      " 2   Salario       8 non-null      float64\n",
      " 3   Departamento  8 non-null      object \n",
      " 4   Experiencia   8 non-null      float64\n",
      "dtypes: float64(3), int64(1), object(1)\n",
      "memory usage: 532.0+ bytes\n",
      "None\n",
      "\n",
      "=== Valores nulos por columna ===\n",
      "ID              0\n",
      "Edad            2\n",
      "Salario         2\n",
      "Departamento    2\n",
      "Experiencia     2\n",
      "dtype: int64\n"
     ]
    }
   ],
   "execution_count": 24
  },
  {
   "metadata": {
    "ExecuteTime": {
     "end_time": "2025-07-07T00:24:05.624993Z",
     "start_time": "2025-07-07T00:24:05.620670Z"
    }
   },
   "cell_type": "code",
   "source": [
    "# ==========================================\n",
    "# 2. Manejo de valores perdidos\n",
    "# ==========================================\n",
    "\n",
    "# a) Imputación de valores numéricos (sin warning)\n",
    "df['Edad'] = df['Edad'].fillna(df['Edad'].median())  # Mediana por robustez\n",
    "df['Salario'] = df['Salario'].fillna(df['Salario'].mean())  # Media para salarios\n",
    "df['Experiencia'] = df['Experiencia'].fillna(df['Experiencia'].median())\n",
    "\n",
    "# b) Imputación de valores categóricos (sin warning)\n",
    "df['Departamento'] = df['Departamento'].fillna(df['Departamento'].mode()[0])\n",
    "\n",
    "# c) Opción alternativa: Eliminar filas con más del 50% de valores nulos\n",
    "# df = df.dropna(thresh=df.shape[1]*0.5)\n",
    "\n",
    "print(\"\\n=== Dataset después de imputación ===\")\n",
    "print(df.isnull().sum())"
   ],
   "id": "89e44991f35bed57",
   "outputs": [
    {
     "name": "stdout",
     "output_type": "stream",
     "text": [
      "\n",
      "=== Dataset después de imputación ===\n",
      "ID              0\n",
      "Edad            0\n",
      "Salario         0\n",
      "Departamento    0\n",
      "Experiencia     0\n",
      "dtype: int64\n"
     ]
    }
   ],
   "execution_count": 25
  },
  {
   "metadata": {
    "ExecuteTime": {
     "end_time": "2025-07-07T00:24:05.884980Z",
     "start_time": "2025-07-07T00:24:05.638392Z"
    }
   },
   "cell_type": "code",
   "source": [
    "# ==========================================\n",
    "# 3. Detección y tratamiento de outliers\n",
    "# ==========================================\n",
    "\n",
    "def detectar_outliers(df, columna):\n",
    "    \"\"\"Detecta outliers usando el método IQR\"\"\"\n",
    "    Q1 = df[columna].quantile(0.25)\n",
    "    Q3 = df[columna].quantile(0.75)\n",
    "    IQR = Q3 - Q1\n",
    "    limite_inferior = Q1 - 1.5 * IQR\n",
    "    limite_superior = Q3 + 1.5 * IQR\n",
    "\n",
    "    outliers = df[(df[columna] < limite_inferior) | (df[columna] > limite_superior)]\n",
    "    return outliers, limite_inferior, limite_superior\n",
    "\n",
    "# a) Visualización de outliers\n",
    "plt.figure(figsize=(15, 5))\n",
    "plt.subplot(1, 3, 1)\n",
    "sns.boxplot(x=df['Edad'])\n",
    "plt.title('Boxplot - Edad')\n",
    "\n",
    "plt.subplot(1, 3, 2)\n",
    "sns.boxplot(x=df['Salario'])\n",
    "plt.title('Boxplot - Salario')\n",
    "\n",
    "plt.subplot(1, 3, 3)\n",
    "sns.boxplot(x=df['Experiencia'])\n",
    "plt.title('Boxplot - Experiencia')\n",
    "plt.tight_layout()\n",
    "plt.show()\n",
    "\n",
    "# b) Detección y tratamiento para Edad\n",
    "outliers_edad, li_edad, ls_edad = detectar_outliers(df, 'Edad')\n",
    "print(f\"\\nOutliers en Edad:\\n{outliers_edad[['ID', 'Edad']]}\")\n",
    "\n",
    "# Estrategia: Winsorization (ajuste a los límites)\n",
    "df['Edad'] = df['Edad'].clip(lower=li_edad, upper=ls_edad)\n",
    "\n",
    "# c) Detección y tratamiento para Salario\n",
    "outliers_salario, li_salario, ls_salario = detectar_outliers(df, 'Salario')\n",
    "print(f\"\\nOutliers en Salario:\\n{outliers_salario[['ID', 'Salario']]}\")\n",
    "\n",
    "# Estrategia: Transformación logarítmica\n",
    "df['Salario_log'] = np.log(df['Salario'])\n",
    "\n",
    "# d) Detección y tratamiento para Experiencia\n",
    "outliers_exp, li_exp, ls_exp = detectar_outliers(df, 'Experiencia')\n",
    "print(f\"\\nOutliers en Experiencia:\\n{outliers_exp[['ID', 'Experiencia']]}\")\n",
    "\n",
    "# Estrategia: Eliminación de registros\n",
    "df = df[~df['ID'].isin(outliers_exp['ID'])]"
   ],
   "id": "2a4a9793c31ca464",
   "outputs": [
    {
     "data": {
      "text/plain": [
       "<Figure size 1500x500 with 3 Axes>"
      ],
      "image/png": "[encoded data removed]"
     },
     "metadata": {},
     "output_type": "display_data"
    },
    {
     "name": "stdout",
     "output_type": "stream",
     "text": [
      "\n",
      "Outliers en Edad:\n",
      "   ID   Edad\n",
      "9  10  150.0\n",
      "\n",
      "Outliers en Salario:\n",
      "   ID   Salario\n",
      "9  10  200000.0\n",
      "\n",
      "Outliers en Experiencia:\n",
      "   ID  Experiencia\n",
      "9  10         15.0\n"
     ]
    }
   ],
   "execution_count": 26
  },
  {
   "metadata": {
    "ExecuteTime": {
     "end_time": "2025-07-07T00:24:06.108710Z",
     "start_time": "2025-07-07T00:24:05.896494Z"
    }
   },
   "cell_type": "code",
   "source": [
    "# ==========================================\n",
    "# 4. Validación de datos limpios\n",
    "# ==========================================\n",
    "\n",
    "print(\"\\n=== Resumen post-limpieza ===\")\n",
    "print(\"Valores nulos restantes:\")\n",
    "print(df.isnull().sum())\n",
    "\n",
    "print(\"\\nEstadísticas descriptivas:\")\n",
    "print(df.describe())\n",
    "\n",
    "# Visualización post-limpieza\n",
    "plt.figure(figsize=(15, 5))\n",
    "plt.subplot(1, 3, 1)\n",
    "sns.boxplot(x=df['Edad'])\n",
    "plt.title('Edad después de tratamiento')\n",
    "\n",
    "plt.subplot(1, 3, 2)\n",
    "sns.boxplot(x=df['Salario_log'])\n",
    "plt.title('Log(Salario) después de tratamiento')\n",
    "\n",
    "plt.subplot(1, 3, 3)\n",
    "sns.boxplot(x=df['Experiencia'])\n",
    "plt.title('Experiencia después de tratamiento')\n",
    "plt.tight_layout()\n",
    "plt.show()"
   ],
   "id": "2492b83e1d017bd1",
   "outputs": [
    {
     "name": "stdout",
     "output_type": "stream",
     "text": [
      "\n",
      "=== Resumen post-limpieza ===\n",
      "Valores nulos restantes:\n",
      "ID              0\n",
      "Edad            0\n",
      "Salario         0\n",
      "Departamento    0\n",
      "Experiencia     0\n",
      "Salario_log     0\n",
      "dtype: int64\n",
      "\n",
      "Estadísticas descriptivas:\n",
      "             ID       Edad       Salario  Experiencia  Salario_log\n",
      "count  9.000000   9.000000      9.000000     9.000000     9.000000\n",
      "mean   5.000000  32.333333  60972.222222     4.666667    11.003328\n",
      "std    2.738613  12.718097  11241.798708     2.817357     0.181906\n",
      "min    1.000000  19.000000  48000.000000     1.000000    10.778956\n",
      "25%    3.000000  25.000000  52000.000000     3.000000    10.858999\n",
      "50%    5.000000  30.000000  58000.000000     4.500000    10.968198\n",
      "75%    7.000000  32.000000  74875.000000     5.000000    11.223575\n",
      "max    9.000000  60.000000  75000.000000    10.000000    11.225243\n"
     ]
    },
    {
     "data": {
      "text/plain": [
       "<Figure size 1500x500 with 3 Axes>"
      ],
      "image/png": "[encoded data removed]"
     },
     "metadata": {},
     "output_type": "display_data"
    }
   ],
   "execution_count": 27
  },
  {
   "metadata": {
    "ExecuteTime": {
     "end_time": "2025-07-07T00:24:06.128292Z",
     "start_time": "2025-07-07T00:24:06.123955Z"
    }
   },
   "cell_type": "code",
   "source": [
    "# ==========================================\n",
    "# 5. Exportación de datos\n",
    "# ==========================================\n",
    "\n",
    "df.to_csv('datos_limpios_l4.csv', index=False)\n",
    "print(\"\\n=== Dataset limpio exportado a 'datos_limpios_l4.csv' ===\")"
   ],
   "id": "499ba4a58b41030c",
   "outputs": [
    {
     "name": "stdout",
     "output_type": "stream",
     "text": [
      "\n",
      "=== Dataset limpio exportado a 'datos_limpios_l4.csv' ===\n"
     ]
    }
   ],
   "execution_count": 28
  },
  {
   "metadata": {},
   "cell_type": "markdown",
   "source": [
    "## **Explicación Detallada:**\n",
    "\n",
    "### **1. Carga y Exploración**\n",
    "Creamos un dataset simulado con:\n",
    "* Valores nulos en columnas numéricas y categóricas\n",
    "* Outliers evidentes (ej: edad=150, salario=200000)\n",
    "\n",
    "* Usamos info() y isnull().sum() para analizar la estructura y valores faltantes\n",
    "\n",
    "### **2. Manejo de Valores Perdidos**\n",
    "Numéricos:\n",
    "* Edad y Experiencia: Imputación con mediana (robusta a outliers)\n",
    "* Salario: Imputación con media (distribución más estable)\n",
    "\n",
    "Categóricos:\n",
    "* Departamento: Imputación con moda (valor más frecuente)\n",
    "\n",
    "### **3. Tratamiento de Outliers**\n",
    "Detección: Método IQR (Rango Intercuartílico)\n",
    "* Calculamos límites: [Q1 - 1.5*IQR, Q3 + 1.5*IQR]\n",
    "\n",
    "Estrategias:\n",
    "* Edad: Winsorization (ajustar valores a los límites)\n",
    "* Salario: Transformación logarítmica (para reducir el impacto de valores extremos)\n",
    "* Experiencia: Eliminación (por ser un caso extremo)\n",
    "\n",
    "### **Validación**\n",
    "Verificamos que no queden valores nulos\n",
    "Generamos estadísticas descriptivas y nuevos boxplots para validar la limpieza\n",
    "\n",
    "### **Exportación**\n",
    "Guardamos el dataset limpio en CSV para análisis posteriores"
   ],
   "id": "5607ea39e5c78491"
  }
 ],
 "metadata": {
  "kernelspec": {
   "display_name": "Python [conda env:base] *",
   "language": "python",
   "name": "conda-base-py"
  },
  "language_info": {
   "codemirror_mode": {
    "name": "ipython",
    "version": 2
   },
   "file_extension": ".py",
   "mimetype": "text/x-python",
   "name": "python",
   "nbconvert_exporter": "python",
   "pygments_lexer": "ipython2",
   "version": "2.7.6"
  }
 },
 "nbformat": 4,
 "nbformat_minor": 5
}
