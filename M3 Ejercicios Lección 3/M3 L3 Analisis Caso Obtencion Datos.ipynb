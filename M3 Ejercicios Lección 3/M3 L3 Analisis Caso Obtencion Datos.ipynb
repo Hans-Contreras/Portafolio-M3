{
 "cells": [
  {
   "cell_type": "code",
   "id": "initial_id",
   "metadata": {
    "collapsed": true,
    "ExecuteTime": {
     "end_time": "2025-07-06T23:02:46.194415Z",
     "start_time": "2025-07-06T23:02:45.879903Z"
    }
   },
   "source": [
    "import pandas as pd\n",
    "from datetime import datetime\n",
    "\n",
    "# ==========================================\n",
    "# 1. Carga de datos desde distintos archivos\n",
    "# ==========================================\n",
    "\n",
    "# a) Cargar archivo CSV (usando el archivo adjunto datos_ejemplo.csv)\n",
    "df_csv = pd.read_csv('datos_ejemplo.csv', sep=';')\n",
    "print(\"\\nDatos cargados desde CSV (primeras 5 filas):\")\n",
    "print(df_csv.head())\n",
    "\n",
    "# b) Simular carga de archivo Excel (creamos uno de ejemplo)\n",
    "datos_excel = {\n",
    "    'ID': [101, 102, 103, 104],\n",
    "    'Cliente': ['A', 'B', 'C', 'D'],\n",
    "    'Ventas': [1500, 3200, 800, 4500]\n",
    "}\n",
    "df_excel = pd.DataFrame(datos_excel)\n",
    "df_excel.to_excel('datos_ejemplo.xlsx', index=False, engine='openpyxl')\n",
    "df_excel = pd.read_excel('datos_ejemplo.xlsx', engine='openpyxl')\n",
    "print(\"\\nDatos cargados desde Excel:\")\n",
    "print(df_excel)\n",
    "\n",
    "# c) Extraer tabla web (ejemplo con Wikipedia)\n",
    "try:\n",
    "    url = 'https://es.wikipedia.org/wiki/Lista_de_pa%C3%ADses_por_PIB_(nominal)'\n",
    "    dfs_web = pd.read_html(url)\n",
    "    df_web = dfs_web[0].head(3)  # Tomamos solo 3 filas para el ejemplo\n",
    "    print(\"\\nDatos extraídos de tabla web (Wikipedia - PIB):\")\n",
    "    print(df_web)\n",
    "except Exception as e:\n",
    "    print(f\"\\nError al obtener datos web: {str(e)}\")\n",
    "    df_web = pd.DataFrame({'Error': ['No se pudo cargar la tabla web']})"
   ],
   "outputs": [
    {
     "name": "stdout",
     "output_type": "stream",
     "text": [
      "\n",
      "Datos cargados desde CSV (primeras 5 filas):\n",
      "   Region Producto    Mes  Monto  Unidades FechaCompra\n",
      "0  Centro        A  Enero    305        48  16-08-2024\n",
      "1   Norte        A  Marzo    180        15  22-06-2024\n",
      "2  Centro        B  Marzo    661         8  04-06-2024\n",
      "3  Centro        B  Enero    971        14  09-02-2024\n",
      "4   Norte        A  Enero    487        23  26-01-2024\n",
      "\n",
      "Datos cargados desde Excel:\n",
      "    ID Cliente  Ventas\n",
      "0  101       A    1500\n",
      "1  102       B    3200\n",
      "2  103       C     800\n",
      "3  104       D    4500\n",
      "\n",
      "Error al obtener datos web: HTTP Error 404: Not Found\n"
     ]
    }
   ],
   "execution_count": 45
  },
  {
   "metadata": {
    "ExecuteTime": {
     "end_time": "2025-07-06T23:03:04.987180Z",
     "start_time": "2025-07-06T23:03:04.978647Z"
    }
   },
   "cell_type": "code",
   "source": [
    "# ==========================================\n",
    "# 2. Limpieza y estructuración de datos (en df_csv)\n",
    "# ==========================================\n",
    "\n",
    "# a) Manejo de valores nulos\n",
    "print(\"\\nValores nulos antes de la limpieza:\")\n",
    "print(df_csv.isnull().sum())\n",
    "\n",
    "# No hay nulos en este dataset, pero si los hubiera:\n",
    "df_csv.fillna({'Monto': df_csv['Monto'].mean()}, inplace=True)  # Ejemplo: imputar con media\n",
    "\n",
    "# b) Eliminar duplicados\n",
    "duplicados = df_csv.duplicated().sum()\n",
    "print(f\"\\nNúmero de filas duplicadas: {duplicados}\")\n",
    "df_csv.drop_duplicates(inplace=True)\n",
    "\n",
    "# c) Ajustar tipos de datos\n",
    "df_csv['FechaCompra'] = pd.to_datetime(df_csv['FechaCompra'], format='%d-%m-%Y')\n",
    "df_csv['Region'] = df_csv['Region'].astype('category')\n",
    "print(\"\\nTipos de datos después de la conversión:\")\n",
    "print(df_csv.dtypes)\n"
   ],
   "id": "603bbe92719209f",
   "outputs": [
    {
     "name": "stdout",
     "output_type": "stream",
     "text": [
      "\n",
      "Valores nulos antes de la limpieza:\n",
      "Region         0\n",
      "Producto       0\n",
      "Mes            0\n",
      "Monto          0\n",
      "Unidades       0\n",
      "FechaCompra    0\n",
      "dtype: int64\n",
      "\n",
      "Número de filas duplicadas: 0\n",
      "\n",
      "Tipos de datos después de la conversión:\n",
      "Region               category\n",
      "Producto               object\n",
      "Mes                    object\n",
      "Monto                   int64\n",
      "Unidades                int64\n",
      "FechaCompra    datetime64[ns]\n",
      "dtype: object\n"
     ]
    }
   ],
   "execution_count": 46
  },
  {
   "metadata": {
    "ExecuteTime": {
     "end_time": "2025-07-06T23:03:26.036654Z",
     "start_time": "2025-07-06T23:03:26.030606Z"
    }
   },
   "cell_type": "code",
   "source": [
    "# ==========================================\n",
    "# 3. Transformación y optimización de datos\n",
    "# ==========================================\n",
    "\n",
    "# a) Selección de columnas relevantes\n",
    "columnas_relevantes = ['Region', 'Producto', 'Monto', 'FechaCompra']\n",
    "df_final = df_csv[columnas_relevantes].copy()\n",
    "\n",
    "# b) Renombrar columnas\n",
    "df_final.rename(columns={\n",
    "    'Monto': 'Venta_Total',\n",
    "    'FechaCompra': 'Fecha_Venta'\n",
    "}, inplace=True)\n",
    "\n",
    "# c) Ordenar por fecha\n",
    "df_final.sort_values('Fecha_Venta', inplace=True)\n",
    "print(\"\\nDataFrame transformado (primeras 5 filas):\")\n",
    "print(df_final.head())"
   ],
   "id": "235fa66ffa8abed1",
   "outputs": [
    {
     "name": "stdout",
     "output_type": "stream",
     "text": [
      "\n",
      "DataFrame transformado (primeras 5 filas):\n",
      "    Region Producto  Venta_Total Fecha_Venta\n",
      "10  Centro        B          921  2024-01-04\n",
      "7      Sur        C          665  2024-01-09\n",
      "8   Centro        C          205  2024-01-12\n",
      "4    Norte        A          487  2024-01-26\n",
      "6   Centro        A          489  2024-02-07\n"
     ]
    }
   ],
   "execution_count": 47
  },
  {
   "metadata": {
    "ExecuteTime": {
     "end_time": "2025-07-06T23:08:52.548905Z",
     "start_time": "2025-07-06T23:08:52.534390Z"
    }
   },
   "cell_type": "code",
   "source": [
    "# ==========================================\n",
    "# 4. Exportación de datos\n",
    "# ==========================================\n",
    "\n",
    "# a) Exportar a CSV\n",
    "df_final.to_csv('datos_procesados.csv', index=False, encoding='utf-8')\n",
    "\n",
    "# b) Exportar a Excel\n",
    "with pd.ExcelWriter('reporte_final.xlsx', engine='openpyxl') as writer:\n",
    "    df_final.to_excel(writer, sheet_name='Ventas', index=False)\n",
    "    # Línea corregida:\n",
    "    df_final.groupby('Region', observed=False)['Venta_Total'].sum().to_excel(\n",
    "        writer, sheet_name='Resumen'\n",
    "    )\n",
    "\n",
    "print(\"\\n\" + \"=\"*50)\n",
    "print(\"Proceso completado con éxito!\")\n",
    "print(f\"- Datos originales: {len(df_csv)} registros\")\n",
    "print(f\"- Datos procesados: {len(df_final)} registros\")\n",
    "print(\"- Archivos generados:\")\n",
    "print(\"  * datos_procesados.csv\")\n",
    "print(\"  * reporte_final.xlsx (con 2 hojas)\")\n",
    "print(\"=\"*50)\n",
    "\n",
    "# ==========================================\n",
    "# Comparación con métodos tradicionales\n",
    "# ==========================================\n",
    "\n",
    "print(\"\\nComparación con métodos tradicionales:\")\n",
    "print(\"- Pandas permite leer/exportar datos con 1 línea de código\")\n",
    "print(\"- Manejo automático de tipos de datos (fechas, categorías)\")\n",
    "print(\"- Operaciones complejas (groupby, ordenamiento) son triviales\")\n",
    "print(\"- Procesamiento 10-100x más rápido que con listas/dicts nativos\")"
   ],
   "id": "74565974656b7285",
   "outputs": [
    {
     "name": "stdout",
     "output_type": "stream",
     "text": [
      "\n",
      "==================================================\n",
      "Proceso completado con éxito!\n",
      "- Datos originales: 20 registros\n",
      "- Datos procesados: 20 registros\n",
      "- Archivos generados:\n",
      "  * datos_procesados.csv\n",
      "  * reporte_final.xlsx (con 2 hojas)\n",
      "==================================================\n",
      "\n",
      "Comparación con métodos tradicionales:\n",
      "- Pandas permite leer/exportar datos con 1 línea de código\n",
      "- Manejo automático de tipos de datos (fechas, categorías)\n",
      "- Operaciones complejas (groupby, ordenamiento) son triviales\n",
      "- Procesamiento 10-100x más rápido que con listas/dicts nativos\n"
     ]
    }
   ],
   "execution_count": 50
  },
  {
   "metadata": {},
   "cell_type": "markdown",
   "source": [
    "## **Explicación Detallada:**\n",
    "### **Carga de Datos**\n",
    "* **CSV:** Usamos pd.read_csv() con el delimitador correcto (;)\n",
    "* **Excel:** Creamos un archivo de ejemplo y lo cargamos con pd.read_excel()\n",
    "* **Web:** Extraemos una tabla de Wikipedia con pd.read_html()****\n",
    "\n",
    "### **Limpieza de Datos**\n",
    "* **Valores nulos:** Verificamos con isnull().sum() y usamos fillna() para imputar\n",
    "* **Duplicados:** Identificamos y eliminamos con duplicated() y drop_duplicates()\n",
    "* **Tipos de datos:** Convertimos fechas con pd.to_datetime() y regiones a categorías\n",
    "\n",
    "### **Transformación**\n",
    "* **Selección columnas:** Creamos un nuevo DataFrame con las columnas clave\n",
    "* **Renombrado:** Mejoramos legibilidad con rename()\n",
    "* **Ordenamiento:** Ordenamos por fecha con sort_values()\n",
    "\n",
    "### **Exportación**\n",
    "* **CSV:** to_csv() con codificación UTF-8\n",
    "* **Excel:** Creamos un archivo con múltiples hojas usando ExcelWriter\n",
    "\n",
    "### **Ventajas vs Métodos Tradicionales:**\n",
    "* **Eficiencia:** Operaciones vectorizadas más rápidas que bucles en Python\n",
    "* **Código conciso:** Funciones especializadas para cada formato\n",
    "* **Manejo automático:** De tipos de datos, encoding y estructuras complejas\n",
    "* **Integración:** Fácil conexión con otras librerías (NumPy, Matplotlib)"
   ],
   "id": "fc8b67b84f3f2899"
  },
  {
   "metadata": {},
   "cell_type": "markdown",
   "source": [
    "## **Recomendaciones para Producción:**\n",
    "* **Manejo de errores:** Agregar try-catch para operaciones de I/O\n",
    "* **Logging:** Registrar pasos del proceso para diagnóstico\n",
    "* **Validación:** Verificar integridad de datos después de cada transformación\n",
    "* **Chunking:** Para archivos muy grandes, procesar por partes"
   ],
   "id": "4b30240d47eebe4"
  }
 ],
 "metadata": {
  "kernelspec": {
   "display_name": "Python [conda env:base] *",
   "language": "python",
   "name": "conda-base-py"
  },
  "language_info": {
   "codemirror_mode": {
    "name": "ipython",
    "version": 2
   },
   "file_extension": ".py",
   "mimetype": "text/x-python",
   "name": "python",
   "nbconvert_exporter": "python",
   "pygments_lexer": "ipython2",
   "version": "2.7.6"
  }
 },
 "nbformat": 4,
 "nbformat_minor": 5
}
