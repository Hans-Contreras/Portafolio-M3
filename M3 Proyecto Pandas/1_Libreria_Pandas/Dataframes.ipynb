{
 "cells": [
  {
   "metadata": {},
   "cell_type": "markdown",
   "source": [
    "**<p style=\"font-size:18px; color:auto;\">2. DataFrames en Pandas</p>**\n",
    "**<p style=\"font-size:16px; color:auto;\">¿Qué es un DataFrame?</p>**\n",
    "\n",
    "Un DataFrame es una estructura de datos bidimensional con filas y columnas etiquetadas. Es como una tabla de Excel o una base de datos."
   ],
   "id": "8096301789c7bddb"
  },
  {
   "metadata": {
    "ExecuteTime": {
     "end_time": "2025-07-06T05:19:11.439411Z",
     "start_time": "2025-07-06T05:19:11.103379Z"
    }
   },
   "cell_type": "code",
   "source": [
    "import pandas as pd\n",
    "import numpy as np\n",
    "\n",
    "print(F\"Versión instalada de pandas = {pd.__version__}\")\n",
    "print(F\"Versión instalada de numpy = {np.__version__}\")"
   ],
   "id": "c0dd097432d4bb3c",
   "outputs": [
    {
     "name": "stdout",
     "output_type": "stream",
     "text": [
      "Versión instalada de pandas = 2.2.2\n",
      "Versión instalada de numpy = 1.26.4\n"
     ]
    }
   ],
   "execution_count": 1
  },
  {
   "metadata": {
    "ExecuteTime": {
     "end_time": "2025-07-06T05:19:22.826357Z",
     "start_time": "2025-07-06T05:19:22.821453Z"
    }
   },
   "cell_type": "code",
   "source": [
    "# Crear DataFrame desde un diccionario\n",
    "datos_estudiantes = {\n",
    "    'Nombre': ['Ana', 'Juan', 'María', 'Carlos', 'Lucía'],\n",
    "    'Edad': [20, 22, 19, 21, 23],\n",
    "    'Calificación': [85, 90, 78, 88, 92],\n",
    "    'Ciudad': ['Madrid', 'Barcelona', 'Valencia', 'Sevilla', 'Bilbao']\n",
    "}\n",
    "df_estudiantes = pd.DataFrame(datos_estudiantes)\n",
    "print(\"DataFrame desde diccionario:\")\n",
    "print(df_estudiantes)\n",
    "print()"
   ],
   "id": "a1b4b26981d5c40b",
   "outputs": [
    {
     "name": "stdout",
     "output_type": "stream",
     "text": [
      "DataFrame desde diccionario:\n",
      "   Nombre  Edad  Calificación     Ciudad\n",
      "0     Ana    20            85     Madrid\n",
      "1    Juan    22            90  Barcelona\n",
      "2   María    19            78   Valencia\n",
      "3  Carlos    21            88    Sevilla\n",
      "4   Lucía    23            92     Bilbao\n",
      "\n"
     ]
    }
   ],
   "execution_count": 3
  },
  {
   "metadata": {
    "ExecuteTime": {
     "end_time": "2025-07-06T05:19:30.199552Z",
     "start_time": "2025-07-06T05:19:30.195067Z"
    }
   },
   "cell_type": "code",
   "source": [
    "# Crear DataFrame desde listas\n",
    "nombres = ['Pedro', 'Laura', 'Miguel']\n",
    "edades = [25, 28, 30]\n",
    "salarios = [3000, 3500, 4000]\n",
    "df_empleados = pd.DataFrame({\n",
    "    'Nombre': nombres,\n",
    "    'Edad': edades,\n",
    "    'Salario': salarios\n",
    "})\n",
    "print(\"DataFrame desde listas:\")\n",
    "print(df_empleados)\n",
    "print()"
   ],
   "id": "19db2cf35cd8e14e",
   "outputs": [
    {
     "name": "stdout",
     "output_type": "stream",
     "text": [
      "DataFrame desde listas:\n",
      "   Nombre  Edad  Salario\n",
      "0   Pedro    25     3000\n",
      "1   Laura    28     3500\n",
      "2  Miguel    30     4000\n",
      "\n"
     ]
    }
   ],
   "execution_count": 4
  },
  {
   "metadata": {},
   "cell_type": "markdown",
   "source": "**Información básica del DataFrame**\n",
   "id": "a2bbfa965ec6c717"
  },
  {
   "metadata": {
    "ExecuteTime": {
     "end_time": "2025-07-06T05:19:49.504007Z",
     "start_time": "2025-07-06T05:19:49.501006Z"
    }
   },
   "cell_type": "code",
   "source": [
    "print(\"Información del DataFrame:\")\n",
    "print(f\"Forma (filas, columnas): {df_estudiantes.shape}\")\n",
    "print(f\"Columnas: {list(df_estudiantes.columns)}\")\n",
    "print(f\"Índice: {list(df_estudiantes.index)}\")\n",
    "print()"
   ],
   "id": "c0ab5723752dc92e",
   "outputs": [
    {
     "name": "stdout",
     "output_type": "stream",
     "text": [
      "Información del DataFrame:\n",
      "Forma (filas, columnas): (5, 4)\n",
      "Columnas: ['Nombre', 'Edad', 'Calificación', 'Ciudad']\n",
      "Índice: [0, 1, 2, 3, 4]\n",
      "\n"
     ]
    }
   ],
   "execution_count": 5
  },
  {
   "metadata": {
    "ExecuteTime": {
     "end_time": "2025-07-06T05:19:59.374385Z",
     "start_time": "2025-07-06T05:19:59.367464Z"
    }
   },
   "cell_type": "code",
   "source": [
    "# Información detallada\n",
    "print(\"Información detallada:\")\n",
    "df_estudiantes.info()\n",
    "print()\n",
    "\n",
    "# Primeras y últimas filas\n",
    "print(\"Primeras 3 filas:\")\n",
    "print(df_estudiantes.head(3))\n",
    "print()\n",
    "print(\"Últimas 2 filas:\")\n",
    "print(df_estudiantes.tail(2))\n",
    "print()"
   ],
   "id": "2e044b0903686734",
   "outputs": [
    {
     "name": "stdout",
     "output_type": "stream",
     "text": [
      "Información detallada:\n",
      "<class 'pandas.core.frame.DataFrame'>\n",
      "RangeIndex: 5 entries, 0 to 4\n",
      "Data columns (total 4 columns):\n",
      " #   Column        Non-Null Count  Dtype \n",
      "---  ------        --------------  ----- \n",
      " 0   Nombre        5 non-null      object\n",
      " 1   Edad          5 non-null      int64 \n",
      " 2   Calificación  5 non-null      int64 \n",
      " 3   Ciudad        5 non-null      object\n",
      "dtypes: int64(2), object(2)\n",
      "memory usage: 292.0+ bytes\n",
      "\n",
      "Primeras 3 filas:\n",
      "  Nombre  Edad  Calificación     Ciudad\n",
      "0    Ana    20            85     Madrid\n",
      "1   Juan    22            90  Barcelona\n",
      "2  María    19            78   Valencia\n",
      "\n",
      "Últimas 2 filas:\n",
      "   Nombre  Edad  Calificación   Ciudad\n",
      "3  Carlos    21            88  Sevilla\n",
      "4   Lucía    23            92   Bilbao\n",
      "\n"
     ]
    }
   ],
   "execution_count": 6
  },
  {
   "metadata": {},
   "cell_type": "markdown",
   "source": "**Acceso a datos en DataFrame**\n",
   "id": "5b3abe0ead15a24e"
  },
  {
   "metadata": {
    "ExecuteTime": {
     "end_time": "2025-07-06T05:20:24.065114Z",
     "start_time": "2025-07-06T05:20:24.061702Z"
    }
   },
   "cell_type": "code",
   "source": [
    "# Seleccionar una columna (retorna Series)\n",
    "print(\"Columna 'Nombre':\")\n",
    "print(df_estudiantes['Nombre'])\n",
    "print(type(df_estudiantes['Nombre']))\n",
    "print()"
   ],
   "id": "df8bf49c8d0a442c",
   "outputs": [
    {
     "name": "stdout",
     "output_type": "stream",
     "text": [
      "Columna 'Nombre':\n",
      "0       Ana\n",
      "1      Juan\n",
      "2     María\n",
      "3    Carlos\n",
      "4     Lucía\n",
      "Name: Nombre, dtype: object\n",
      "<class 'pandas.core.series.Series'>\n",
      "\n"
     ]
    }
   ],
   "execution_count": 7
  },
  {
   "metadata": {
    "ExecuteTime": {
     "end_time": "2025-07-06T05:20:34.207024Z",
     "start_time": "2025-07-06T05:20:34.203024Z"
    }
   },
   "cell_type": "code",
   "source": [
    "# Seleccionar múltiples columnas (retorna DataFrame)\n",
    "print(\"Columnas 'Nombre' y 'Calificación':\")\n",
    "print(df_estudiantes[['Nombre', 'Calificación']])\n",
    "print()"
   ],
   "id": "90bfc443752a7c35",
   "outputs": [
    {
     "name": "stdout",
     "output_type": "stream",
     "text": [
      "Columnas 'Nombre' y 'Calificación':\n",
      "   Nombre  Calificación\n",
      "0     Ana            85\n",
      "1    Juan            90\n",
      "2   María            78\n",
      "3  Carlos            88\n",
      "4   Lucía            92\n",
      "\n"
     ]
    }
   ],
   "execution_count": 8
  },
  {
   "metadata": {
    "ExecuteTime": {
     "end_time": "2025-07-06T05:20:42.091621Z",
     "start_time": "2025-07-06T05:20:42.086492Z"
    }
   },
   "cell_type": "code",
   "source": [
    "# Seleccionar filas por índice\n",
    "print(\"Primera fila:\")\n",
    "print(df_estudiantes.iloc[0])\n",
    "print()\n",
    "print(\"Filas 1 a 3:\")\n",
    "print(df_estudiantes.iloc[1:4])\n",
    "print()"
   ],
   "id": "ef5856e9101a3daa",
   "outputs": [
    {
     "name": "stdout",
     "output_type": "stream",
     "text": [
      "Primera fila:\n",
      "Nombre             Ana\n",
      "Edad                20\n",
      "Calificación        85\n",
      "Ciudad          Madrid\n",
      "Name: 0, dtype: object\n",
      "\n",
      "Filas 1 a 3:\n",
      "   Nombre  Edad  Calificación     Ciudad\n",
      "1    Juan    22            90  Barcelona\n",
      "2   María    19            78   Valencia\n",
      "3  Carlos    21            88    Sevilla\n",
      "\n"
     ]
    }
   ],
   "execution_count": 9
  },
  {
   "metadata": {
    "ExecuteTime": {
     "end_time": "2025-07-06T05:20:49.607435Z",
     "start_time": "2025-07-06T05:20:49.603434Z"
    }
   },
   "cell_type": "code",
   "source": [
    "# Seleccionar por etiqueta con loc\n",
    "print(\"Fila con índice 2:\")\n",
    "print(df_estudiantes.loc[2])\n",
    "print()"
   ],
   "id": "691df5d96cc10834",
   "outputs": [
    {
     "name": "stdout",
     "output_type": "stream",
     "text": [
      "Fila con índice 2:\n",
      "Nombre             María\n",
      "Edad                  19\n",
      "Calificación          78\n",
      "Ciudad          Valencia\n",
      "Name: 2, dtype: object\n",
      "\n"
     ]
    }
   ],
   "execution_count": 10
  },
  {
   "metadata": {
    "ExecuteTime": {
     "end_time": "2025-07-06T05:20:57.607158Z",
     "start_time": "2025-07-06T05:20:57.603738Z"
    }
   },
   "cell_type": "code",
   "source": [
    "# Seleccionar valor específico\n",
    "print(\"Calificación del primer estudiante:\", df_estudiantes.iloc[0]['Calificación'])\n",
    "print(\"Edad de María:\", df_estudiantes.loc[2, 'Edad'])\n",
    "print()"
   ],
   "id": "52f5f69250d33e52",
   "outputs": [
    {
     "name": "stdout",
     "output_type": "stream",
     "text": [
      "Calificación del primer estudiante: 85\n",
      "Edad de María: 19\n",
      "\n"
     ]
    }
   ],
   "execution_count": 11
  },
  {
   "metadata": {},
   "cell_type": "markdown",
   "source": "**Filtrado de DataFrames**\n",
   "id": "e01649727f98a96e"
  },
  {
   "metadata": {
    "ExecuteTime": {
     "end_time": "2025-07-06T05:21:35.807336Z",
     "start_time": "2025-07-06T05:21:35.800110Z"
    }
   },
   "cell_type": "code",
   "source": [
    "# Filtrar por condición simple\n",
    "print(\"Estudiantes mayores de 20 años:\")\n",
    "print(df_estudiantes[df_estudiantes['Edad'] > 20])\n",
    "print()\n",
    "\n",
    "# Filtrar por múltiples condiciones\n",
    "print(\"Estudiantes mayores de 20 años con calificación mayor a 85:\")\n",
    "print(df_estudiantes[(df_estudiantes['Edad'] > 20) & (df_estudiantes['Calificación'] > 85)])\n",
    "print()\n",
    "\n",
    "# Filtrar por valores específicos\n",
    "ciudades_interes = ['Madrid', 'Barcelona']\n",
    "print(\"Estudiantes de Madrid o Barcelona:\")\n",
    "print(df_estudiantes[df_estudiantes['Ciudad'].isin(ciudades_interes)])\n",
    "print()"
   ],
   "id": "8b65c84dc646dbf5",
   "outputs": [
    {
     "name": "stdout",
     "output_type": "stream",
     "text": [
      "Estudiantes mayores de 20 años:\n",
      "   Nombre  Edad  Calificación     Ciudad\n",
      "1    Juan    22            90  Barcelona\n",
      "3  Carlos    21            88    Sevilla\n",
      "4   Lucía    23            92     Bilbao\n",
      "\n",
      "Estudiantes mayores de 20 años con calificación mayor a 85:\n",
      "   Nombre  Edad  Calificación     Ciudad\n",
      "1    Juan    22            90  Barcelona\n",
      "3  Carlos    21            88    Sevilla\n",
      "4   Lucía    23            92     Bilbao\n",
      "\n",
      "Estudiantes de Madrid o Barcelona:\n",
      "  Nombre  Edad  Calificación     Ciudad\n",
      "0    Ana    20            85     Madrid\n",
      "1   Juan    22            90  Barcelona\n",
      "\n"
     ]
    }
   ],
   "execution_count": 12
  },
  {
   "metadata": {},
   "cell_type": "markdown",
   "source": "**Operaciones con columnas**\n",
   "id": "662daed747e88ac4"
  },
  {
   "metadata": {
    "ExecuteTime": {
     "end_time": "2025-07-06T05:21:59.834879Z",
     "start_time": "2025-07-06T05:21:59.825973Z"
    }
   },
   "cell_type": "code",
   "source": [
    "# Crear nueva columna\n",
    "df_estudiantes['Aprobado'] = df_estudiantes['Calificación'] >= 80\n",
    "print(\"DataFrame con nueva columna 'Aprobado':\")\n",
    "print(df_estudiantes)\n",
    "print()\n",
    "\n",
    "# Operaciones matemáticas en columnas\n",
    "df_estudiantes['Calificación_Normalizada'] = df_estudiantes['Calificación'] / 100\n",
    "print(\"Calificaciones normalizadas:\")\n",
    "print(df_estudiantes[['Nombre', 'Calificación', 'Calificación_Normalizada']])\n",
    "print()\n",
    "\n",
    "# Eliminar columna\n",
    "df_temp = df_estudiantes.drop('Calificación_Normalizada', axis=1)\n",
    "print(\"DataFrame sin la columna 'Calificación_Normalizada':\")\n",
    "print(df_temp)\n",
    "print()"
   ],
   "id": "8afc6446f17dadd4",
   "outputs": [
    {
     "name": "stdout",
     "output_type": "stream",
     "text": [
      "DataFrame con nueva columna 'Aprobado':\n",
      "   Nombre  Edad  Calificación     Ciudad  Aprobado\n",
      "0     Ana    20            85     Madrid      True\n",
      "1    Juan    22            90  Barcelona      True\n",
      "2   María    19            78   Valencia     False\n",
      "3  Carlos    21            88    Sevilla      True\n",
      "4   Lucía    23            92     Bilbao      True\n",
      "\n",
      "Calificaciones normalizadas:\n",
      "   Nombre  Calificación  Calificación_Normalizada\n",
      "0     Ana            85                      0.85\n",
      "1    Juan            90                      0.90\n",
      "2   María            78                      0.78\n",
      "3  Carlos            88                      0.88\n",
      "4   Lucía            92                      0.92\n",
      "\n",
      "DataFrame sin la columna 'Calificación_Normalizada':\n",
      "   Nombre  Edad  Calificación     Ciudad  Aprobado\n",
      "0     Ana    20            85     Madrid      True\n",
      "1    Juan    22            90  Barcelona      True\n",
      "2   María    19            78   Valencia     False\n",
      "3  Carlos    21            88    Sevilla      True\n",
      "4   Lucía    23            92     Bilbao      True\n",
      "\n"
     ]
    }
   ],
   "execution_count": 13
  },
  {
   "metadata": {},
   "cell_type": "markdown",
   "source": "**Estadísticas descriptivas**\n",
   "id": "3915cdcab2d932c"
  },
  {
   "metadata": {
    "ExecuteTime": {
     "end_time": "2025-07-06T05:22:19.061579Z",
     "start_time": "2025-07-06T05:22:19.053372Z"
    }
   },
   "cell_type": "code",
   "source": [
    "print(\"Estadísticas descriptivas:\")\n",
    "print(df_estudiantes.describe())\n",
    "print()\n",
    "\n",
    "# Estadísticas por columna\n",
    "print(\"Promedio de calificaciones:\", df_estudiantes['Calificación'].mean())\n",
    "print(\"Edad máxima:\", df_estudiantes['Edad'].max())\n",
    "print(\"Edad mínima:\", df_estudiantes['Edad'].min())\n",
    "print()"
   ],
   "id": "47313a898e090ed4",
   "outputs": [
    {
     "name": "stdout",
     "output_type": "stream",
     "text": [
      "Estadísticas descriptivas:\n",
      "            Edad  Calificación  Calificación_Normalizada\n",
      "count   5.000000      5.000000                  5.000000\n",
      "mean   21.000000     86.600000                  0.866000\n",
      "std     1.581139      5.458938                  0.054589\n",
      "min    19.000000     78.000000                  0.780000\n",
      "25%    20.000000     85.000000                  0.850000\n",
      "50%    21.000000     88.000000                  0.880000\n",
      "75%    22.000000     90.000000                  0.900000\n",
      "max    23.000000     92.000000                  0.920000\n",
      "\n",
      "Promedio de calificaciones: 86.6\n",
      "Edad máxima: 23\n",
      "Edad mínima: 19\n",
      "\n"
     ]
    }
   ],
   "execution_count": 14
  },
  {
   "metadata": {},
   "cell_type": "markdown",
   "source": "**Agrupación de datos**\n",
   "id": "d6551a8d8f00ffa3"
  },
  {
   "metadata": {
    "ExecuteTime": {
     "end_time": "2025-07-06T05:22:37.319158Z",
     "start_time": "2025-07-06T05:22:37.308662Z"
    }
   },
   "cell_type": "code",
   "source": [
    "print(\"Promedio de calificación por ciudad:\")\n",
    "print(df_estudiantes.groupby('Ciudad')['Calificación'].mean())\n",
    "print()\n",
    "\n",
    "print(\"Estadísticas por estado de aprobación:\")\n",
    "print(df_estudiantes.groupby('Aprobado').agg({\n",
    "    'Edad': 'mean',\n",
    "    'Calificación': ['mean', 'count']\n",
    "}))\n",
    "print()"
   ],
   "id": "93fcaec8e56ff6d",
   "outputs": [
    {
     "name": "stdout",
     "output_type": "stream",
     "text": [
      "Promedio de calificación por ciudad:\n",
      "Ciudad\n",
      "Barcelona    90.0\n",
      "Bilbao       92.0\n",
      "Madrid       85.0\n",
      "Sevilla      88.0\n",
      "Valencia     78.0\n",
      "Name: Calificación, dtype: float64\n",
      "\n",
      "Estadísticas por estado de aprobación:\n",
      "          Edad Calificación      \n",
      "          mean         mean count\n",
      "Aprobado                         \n",
      "False     19.0        78.00     1\n",
      "True      21.5        88.75     4\n",
      "\n"
     ]
    }
   ],
   "execution_count": 15
  },
  {
   "metadata": {},
   "cell_type": "markdown",
   "source": "**Ordenamiento**",
   "id": "d857a8bd393a1a18"
  },
  {
   "metadata": {
    "ExecuteTime": {
     "end_time": "2025-07-06T05:22:58.438592Z",
     "start_time": "2025-07-06T05:22:58.432085Z"
    }
   },
   "cell_type": "code",
   "source": [
    "print(\"Ordenar por calificación (ascendente):\")\n",
    "print(df_estudiantes.sort_values('Calificación'))\n",
    "print()\n",
    "\n",
    "print(\"Ordenar por edad (descendente):\")\n",
    "print(df_estudiantes.sort_values('Edad', ascending=False))\n",
    "print()"
   ],
   "id": "c717a5d0bcfdbbbe",
   "outputs": [
    {
     "name": "stdout",
     "output_type": "stream",
     "text": [
      "Ordenar por calificación (ascendente):\n",
      "   Nombre  Edad  Calificación     Ciudad  Aprobado  Calificación_Normalizada\n",
      "2   María    19            78   Valencia     False                      0.78\n",
      "0     Ana    20            85     Madrid      True                      0.85\n",
      "3  Carlos    21            88    Sevilla      True                      0.88\n",
      "1    Juan    22            90  Barcelona      True                      0.90\n",
      "4   Lucía    23            92     Bilbao      True                      0.92\n",
      "\n",
      "Ordenar por edad (descendente):\n",
      "   Nombre  Edad  Calificación     Ciudad  Aprobado  Calificación_Normalizada\n",
      "4   Lucía    23            92     Bilbao      True                      0.92\n",
      "1    Juan    22            90  Barcelona      True                      0.90\n",
      "3  Carlos    21            88    Sevilla      True                      0.88\n",
      "0     Ana    20            85     Madrid      True                      0.85\n",
      "2   María    19            78   Valencia     False                      0.78\n",
      "\n"
     ]
    }
   ],
   "execution_count": 16
  },
  {
   "metadata": {},
   "cell_type": "markdown",
   "source": "**Manejo de valores nulos**",
   "id": "116564df3e9efa51"
  },
  {
   "metadata": {
    "ExecuteTime": {
     "end_time": "2025-07-06T05:23:20.222587Z",
     "start_time": "2025-07-06T05:23:20.218072Z"
    }
   },
   "cell_type": "code",
   "source": [
    "# Crear DataFrame con valores nulos para demostrar\n",
    "datos_con_nulos = {\n",
    "    'A': [1, 2, None, 4],\n",
    "    'B': [5, None, 7, 8],\n",
    "    'C': [9, 10, 11, None]\n",
    "}\n",
    "df_nulos = pd.DataFrame(datos_con_nulos)\n",
    "print(\"DataFrame con valores nulos:\")\n",
    "print(df_nulos)\n",
    "print()"
   ],
   "id": "dbcb12d79211e146",
   "outputs": [
    {
     "name": "stdout",
     "output_type": "stream",
     "text": [
      "DataFrame con valores nulos:\n",
      "     A    B     C\n",
      "0  1.0  5.0   9.0\n",
      "1  2.0  NaN  10.0\n",
      "2  NaN  7.0  11.0\n",
      "3  4.0  8.0   NaN\n",
      "\n"
     ]
    }
   ],
   "execution_count": 17
  },
  {
   "metadata": {
    "ExecuteTime": {
     "end_time": "2025-07-06T05:23:44.016517Z",
     "start_time": "2025-07-06T05:23:44.012005Z"
    }
   },
   "cell_type": "code",
   "source": [
    "# Detectar valores nulos\n",
    "print(\"¿Hay valores nulos?\")\n",
    "print(df_nulos.isnull())\n",
    "print()\n",
    "print(\"Cantidad de valores nulos por columna:\")\n",
    "print(df_nulos.isnull().sum())\n",
    "print()"
   ],
   "id": "cdad31273838981",
   "outputs": [
    {
     "name": "stdout",
     "output_type": "stream",
     "text": [
      "¿Hay valores nulos?\n",
      "       A      B      C\n",
      "0  False  False  False\n",
      "1  False   True  False\n",
      "2   True  False  False\n",
      "3  False  False   True\n",
      "\n",
      "Cantidad de valores nulos por columna:\n",
      "A    1\n",
      "B    1\n",
      "C    1\n",
      "dtype: int64\n",
      "\n"
     ]
    }
   ],
   "execution_count": 18
  },
  {
   "metadata": {
    "ExecuteTime": {
     "end_time": "2025-07-06T05:23:53.485197Z",
     "start_time": "2025-07-06T05:23:53.480798Z"
    }
   },
   "cell_type": "code",
   "source": [
    "# Eliminar filas con valores nulos\n",
    "print(\"DataFrame sin filas con valores nulos:\")\n",
    "print(df_nulos.dropna())\n",
    "print()"
   ],
   "id": "4f20b3c2b8d4e4a2",
   "outputs": [
    {
     "name": "stdout",
     "output_type": "stream",
     "text": [
      "DataFrame sin filas con valores nulos:\n",
      "     A    B    C\n",
      "0  1.0  5.0  9.0\n",
      "\n"
     ]
    }
   ],
   "execution_count": 19
  },
  {
   "metadata": {
    "ExecuteTime": {
     "end_time": "2025-07-06T05:24:03.565959Z",
     "start_time": "2025-07-06T05:24:03.561711Z"
    }
   },
   "cell_type": "code",
   "source": [
    "# Rellenar valores nulos\n",
    "print(\"DataFrame con valores nulos rellenados con 0:\")\n",
    "print(df_nulos.fillna(0))\n",
    "print()"
   ],
   "id": "caba30d85552b8cc",
   "outputs": [
    {
     "name": "stdout",
     "output_type": "stream",
     "text": [
      "DataFrame con valores nulos rellenados con 0:\n",
      "     A    B     C\n",
      "0  1.0  5.0   9.0\n",
      "1  2.0  0.0  10.0\n",
      "2  0.0  7.0  11.0\n",
      "3  4.0  8.0   0.0\n",
      "\n"
     ]
    }
   ],
   "execution_count": 20
  },
  {
   "metadata": {},
   "cell_type": "markdown",
   "source": "**Operaciones entre DataFrames**\n",
   "id": "42f1c80e2bab0c0f"
  },
  {
   "metadata": {
    "ExecuteTime": {
     "end_time": "2025-07-06T05:24:19.956813Z",
     "start_time": "2025-07-06T05:24:19.952307Z"
    }
   },
   "cell_type": "code",
   "source": [
    "# Crear segundo DataFrame para demostrar operaciones\n",
    "datos_notas = {\n",
    "    'Nombre': ['Ana', 'Juan', 'María', 'Carlos'],\n",
    "    'Matemáticas': [90, 85, 88, 92],\n",
    "    'Historia': [78, 82, 90, 86]\n",
    "}\n",
    "df_notas = pd.DataFrame(datos_notas)\n",
    "print(\"Segundo DataFrame (notas por materia):\")\n",
    "print(df_notas)\n",
    "print()"
   ],
   "id": "6969915f258b22cb",
   "outputs": [
    {
     "name": "stdout",
     "output_type": "stream",
     "text": [
      "Segundo DataFrame (notas por materia):\n",
      "   Nombre  Matemáticas  Historia\n",
      "0     Ana           90        78\n",
      "1    Juan           85        82\n",
      "2   María           88        90\n",
      "3  Carlos           92        86\n",
      "\n"
     ]
    }
   ],
   "execution_count": 21
  },
  {
   "metadata": {
    "ExecuteTime": {
     "end_time": "2025-07-06T05:24:27.340855Z",
     "start_time": "2025-07-06T05:24:27.330230Z"
    }
   },
   "cell_type": "code",
   "source": [
    "# Unir DataFrames\n",
    "df_unido = pd.merge(df_estudiantes, df_notas, on='Nombre', how='inner')\n",
    "print(\"DataFrames unidos:\")\n",
    "print(df_unido[['Nombre', 'Edad', 'Calificación', 'Matemáticas', 'Historia']])\n",
    "print()"
   ],
   "id": "863c297ceaef85de",
   "outputs": [
    {
     "name": "stdout",
     "output_type": "stream",
     "text": [
      "DataFrames unidos:\n",
      "   Nombre  Edad  Calificación  Matemáticas  Historia\n",
      "0     Ana    20            85           90        78\n",
      "1    Juan    22            90           85        82\n",
      "2   María    19            78           88        90\n",
      "3  Carlos    21            88           92        86\n",
      "\n"
     ]
    }
   ],
   "execution_count": 22
  },
  {
   "metadata": {},
   "cell_type": "markdown",
   "source": "**Métodos útiles adicionales**\n",
   "id": "189c19a73ca9fb5"
  },
  {
   "metadata": {
    "ExecuteTime": {
     "end_time": "2025-07-06T05:24:45.863522Z",
     "start_time": "2025-07-06T05:24:45.856426Z"
    }
   },
   "cell_type": "code",
   "source": [
    "# Aplicar función a columna\n",
    "df_estudiantes['Nombre_Mayusculas'] = df_estudiantes['Nombre'].str.upper()\n",
    "print(\"Nombres en mayúsculas:\")\n",
    "print(df_estudiantes[['Nombre', 'Nombre_Mayusculas']])\n",
    "print()\n",
    "\n",
    "# Contar valores únicos\n",
    "print(\"Valores únicos en la columna 'Ciudad':\")\n",
    "print(df_estudiantes['Ciudad'].value_counts())\n",
    "print()\n",
    "\n",
    "# Verificar duplicados\n",
    "print(\"¿Hay filas duplicadas?:\", df_estudiantes.duplicated().any())\n",
    "print()"
   ],
   "id": "d40a5b00d6a3190c",
   "outputs": [
    {
     "name": "stdout",
     "output_type": "stream",
     "text": [
      "Nombres en mayúsculas:\n",
      "   Nombre Nombre_Mayusculas\n",
      "0     Ana               ANA\n",
      "1    Juan              JUAN\n",
      "2   María             MARÍA\n",
      "3  Carlos            CARLOS\n",
      "4   Lucía             LUCÍA\n",
      "\n",
      "Valores únicos en la columna 'Ciudad':\n",
      "Ciudad\n",
      "Madrid       1\n",
      "Barcelona    1\n",
      "Valencia     1\n",
      "Sevilla      1\n",
      "Bilbao       1\n",
      "Name: count, dtype: int64\n",
      "\n",
      "¿Hay filas duplicadas?: False\n",
      "\n"
     ]
    }
   ],
   "execution_count": 23
  }
 ],
 "metadata": {
  "kernelspec": {
   "display_name": "Python [conda env:base] *",
   "language": "python",
   "name": "conda-base-py"
  },
  "language_info": {
   "codemirror_mode": {
    "name": "ipython",
    "version": 2
   },
   "file_extension": ".py",
   "mimetype": "text/x-python",
   "name": "python",
   "nbconvert_exporter": "python",
   "pygments_lexer": "ipython2",
   "version": "2.7.6"
  }
 },
 "nbformat": 4,
 "nbformat_minor": 5
}
