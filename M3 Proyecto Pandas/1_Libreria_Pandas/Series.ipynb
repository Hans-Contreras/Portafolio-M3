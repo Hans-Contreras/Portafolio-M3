{
 "cells": [
  {
   "metadata": {},
   "cell_type": "markdown",
   "source": "**<p style=\"font-size:22px; color:auto;\">Importación de la librería</p>**",
   "id": "a7eed65257930014"
  },
  {
   "metadata": {
    "ExecuteTime": {
     "end_time": "2025-07-06T05:14:11.500366Z",
     "start_time": "2025-07-06T05:14:11.192309Z"
    }
   },
   "cell_type": "code",
   "source": [
    "import pandas as pd\n",
    "import numpy as np\n",
    "\n",
    "print(F\"Versión instalada de pandas = {pd.__version__}\")\n",
    "print(F\"Versión instalada de numpy = {np.__version__}\")"
   ],
   "id": "cbac4ee72b978b57",
   "outputs": [
    {
     "name": "stdout",
     "output_type": "stream",
     "text": [
      "Versión instalada de pandas = 2.2.2\n",
      "Versión instalada de numpy = 1.26.4\n"
     ]
    }
   ],
   "execution_count": 2
  },
  {
   "metadata": {},
   "cell_type": "markdown",
   "source": [
    "**<p style=\"font-size:18px; color:auto;\">1. Series en Pandas</p>**\n",
    "**<p style=\"font-size:16px; color:auto;\">¿Qué es una Series?</p>**\n",
    "\n",
    "Una Series es una estructura de datos unidimensional con índices etiquetados. Es como una columna de una tabla o un array con etiquetas."
   ],
   "id": "9541acc90360ed04"
  },
  {
   "metadata": {
    "ExecuteTime": {
     "end_time": "2025-07-06T05:14:13.519554Z",
     "start_time": "2025-07-06T05:14:13.516346Z"
    }
   },
   "cell_type": "code",
   "source": [
    "# Crear Series desde una lista\n",
    "serie_numeros = pd.Series([10, 20, 30, 40, 50])\n",
    "print(\"Serie desde lista:\")\n",
    "print(serie_numeros)\n",
    "print()"
   ],
   "id": "e3e85229ed27cc0a",
   "outputs": [
    {
     "name": "stdout",
     "output_type": "stream",
     "text": [
      "Serie desde lista:\n",
      "0    10\n",
      "1    20\n",
      "2    30\n",
      "3    40\n",
      "4    50\n",
      "dtype: int64\n",
      "\n"
     ]
    }
   ],
   "execution_count": 3
  },
  {
   "metadata": {
    "ExecuteTime": {
     "end_time": "2025-07-06T05:14:23.337952Z",
     "start_time": "2025-07-06T05:14:23.334015Z"
    }
   },
   "cell_type": "code",
   "source": [
    "# Crear Series con índices personalizados\n",
    "serie_frutas = pd.Series([5, 3, 8, 2], index=['manzanas', 'naranjas', 'plátanos', 'uvas'])\n",
    "print(\"Serie con índices personalizados:\")\n",
    "print(serie_frutas)\n",
    "print()"
   ],
   "id": "bf076c1d7c3f532b",
   "outputs": [
    {
     "name": "stdout",
     "output_type": "stream",
     "text": [
      "Serie con índices personalizados:\n",
      "manzanas    5\n",
      "naranjas    3\n",
      "plátanos    8\n",
      "uvas        2\n",
      "dtype: int64\n",
      "\n"
     ]
    }
   ],
   "execution_count": 4
  },
  {
   "metadata": {
    "ExecuteTime": {
     "end_time": "2025-07-06T05:14:30.676835Z",
     "start_time": "2025-07-06T05:14:30.673163Z"
    }
   },
   "cell_type": "code",
   "source": [
    "# Crear Series desde un diccionario\n",
    "ventas = {'enero': 1000, 'febrero': 1200, 'marzo': 900, 'abril': 1500}\n",
    "serie_ventas = pd.Series(ventas)\n",
    "print(\"Serie desde diccionario:\")\n",
    "print(serie_ventas)\n",
    "print()"
   ],
   "id": "6e44717c9fa15b8c",
   "outputs": [
    {
     "name": "stdout",
     "output_type": "stream",
     "text": [
      "Serie desde diccionario:\n",
      "enero      1000\n",
      "febrero    1200\n",
      "marzo       900\n",
      "abril      1500\n",
      "dtype: int64\n",
      "\n"
     ]
    }
   ],
   "execution_count": 5
  },
  {
   "metadata": {},
   "cell_type": "markdown",
   "source": "**<p style=\"font-size:18px; color:auto;\">Acceso a elementos de una Series</p>**\n",
   "id": "7db19b272493b4db"
  },
  {
   "metadata": {
    "ExecuteTime": {
     "end_time": "2025-07-06T05:15:22.766977Z",
     "start_time": "2025-07-06T05:15:22.762216Z"
    }
   },
   "cell_type": "code",
   "source": [
    "# Acceso por índice posicional\n",
    "print(\"Primer elemento:\", serie_numeros[0])\n",
    "print(\"Último elemento:\", serie_numeros.iloc[-1])  # Usar iloc para acceso posicional\n",
    "print()\n",
    "\n",
    "# Acceso por etiqueta de índice\n",
    "print(\"Ventas de marzo:\", serie_ventas['marzo'])\n",
    "print(\"Cantidad de manzanas:\", serie_frutas['manzanas'])\n",
    "print()\n",
    "\n",
    "# Acceso a múltiples elementos\n",
    "print(\"Primeros 3 elementos:\")\n",
    "print(serie_numeros[:3])\n",
    "print()\n",
    "print(\"Ventas de enero y abril:\")\n",
    "print(serie_ventas[['enero', 'abril']])\n",
    "print()"
   ],
   "id": "4b034dff09c3190c",
   "outputs": [
    {
     "name": "stdout",
     "output_type": "stream",
     "text": [
      "Primer elemento: 10\n",
      "Último elemento: 50\n",
      "\n",
      "Ventas de marzo: 900\n",
      "Cantidad de manzanas: 5\n",
      "\n",
      "Primeros 3 elementos:\n",
      "0    10\n",
      "1    20\n",
      "2    30\n",
      "dtype: int64\n",
      "\n",
      "Ventas de enero y abril:\n",
      "enero    1000\n",
      "abril    1500\n",
      "dtype: int64\n",
      "\n"
     ]
    }
   ],
   "execution_count": 6
  },
  {
   "metadata": {},
   "cell_type": "markdown",
   "source": "**Operaciones básicas con Series**",
   "id": "bf957088a2d62d8c"
  },
  {
   "metadata": {
    "ExecuteTime": {
     "end_time": "2025-07-06T05:15:48.195275Z",
     "start_time": "2025-07-06T05:15:48.190690Z"
    }
   },
   "cell_type": "code",
   "source": [
    "# Operaciones matemáticas\n",
    "print(\"Serie original:\")\n",
    "print(serie_numeros)\n",
    "print(\"\\nSuma 5 a todos los elementos:\")\n",
    "print(serie_numeros + 5)\n",
    "print(\"\\nMultiplica por 2:\")\n",
    "print(serie_numeros * 2)\n",
    "print()\n",
    "\n",
    "# Operaciones estadísticas\n",
    "print(\"Suma total:\", serie_numeros.sum())\n",
    "print(\"Promedio:\", serie_numeros.mean())\n",
    "print(\"Valor máximo:\", serie_numeros.max())\n",
    "print(\"Valor mínimo:\", serie_numeros.min())\n",
    "print()"
   ],
   "id": "85dc7fadcfd60ec4",
   "outputs": [
    {
     "name": "stdout",
     "output_type": "stream",
     "text": [
      "Serie original:\n",
      "0    10\n",
      "1    20\n",
      "2    30\n",
      "3    40\n",
      "4    50\n",
      "dtype: int64\n",
      "\n",
      "Suma 5 a todos los elementos:\n",
      "0    15\n",
      "1    25\n",
      "2    35\n",
      "3    45\n",
      "4    55\n",
      "dtype: int64\n",
      "\n",
      "Multiplica por 2:\n",
      "0     20\n",
      "1     40\n",
      "2     60\n",
      "3     80\n",
      "4    100\n",
      "dtype: int64\n",
      "\n",
      "Suma total: 150\n",
      "Promedio: 30.0\n",
      "Valor máximo: 50\n",
      "Valor mínimo: 10\n",
      "\n"
     ]
    }
   ],
   "execution_count": 7
  },
  {
   "metadata": {},
   "cell_type": "markdown",
   "source": "**Filtrado de Series**\n",
   "id": "a99c1825b616b9a2"
  },
  {
   "metadata": {
    "ExecuteTime": {
     "end_time": "2025-07-06T05:16:27.954941Z",
     "start_time": "2025-07-06T05:16:27.949939Z"
    }
   },
   "cell_type": "code",
   "source": [
    "# Filtrar elementos mayores a un valor\n",
    "print(\"Frutas con más de 4 unidades:\")\n",
    "print(serie_frutas[serie_frutas > 4])\n",
    "print()\n",
    "\n",
    "# Filtrar con múltiples condiciones\n",
    "print(\"Números entre 20 y 40:\")\n",
    "print(serie_numeros[(serie_numeros >= 20) & (serie_numeros <= 40)])\n",
    "print()"
   ],
   "id": "bf110115b70dd348",
   "outputs": [
    {
     "name": "stdout",
     "output_type": "stream",
     "text": [
      "Frutas con más de 4 unidades:\n",
      "manzanas    5\n",
      "plátanos    8\n",
      "dtype: int64\n",
      "\n",
      "Números entre 20 y 40:\n",
      "1    20\n",
      "2    30\n",
      "3    40\n",
      "dtype: int64\n",
      "\n"
     ]
    }
   ],
   "execution_count": 8
  },
  {
   "metadata": {},
   "cell_type": "markdown",
   "source": "**Métodos útiles de Series**\n",
   "id": "485e3c97a5f117e7"
  },
  {
   "metadata": {
    "ExecuteTime": {
     "end_time": "2025-07-06T05:16:47.589032Z",
     "start_time": "2025-07-06T05:16:47.583877Z"
    }
   },
   "cell_type": "code",
   "source": [
    "# Información básica\n",
    "print(\"Información de la serie:\")\n",
    "print(f\"Tamaño: {serie_frutas.size}\")\n",
    "print(f\"Forma: {serie_frutas.shape}\")\n",
    "print(f\"Índice: {list(serie_frutas.index)}\")\n",
    "print(f\"Valores: {list(serie_frutas.values)}\")\n",
    "print()\n",
    "\n",
    "# Verificar valores nulos\n",
    "serie_con_nulos = pd.Series([1, 2, None, 4, 5])\n",
    "print(\"Serie con valores nulos:\")\n",
    "print(serie_con_nulos)\n",
    "print(\"¿Hay valores nulos?:\", serie_con_nulos.isnull().any())\n",
    "print(\"Cantidad de valores nulos:\", serie_con_nulos.isnull().sum())\n",
    "print()"
   ],
   "id": "a8aef23a1b3b778",
   "outputs": [
    {
     "name": "stdout",
     "output_type": "stream",
     "text": [
      "Información de la serie:\n",
      "Tamaño: 4\n",
      "Forma: (4,)\n",
      "Índice: ['manzanas', 'naranjas', 'plátanos', 'uvas']\n",
      "Valores: [5, 3, 8, 2]\n",
      "\n",
      "Serie con valores nulos:\n",
      "0    1.0\n",
      "1    2.0\n",
      "2    NaN\n",
      "3    4.0\n",
      "4    5.0\n",
      "dtype: float64\n",
      "¿Hay valores nulos?: True\n",
      "Cantidad de valores nulos: 1\n",
      "\n"
     ]
    }
   ],
   "execution_count": 9
  }
 ],
 "metadata": {
  "kernelspec": {
   "display_name": "Python [conda env:base] *",
   "language": "python",
   "name": "conda-base-py"
  },
  "language_info": {
   "codemirror_mode": {
    "name": "ipython",
    "version": 2
   },
   "file_extension": ".py",
   "mimetype": "text/x-python",
   "name": "python",
   "nbconvert_exporter": "python",
   "pygments_lexer": "ipython2",
   "version": "2.7.6"
  }
 },
 "nbformat": 4,
 "nbformat_minor": 5
}
