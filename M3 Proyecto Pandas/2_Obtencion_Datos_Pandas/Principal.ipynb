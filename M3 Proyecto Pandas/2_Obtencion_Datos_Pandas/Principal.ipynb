{
 "cells": [
  {
   "metadata": {},
   "cell_type": "markdown",
   "source": [
    "## **📋 1) Introducción al manejo de archivos y configuración inicial**\n",
    "\n",
    "### **Aspectos analizados**\n",
    "\n",
    "* Establece las dependencias: Importa todas las librerías que usaremos\n",
    "* Verifica compatibilidad: Muestra la versión de Pandas instalada\n",
    "* Prepara el entorno: Asegura que tenemos las herramientas necesarias\n",
    "* Documentación: Explica las ventajas de usar Pandas para CSV"
   ],
   "id": "b2f8f9ea86560b63"
  },
  {
   "metadata": {
    "ExecuteTime": {
     "end_time": "2025-07-06T05:46:41.218530Z",
     "start_time": "2025-07-06T05:46:40.604881Z"
    }
   },
   "cell_type": "code",
   "source": [
    "# Importación de librerías necesarias\n",
    "import pandas as pd\n",
    "import numpy as np\n",
    "import matplotlib.pyplot as plt\n",
    "\n",
    "# Verificar versión de pandas\n",
    "print(f\"Versión de Pandas: {pd.__version__}\")\n",
    "print(F\"Versión de Numpy: {np.__version__}\")"
   ],
   "id": "713725fc74749de0",
   "outputs": [
    {
     "name": "stdout",
     "output_type": "stream",
     "text": [
      "Versión de Pandas: 2.2.2\n",
      "Versión de Numpy: 1.26.4\n"
     ]
    }
   ],
   "execution_count": 1
  },
  {
   "metadata": {},
   "cell_type": "markdown",
   "source": [
    "## **📋 2) Lectura de archivos CSV**\n",
    "### **Aspectos analizados**\n",
    "* Creación de DATAFRAMES de prueba para generar archivos CSV\n",
    "* Manejo de distintos delimitadores\n",
    "* Opciones adicionales\n",
    "* Nombres personalizados"
   ],
   "id": "23ac54dc299ef514"
  },
  {
   "metadata": {
    "ExecuteTime": {
     "end_time": "2025-07-06T05:46:41.236772Z",
     "start_time": "2025-07-06T05:46:41.230771Z"
    }
   },
   "cell_type": "code",
   "source": [
    "# Sintaxis más simple para leer un archivo CSV - read_csv()\n",
    "\n",
    "# Ejemplo básico (usando datos de muestra)\n",
    "# df = pd.read_csv('archivo.csv')\n",
    "\n",
    "# Para demostrar, crearemos datos de ejemplo\n",
    "datos_ejemplo = {\n",
    "    'Nombre': ['Juan', 'María', 'Pedro', 'Ana'],\n",
    "    'Edad': [25, 30, 35, 28],\n",
    "    'Ciudad': ['Madrid', 'Barcelona', 'Valencia', 'Sevilla'],\n",
    "    'Salario': [3000, 3500, 4000, 3200]\n",
    "}\n",
    "\n",
    "df_ejemplo = pd.DataFrame(datos_ejemplo)\n",
    "print(\"DataFrame de ejemplo:\")\n",
    "print(df_ejemplo)\n"
   ],
   "id": "9b660ad085ae9291",
   "outputs": [
    {
     "name": "stdout",
     "output_type": "stream",
     "text": [
      "DataFrame de ejemplo:\n",
      "  Nombre  Edad     Ciudad  Salario\n",
      "0   Juan    25     Madrid     3000\n",
      "1  María    30  Barcelona     3500\n",
      "2  Pedro    35   Valencia     4000\n",
      "3    Ana    28    Sevilla     3200\n"
     ]
    }
   ],
   "execution_count": 2
  },
  {
   "metadata": {
    "ExecuteTime": {
     "end_time": "2025-07-06T05:46:41.295617Z",
     "start_time": "2025-07-06T05:46:41.286701Z"
    }
   },
   "cell_type": "code",
   "source": [
    "\"\"\" Ejemplos de delimitadores comunes:\n",
    "        • Coma (,) - delimitador estándar\n",
    "        • Punto y coma (;) - común en países europeos\n",
    "        • Tabulación (t) - para datos tabulados\"\n",
    "        • Espacio ( ) - menos común pero posible\n",
    "\n",
    "    Ejemplo con punto y coma\n",
    "        df = pd.read_csv('archivo.csv', sep=';')\n",
    "\n",
    "    Ejemplo con tabulación\n",
    "        df = pd.read_csv('archivo.csv', sep='\\t') \"\"\"\n",
    "# OPCIONES ADICIONALES PARA read_csv()\n",
    "\n",
    "# Crear archivo CSV de ejemplo para demostrar\n",
    "# index=False - No incluir el índice del DataFrame como columna en el archivo CSV\n",
    "df_ejemplo.to_csv('1_ejemplo.csv', index=False)\n",
    "\n",
    "# 1. Sin encabezados (header=None)\n",
    "df_sin_header = pd.read_csv('1_ejemplo.csv', header=None)\n",
    "#header Usa la primera fila como nombres de columnas, por defecto está en 0\n",
    "#header NONE No hay fila de encabezados, pandas asigna nombres automáticos\n",
    "print(\"\\nDataFrame sin reconocer encabezados:\")\n",
    "print(df_sin_header.head())"
   ],
   "id": "935ab9695fa90d9",
   "outputs": [
    {
     "name": "stdout",
     "output_type": "stream",
     "text": [
      "\n",
      "DataFrame sin reconocer encabezados:\n",
      "        0     1          2        3\n",
      "0  Nombre  Edad     Ciudad  Salario\n",
      "1    Juan    25     Madrid     3000\n",
      "2   María    30  Barcelona     3500\n",
      "3   Pedro    35   Valencia     4000\n",
      "4     Ana    28    Sevilla     3200\n"
     ]
    }
   ],
   "execution_count": 3
  },
  {
   "metadata": {
    "ExecuteTime": {
     "end_time": "2025-07-06T05:46:41.420865Z",
     "start_time": "2025-07-06T05:46:41.415357Z"
    }
   },
   "cell_type": "code",
   "source": [
    "# 2. Asignar nombres personalizados a las columnas\n",
    "df_nombres_custom = pd.read_csv('1_ejemplo.csv',\n",
    "                               header=None,\n",
    "                               names=['Persona', 'Años', 'Ubicación', 'Sueldo'])\n",
    "print(\"DataFrame con nombres personalizados:\\n\")\n",
    "#head() - Muestra los primeros 5 registros del Dataframe\n",
    "print(df_nombres_custom.head())"
   ],
   "id": "8c986f0ee480e91b",
   "outputs": [
    {
     "name": "stdout",
     "output_type": "stream",
     "text": [
      "DataFrame con nombres personalizados:\n",
      "\n",
      "  Persona  Años  Ubicación   Sueldo\n",
      "0  Nombre  Edad     Ciudad  Salario\n",
      "1    Juan    25     Madrid     3000\n",
      "2   María    30  Barcelona     3500\n",
      "3   Pedro    35   Valencia     4000\n",
      "4     Ana    28    Sevilla     3200\n"
     ]
    }
   ],
   "execution_count": 4
  },
  {
   "metadata": {
    "ExecuteTime": {
     "end_time": "2025-07-06T05:46:41.499982Z",
     "start_time": "2025-07-06T05:46:41.492981Z"
    }
   },
   "cell_type": "code",
   "source": [
    "#3. Especificar valores nulos personalizados\n",
    "#Primero creamos un archivo con valores especiales\n",
    "datos_con_nulos = {\n",
    "    'Nombre': ['Juan', 'María', '?', 'Ana'],\n",
    "    'Edad': [25, 30, 'N/A', 28],\n",
    "    'Ciudad': ['Madrid', 'Barcelona', 'Valencia', '?'],\n",
    "    'Salario': [3000, 3500, 4000, 'N/A']\n",
    "}\n",
    "\n",
    "df_con_nulos = pd.DataFrame(datos_con_nulos)\n",
    "df_con_nulos.to_csv('2_ejemplo_nulos.csv', index=False)\n",
    "\n",
    "#Leer especificando valores nulos\n",
    "#'?' y 'N/A' se convertirán automáticamente a NaN\n",
    "df_nulos_procesados = pd.read_csv('2_ejemplo_nulos.csv',\n",
    "                                 na_values=['?', 'N/A'])\n",
    "print(\"DataFrame con valores nulos procesados:\\n\")\n",
    "print(df_nulos_procesados)\n",
    "print(f\"\\nValores nulos encontrados:\\n\")\n",
    "print(df_nulos_procesados.isnull().sum())"
   ],
   "id": "96fec4c67d84e5e",
   "outputs": [
    {
     "name": "stdout",
     "output_type": "stream",
     "text": [
      "DataFrame con valores nulos procesados:\n",
      "\n",
      "  Nombre  Edad     Ciudad  Salario\n",
      "0   Juan  25.0     Madrid   3000.0\n",
      "1  María  30.0  Barcelona   3500.0\n",
      "2    NaN   NaN   Valencia   4000.0\n",
      "3    Ana  28.0        NaN      NaN\n",
      "\n",
      "Valores nulos encontrados:\n",
      "\n",
      "Nombre     1\n",
      "Edad       1\n",
      "Ciudad     1\n",
      "Salario    1\n",
      "dtype: int64\n"
     ]
    }
   ],
   "execution_count": 5
  },
  {
   "metadata": {},
   "cell_type": "markdown",
   "source": [
    "## **📋 3) Escritura de archivos CSV**\n",
    "### **Aspectos analizados**\n",
    "* Personalización de exportación\n",
    "* Guardar un DATAFRAME en archivos CSV\n",
    "* Preparar el DATAFRAME para exportar"
   ],
   "id": "30d4896c9714b2ad"
  },
  {
   "metadata": {
    "ExecuteTime": {
     "end_time": "2025-07-06T05:46:41.530881Z",
     "start_time": "2025-07-06T05:46:41.525373Z"
    }
   },
   "cell_type": "code",
   "source": [
    "# Preparar DataFrame para exportar\n",
    "df_para_exportar = df_ejemplo.copy()\n",
    "\n",
    "# Exportación simple\n",
    "df_para_exportar.to_csv('3_nuevo_archivo.csv', index=False)\n",
    "print(\"Archivo 'nuevo_archivo.csv' creado exitosamente\")\n",
    "\n",
    "# Verificar que se guardó correctamente\n",
    "df_verificacion = pd.read_csv('3_nuevo_archivo.csv')\n",
    "print(\"Contenido del archivo guardado:\")\n",
    "print(df_verificacion)"
   ],
   "id": "39754bc3f896c61a",
   "outputs": [
    {
     "name": "stdout",
     "output_type": "stream",
     "text": [
      "Archivo 'nuevo_archivo.csv' creado exitosamente\n",
      "Contenido del archivo guardado:\n",
      "  Nombre  Edad     Ciudad  Salario\n",
      "0   Juan    25     Madrid     3000\n",
      "1  María    30  Barcelona     3500\n",
      "2  Pedro    35   Valencia     4000\n",
      "3    Ana    28    Sevilla     3200\n"
     ]
    }
   ],
   "execution_count": 6
  },
  {
   "metadata": {
    "ExecuteTime": {
     "end_time": "2025-07-06T05:46:41.577713Z",
     "start_time": "2025-07-06T05:46:41.572712Z"
    }
   },
   "cell_type": "code",
   "source": [
    "# PERSONALIZACIÓN DE LA EXPORTACIÓN CSV\n",
    "# 1. Cambiar el delimitador a punto y coma\n",
    "df_para_exportar.to_csv('4_archivo_puntoycoma.csv', sep=';', index=False)\n",
    "print(\"Archivo con delimitador ';' creado\")\n",
    "\n",
    "# 2. Especificar codificación UTF-8\n",
    "df_para_exportar.to_csv('5_archivo_utf8.csv', encoding='utf-8', index=False)\n",
    "print(\"Archivo con codificación UTF-8 creado\")\n",
    "\n",
    "# 3. Omitir encabezados\n",
    "df_para_exportar.to_csv('6_archivo_sin_headers.csv', header=False, index=False)\n",
    "print(\"Archivo sin encabezados creado\")"
   ],
   "id": "f602ec0986cc1c5e",
   "outputs": [
    {
     "name": "stdout",
     "output_type": "stream",
     "text": [
      "Archivo con delimitador ';' creado\n",
      "Archivo con codificación UTF-8 creado\n",
      "Archivo sin encabezados creado\n"
     ]
    }
   ],
   "execution_count": 7
  },
  {
   "metadata": {
    "ExecuteTime": {
     "end_time": "2025-07-06T05:46:41.619922Z",
     "start_time": "2025-07-06T05:46:41.615418Z"
    }
   },
   "cell_type": "code",
   "source": [
    "# EJEMPLO COMPLETO DE PERSONALIZACIÓN\n",
    "df_para_exportar.to_csv('7_archivo_personalizado.csv',\n",
    "                       sep=';',\n",
    "                       encoding='utf-8',\n",
    "                       header=False,\n",
    "                       index=False)\n",
    "\n",
    "print(\"Archivo completamente personalizado creado con:\")\n",
    "print(\"- Delimitador: punto y coma (;)\")\n",
    "print(\"- Codificación: UTF-8\")\n",
    "print(\"- Sin encabezados\")\n",
    "print(\"- Sin índice\")"
   ],
   "id": "3763df0c0627aa5a",
   "outputs": [
    {
     "name": "stdout",
     "output_type": "stream",
     "text": [
      "Archivo completamente personalizado creado con:\n",
      "- Delimitador: punto y coma (;)\n",
      "- Codificación: UTF-8\n",
      "- Sin encabezados\n",
      "- Sin índice\n"
     ]
    }
   ],
   "execution_count": 8
  },
  {
   "metadata": {},
   "cell_type": "markdown",
   "source": [
    "## **📋 4) Lectura de archivos EXCEL**\n",
    "### **Aspectos analizados**\n",
    "* Lectura básica de un archivo EXCEL\n",
    "* Lectura de múltiples hojas de un EXCEL"
   ],
   "id": "b91f2dfc4db64cc0"
  },
  {
   "metadata": {
    "ExecuteTime": {
     "end_time": "2025-07-06T05:46:41.819402Z",
     "start_time": "2025-07-06T05:46:41.646516Z"
    }
   },
   "cell_type": "code",
   "source": [
    "# Leer archivos Excel (.xlsx o .xls)\n",
    "# Crear un archivo Excel de ejemplo\n",
    "df_excel_ejemplo = pd.DataFrame({\n",
    "    'Producto': ['Laptop', 'Mouse', 'Teclado', 'Monitor'],\n",
    "    'Precio': [800, 25, 60, 300],\n",
    "    'Stock': [10, 50, 30, 15],\n",
    "    'Categoria': ['Electrónicos', 'Accesorios', 'Accesorios', 'Electrónicos']\n",
    "})\n",
    "\n",
    "# Guardar como Excel\n",
    "df_excel_ejemplo.to_excel('8_productos.xlsx', index=False)\n",
    "print(\"Archivo Excel 'productos.xlsx' creado\")\n",
    "\n",
    "# Leer el archivo Excel\n",
    "df_desde_excel = pd.read_excel('8_productos.xlsx')\n",
    "print(\"Datos leídos desde Excel:\")\n",
    "print(df_desde_excel)"
   ],
   "id": "24f0dead67eb0e41",
   "outputs": [
    {
     "name": "stdout",
     "output_type": "stream",
     "text": [
      "Archivo Excel 'productos.xlsx' creado\n",
      "Datos leídos desde Excel:\n",
      "  Producto  Precio  Stock     Categoria\n",
      "0   Laptop     800     10  Electrónicos\n",
      "1    Mouse      25     50    Accesorios\n",
      "2  Teclado      60     30    Accesorios\n",
      "3  Monitor     300     15  Electrónicos\n"
     ]
    }
   ],
   "execution_count": 9
  },
  {
   "metadata": {
    "ExecuteTime": {
     "end_time": "2025-07-06T05:46:41.845160Z",
     "start_time": "2025-07-06T05:46:41.832917Z"
    }
   },
   "cell_type": "code",
   "source": [
    "# %%\n",
    "# TRABAJANDO CON MÚLTIPLES HOJAS DE EXCEL\n",
    "\n",
    "# El siguiente código es equivalente a :\n",
    "# writer = pd.ExcelWriter('9_inventario_multiple.xlsx')\n",
    "#  ... código ...\n",
    "# writer.close()  # Se hace automáticamente con 'with'\n",
    "\n",
    "# Crear archivo Excel con múltiples hojas\n",
    "with pd.ExcelWriter('9_inventario_multiple.xlsx') as writer:\n",
    "    # Hoja 1: Productos\n",
    "    df_productos = pd.DataFrame({\n",
    "        'ID': [1, 2, 3],\n",
    "        'Nombre': ['Laptop', 'Mouse', 'Teclado'],\n",
    "        'Precio': [800, 25, 60]\n",
    "    })\n",
    "    df_productos.to_excel(writer, sheet_name='Productos', index=False)\n",
    "\n",
    "    # Hoja 2: Ventas\n",
    "    df_ventas = pd.DataFrame({\n",
    "        'Fecha': ['2024-01-15', '2024-01-16', '2024-01-17'],\n",
    "        'Producto_ID': [1, 2, 1],\n",
    "        'Cantidad': [2, 5, 1]\n",
    "    })\n",
    "    df_ventas.to_excel(writer, sheet_name='Ventas', index=False)\n",
    "\n",
    "\"\"\"\n",
    "Para tener la misma estructura con manejo de errores\n",
    "\n",
    "try:\n",
    "    with pd.ExcelWriter('inventario.xlsx') as writer:\n",
    "        df_productos.to_excel(writer, sheet_name='Productos', index=False)\n",
    "        df_ventas.to_excel(writer, sheet_name='Ventas', index=False)\n",
    "    print(\"Archivo Excel creado exitosamente\")\n",
    "except Exception as e:\n",
    "    print(f\"Error al crear el archivo: {e}\")\n",
    "\"\"\"\n",
    "\n",
    "print(\"Archivo Excel con múltiples hojas creado\")"
   ],
   "id": "b44ed5003b121659",
   "outputs": [
    {
     "name": "stdout",
     "output_type": "stream",
     "text": [
      "Archivo Excel con múltiples hojas creado\n"
     ]
    }
   ],
   "execution_count": 10
  },
  {
   "metadata": {
    "ExecuteTime": {
     "end_time": "2025-07-06T05:46:41.868805Z",
     "start_time": "2025-07-06T05:46:41.860900Z"
    }
   },
   "cell_type": "code",
   "source": [
    "# LEER UNA HOJA ESPECÍFICA\n",
    "df_productos_leido = pd.read_excel('9_inventario_multiple.xlsx', sheet_name='Productos')\n",
    "print(\"Datos de la hoja 'Productos':\")\n",
    "print(df_productos_leido)"
   ],
   "id": "665094621f25ae86",
   "outputs": [
    {
     "name": "stdout",
     "output_type": "stream",
     "text": [
      "Datos de la hoja 'Productos':\n",
      "   ID   Nombre  Precio\n",
      "0   1   Laptop     800\n",
      "1   2    Mouse      25\n",
      "2   3  Teclado      60\n"
     ]
    }
   ],
   "execution_count": 11
  },
  {
   "metadata": {
    "ExecuteTime": {
     "end_time": "2025-07-06T05:46:41.897513Z",
     "start_time": "2025-07-06T05:46:41.887672Z"
    }
   },
   "cell_type": "code",
   "source": [
    "# LEER MÚLTIPLES HOJAS A LA VEZ\n",
    "df_dict = pd.read_excel('9_inventario_multiple.xlsx', sheet_name=['Productos', 'Ventas'])\n",
    "\n",
    "print(\"Hoja 'Productos':\")\n",
    "print(df_dict['Productos'])\n",
    "print(\"\\nHoja 'Ventas':\")\n",
    "print(df_dict['Ventas'])"
   ],
   "id": "4b3ca06c8285f5bc",
   "outputs": [
    {
     "name": "stdout",
     "output_type": "stream",
     "text": [
      "Hoja 'Productos':\n",
      "   ID   Nombre  Precio\n",
      "0   1   Laptop     800\n",
      "1   2    Mouse      25\n",
      "2   3  Teclado      60\n",
      "\n",
      "Hoja 'Ventas':\n",
      "        Fecha  Producto_ID  Cantidad\n",
      "0  2024-01-15            1         2\n",
      "1  2024-01-16            2         5\n",
      "2  2024-01-17            1         1\n"
     ]
    }
   ],
   "execution_count": 12
  },
  {
   "metadata": {
    "ExecuteTime": {
     "end_time": "2025-07-06T05:46:41.922724Z",
     "start_time": "2025-07-06T05:46:41.914646Z"
    }
   },
   "cell_type": "code",
   "source": [
    "# LEER TODAS LAS HOJAS\n",
    "# pd.read_excel(sheet_name=None) = Devuelve un diccionario en lugar de un DataFrame\n",
    "# list() = Convierte dict_keys a una lista normal\n",
    "df_todas_hojas = pd.read_excel('9_inventario_multiple.xlsx', sheet_name=None)\n",
    "print(\"Nombres de todas las hojas:\", list(df_todas_hojas.keys()))"
   ],
   "id": "15e535407be8cb8",
   "outputs": [
    {
     "name": "stdout",
     "output_type": "stream",
     "text": [
      "Nombres de todas las hojas: ['Productos', 'Ventas']\n"
     ]
    }
   ],
   "execution_count": 13
  },
  {
   "metadata": {},
   "cell_type": "markdown",
   "source": [
    "## **📋 5) Escritura de archivos EXCEL**\n",
    "### **Aspectos analizados**\n",
    "* Escritura básica de un archivo EXCEL\n",
    "* Escritura de múltiples hojas de un EXCEL"
   ],
   "id": "2639c0aeff5f2590"
  },
  {
   "metadata": {
    "ExecuteTime": {
     "end_time": "2025-07-06T05:46:49.190590Z",
     "start_time": "2025-07-06T05:46:49.174051Z"
    }
   },
   "cell_type": "code",
   "source": [
    "# EXPORTACIÓN BÁSICA CON to_excel()\n",
    "df_para_excel = df_ejemplo.copy()\n",
    "\n",
    "# Exportación simple\n",
    "df_para_excel.to_excel('10_datos_exportados.xlsx', index=False)\n",
    "print(\"Archivo Excel básico creado: 'datos_exportados.xlsx'\")"
   ],
   "id": "731fab48ea979539",
   "outputs": [
    {
     "name": "stdout",
     "output_type": "stream",
     "text": [
      "Archivo Excel básico creado: 'datos_exportados.xlsx'\n"
     ]
    }
   ],
   "execution_count": 14
  },
  {
   "metadata": {
    "ExecuteTime": {
     "end_time": "2025-07-06T05:46:57.842030Z",
     "start_time": "2025-07-06T05:46:57.838687Z"
    }
   },
   "cell_type": "code",
   "source": [
    "# Preparar diferentes DataFrames\n",
    "df_empleados = pd.DataFrame({\n",
    "    'Nombre': ['Juan', 'María', 'Pedro'],\n",
    "    'Departamento': ['IT', 'RRHH', 'Ventas'],\n",
    "    'Salario': [3000, 2800, 3200]\n",
    "})\n",
    "\n",
    "df_departamentos = pd.DataFrame({\n",
    "    'Departamento': ['IT', 'RRHH', 'Ventas'],\n",
    "    'Presupuesto': [50000, 30000, 40000],\n",
    "    'Empleados': [10, 5, 8]\n",
    "})"
   ],
   "id": "8d4388cdc219c5f0",
   "outputs": [],
   "execution_count": 15
  },
  {
   "metadata": {
    "ExecuteTime": {
     "end_time": "2025-07-06T05:47:06.961247Z",
     "start_time": "2025-07-06T05:47:06.935528Z"
    }
   },
   "cell_type": "code",
   "source": [
    "# Crear archivo con múltiples hojas\n",
    "with pd.ExcelWriter('11_reporte_empresa.xlsx') as writer:\n",
    "    df_empleados.to_excel(writer, sheet_name='Empleados', index=False)\n",
    "    df_departamentos.to_excel(writer, sheet_name='Departamentos', index=False)\n",
    "\n",
    "print(\"Archivo Excel con múltiples hojas creado: 'reporte_empresa.xlsx'\")"
   ],
   "id": "d94047dd70adefa5",
   "outputs": [
    {
     "name": "stdout",
     "output_type": "stream",
     "text": [
      "Archivo Excel con múltiples hojas creado: 'reporte_empresa.xlsx'\n"
     ]
    }
   ],
   "execution_count": 16
  },
  {
   "metadata": {
    "ExecuteTime": {
     "end_time": "2025-07-06T05:47:17.006460Z",
     "start_time": "2025-07-06T05:47:16.996715Z"
    }
   },
   "cell_type": "code",
   "source": [
    "# Verificar que se creó correctamente\n",
    "print(\"Hojas disponibles:\")\n",
    "hojas_disponibles = pd.read_excel('11_reporte_empresa.xlsx', sheet_name=None)\n",
    "for nombre_hoja in hojas_disponibles.keys():\n",
    "    print(f\"- {nombre_hoja}\")"
   ],
   "id": "8faf50d160bc7810",
   "outputs": [
    {
     "name": "stdout",
     "output_type": "stream",
     "text": [
      "Hojas disponibles:\n",
      "- Empleados\n",
      "- Departamentos\n"
     ]
    }
   ],
   "execution_count": 17
  }
 ],
 "metadata": {
  "kernelspec": {
   "display_name": "Python [conda env:base] *",
   "language": "python",
   "name": "conda-base-py"
  },
  "language_info": {
   "codemirror_mode": {
    "name": "ipython",
    "version": 2
   },
   "file_extension": ".py",
   "mimetype": "text/x-python",
   "name": "python",
   "nbconvert_exporter": "python",
   "pygments_lexer": "ipython2",
   "version": "2.7.6"
  }
 },
 "nbformat": 4,
 "nbformat_minor": 5
}
