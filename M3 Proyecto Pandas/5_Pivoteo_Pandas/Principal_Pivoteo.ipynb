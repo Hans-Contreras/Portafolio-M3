{
 "cells": [
  {
   "metadata": {},
   "cell_type": "markdown",
   "source": "### **1. Importación de librerías y cargado de datos**",
   "id": "1d7837badb4932b"
  },
  {
   "metadata": {
    "ExecuteTime": {
     "end_time": "2025-07-06T14:34:20.137286Z",
     "start_time": "2025-07-06T14:34:19.806914Z"
    }
   },
   "cell_type": "code",
   "source": [
    "import pandas as pd\n",
    "import numpy as np\n",
    "\n",
    "print(F\"Importación ok. Versión de Pandas instalada = {pd.__version__}\")\n",
    "print(F\"Importación ok. Versión de NumPy instalada = {np.__version__}\")"
   ],
   "id": "c9281ec6cdc305d6",
   "outputs": [
    {
     "name": "stdout",
     "output_type": "stream",
     "text": [
      "Importación ok. Versión de Pandas instalada = 2.2.2\n",
      "Importación ok. Versión de NumPy instalada = 1.26.4\n"
     ]
    }
   ],
   "execution_count": 1
  },
  {
   "metadata": {
    "ExecuteTime": {
     "end_time": "2025-07-06T14:34:25.363901Z",
     "start_time": "2025-07-06T14:34:25.352038Z"
    }
   },
   "cell_type": "code",
   "source": [
    "df = pd.read_csv(\"datos_ejemplo.csv\")\n",
    "df"
   ],
   "id": "aa4d8a6b8e0d60e6",
   "outputs": [
    {
     "data": {
      "text/plain": [
       "    Región Producto      Mes  Ventas  Unidades\n",
       "0   Centro        A    Enero     305        48\n",
       "1    Norte        A    Marzo     180        15\n",
       "2   Centro        B    Marzo     661         8\n",
       "3   Centro        B    Enero     971        14\n",
       "4    Norte        A    Enero     487        23\n",
       "5    Norte        A    Marzo     101        40\n",
       "6   Centro        A  Febrero     489        21\n",
       "7      Sur        C    Enero     665        16\n",
       "8   Centro        C  Febrero     205        45\n",
       "9   Centro        C  Febrero     871        18\n",
       "10  Centro        B  Febrero     921        47\n",
       "11  Centro        C    Enero     576        24\n",
       "12   Norte        B  Febrero     802        26\n",
       "13  Centro        B    Enero     501        25\n",
       "14     Sur        C  Febrero     829        45\n",
       "15   Norte        B    Marzo     655        41\n",
       "16     Sur        C    Marzo     261        29\n",
       "17     Sur        C    Enero     301        15\n",
       "18     Sur        A    Marzo     369        45\n",
       "19     Sur        C    Marzo     962         1"
      ],
      "text/html": [
       "<div>\n",
       "<style scoped>\n",
       "    .dataframe tbody tr th:only-of-type {\n",
       "        vertical-align: middle;\n",
       "    }\n",
       "\n",
       "    .dataframe tbody tr th {\n",
       "        vertical-align: top;\n",
       "    }\n",
       "\n",
       "    .dataframe thead th {\n",
       "        text-align: right;\n",
       "    }\n",
       "</style>\n",
       "<table border=\"1\" class=\"dataframe\">\n",
       "  <thead>\n",
       "    <tr style=\"text-align: right;\">\n",
       "      <th></th>\n",
       "      <th>Región</th>\n",
       "      <th>Producto</th>\n",
       "      <th>Mes</th>\n",
       "      <th>Ventas</th>\n",
       "      <th>Unidades</th>\n",
       "    </tr>\n",
       "  </thead>\n",
       "  <tbody>\n",
       "    <tr>\n",
       "      <th>0</th>\n",
       "      <td>Centro</td>\n",
       "      <td>A</td>\n",
       "      <td>Enero</td>\n",
       "      <td>305</td>\n",
       "      <td>48</td>\n",
       "    </tr>\n",
       "    <tr>\n",
       "      <th>1</th>\n",
       "      <td>Norte</td>\n",
       "      <td>A</td>\n",
       "      <td>Marzo</td>\n",
       "      <td>180</td>\n",
       "      <td>15</td>\n",
       "    </tr>\n",
       "    <tr>\n",
       "      <th>2</th>\n",
       "      <td>Centro</td>\n",
       "      <td>B</td>\n",
       "      <td>Marzo</td>\n",
       "      <td>661</td>\n",
       "      <td>8</td>\n",
       "    </tr>\n",
       "    <tr>\n",
       "      <th>3</th>\n",
       "      <td>Centro</td>\n",
       "      <td>B</td>\n",
       "      <td>Enero</td>\n",
       "      <td>971</td>\n",
       "      <td>14</td>\n",
       "    </tr>\n",
       "    <tr>\n",
       "      <th>4</th>\n",
       "      <td>Norte</td>\n",
       "      <td>A</td>\n",
       "      <td>Enero</td>\n",
       "      <td>487</td>\n",
       "      <td>23</td>\n",
       "    </tr>\n",
       "    <tr>\n",
       "      <th>5</th>\n",
       "      <td>Norte</td>\n",
       "      <td>A</td>\n",
       "      <td>Marzo</td>\n",
       "      <td>101</td>\n",
       "      <td>40</td>\n",
       "    </tr>\n",
       "    <tr>\n",
       "      <th>6</th>\n",
       "      <td>Centro</td>\n",
       "      <td>A</td>\n",
       "      <td>Febrero</td>\n",
       "      <td>489</td>\n",
       "      <td>21</td>\n",
       "    </tr>\n",
       "    <tr>\n",
       "      <th>7</th>\n",
       "      <td>Sur</td>\n",
       "      <td>C</td>\n",
       "      <td>Enero</td>\n",
       "      <td>665</td>\n",
       "      <td>16</td>\n",
       "    </tr>\n",
       "    <tr>\n",
       "      <th>8</th>\n",
       "      <td>Centro</td>\n",
       "      <td>C</td>\n",
       "      <td>Febrero</td>\n",
       "      <td>205</td>\n",
       "      <td>45</td>\n",
       "    </tr>\n",
       "    <tr>\n",
       "      <th>9</th>\n",
       "      <td>Centro</td>\n",
       "      <td>C</td>\n",
       "      <td>Febrero</td>\n",
       "      <td>871</td>\n",
       "      <td>18</td>\n",
       "    </tr>\n",
       "    <tr>\n",
       "      <th>10</th>\n",
       "      <td>Centro</td>\n",
       "      <td>B</td>\n",
       "      <td>Febrero</td>\n",
       "      <td>921</td>\n",
       "      <td>47</td>\n",
       "    </tr>\n",
       "    <tr>\n",
       "      <th>11</th>\n",
       "      <td>Centro</td>\n",
       "      <td>C</td>\n",
       "      <td>Enero</td>\n",
       "      <td>576</td>\n",
       "      <td>24</td>\n",
       "    </tr>\n",
       "    <tr>\n",
       "      <th>12</th>\n",
       "      <td>Norte</td>\n",
       "      <td>B</td>\n",
       "      <td>Febrero</td>\n",
       "      <td>802</td>\n",
       "      <td>26</td>\n",
       "    </tr>\n",
       "    <tr>\n",
       "      <th>13</th>\n",
       "      <td>Centro</td>\n",
       "      <td>B</td>\n",
       "      <td>Enero</td>\n",
       "      <td>501</td>\n",
       "      <td>25</td>\n",
       "    </tr>\n",
       "    <tr>\n",
       "      <th>14</th>\n",
       "      <td>Sur</td>\n",
       "      <td>C</td>\n",
       "      <td>Febrero</td>\n",
       "      <td>829</td>\n",
       "      <td>45</td>\n",
       "    </tr>\n",
       "    <tr>\n",
       "      <th>15</th>\n",
       "      <td>Norte</td>\n",
       "      <td>B</td>\n",
       "      <td>Marzo</td>\n",
       "      <td>655</td>\n",
       "      <td>41</td>\n",
       "    </tr>\n",
       "    <tr>\n",
       "      <th>16</th>\n",
       "      <td>Sur</td>\n",
       "      <td>C</td>\n",
       "      <td>Marzo</td>\n",
       "      <td>261</td>\n",
       "      <td>29</td>\n",
       "    </tr>\n",
       "    <tr>\n",
       "      <th>17</th>\n",
       "      <td>Sur</td>\n",
       "      <td>C</td>\n",
       "      <td>Enero</td>\n",
       "      <td>301</td>\n",
       "      <td>15</td>\n",
       "    </tr>\n",
       "    <tr>\n",
       "      <th>18</th>\n",
       "      <td>Sur</td>\n",
       "      <td>A</td>\n",
       "      <td>Marzo</td>\n",
       "      <td>369</td>\n",
       "      <td>45</td>\n",
       "    </tr>\n",
       "    <tr>\n",
       "      <th>19</th>\n",
       "      <td>Sur</td>\n",
       "      <td>C</td>\n",
       "      <td>Marzo</td>\n",
       "      <td>962</td>\n",
       "      <td>1</td>\n",
       "    </tr>\n",
       "  </tbody>\n",
       "</table>\n",
       "</div>"
      ]
     },
     "execution_count": 2,
     "metadata": {},
     "output_type": "execute_result"
    }
   ],
   "execution_count": 2
  },
  {
   "metadata": {
    "ExecuteTime": {
     "end_time": "2025-07-06T14:34:34.525994Z",
     "start_time": "2025-07-06T14:34:34.521490Z"
    }
   },
   "cell_type": "code",
   "source": [
    "print(\"📊 DATOS ORIGINALES\")\n",
    "print(df.head())\n",
    "print(f\"\\nShape: {df.shape}\")"
   ],
   "id": "4c5732da82da65d8",
   "outputs": [
    {
     "name": "stdout",
     "output_type": "stream",
     "text": [
      "📊 DATOS ORIGINALES\n",
      "   Región Producto    Mes  Ventas  Unidades\n",
      "0  Centro        A  Enero     305        48\n",
      "1   Norte        A  Marzo     180        15\n",
      "2  Centro        B  Marzo     661         8\n",
      "3  Centro        B  Enero     971        14\n",
      "4   Norte        A  Enero     487        23\n",
      "\n",
      "Shape: (20, 5)\n"
     ]
    }
   ],
   "execution_count": 3
  },
  {
   "metadata": {},
   "cell_type": "markdown",
   "source": "### **2. Indexación Jerárquica**",
   "id": "fc1eb05d961405f"
  },
  {
   "metadata": {
    "ExecuteTime": {
     "end_time": "2025-07-06T14:35:07.420716Z",
     "start_time": "2025-07-06T14:35:07.410603Z"
    }
   },
   "cell_type": "code",
   "source": [
    "# Crear índice jerárquico con Región y Producto\n",
    "df_jerarquico = df.set_index(['Región', 'Producto']).sort_index()  # ✅ Ordenar el índice\n",
    "print(\"DataFrame con índice jerárquico (Región, Producto):\")\n",
    "df_jerarquico.head(8)"
   ],
   "id": "dda9e75363787efb",
   "outputs": [
    {
     "name": "stdout",
     "output_type": "stream",
     "text": [
      "DataFrame con índice jerárquico (Región, Producto):\n"
     ]
    },
    {
     "data": {
      "text/plain": [
       "                     Mes  Ventas  Unidades\n",
       "Región Producto                           \n",
       "Centro A           Enero     305        48\n",
       "       A         Febrero     489        21\n",
       "       B           Marzo     661         8\n",
       "       B           Enero     971        14\n",
       "       B         Febrero     921        47\n",
       "       B           Enero     501        25\n",
       "       C         Febrero     205        45\n",
       "       C         Febrero     871        18"
      ],
      "text/html": [
       "<div>\n",
       "<style scoped>\n",
       "    .dataframe tbody tr th:only-of-type {\n",
       "        vertical-align: middle;\n",
       "    }\n",
       "\n",
       "    .dataframe tbody tr th {\n",
       "        vertical-align: top;\n",
       "    }\n",
       "\n",
       "    .dataframe thead th {\n",
       "        text-align: right;\n",
       "    }\n",
       "</style>\n",
       "<table border=\"1\" class=\"dataframe\">\n",
       "  <thead>\n",
       "    <tr style=\"text-align: right;\">\n",
       "      <th></th>\n",
       "      <th></th>\n",
       "      <th>Mes</th>\n",
       "      <th>Ventas</th>\n",
       "      <th>Unidades</th>\n",
       "    </tr>\n",
       "    <tr>\n",
       "      <th>Región</th>\n",
       "      <th>Producto</th>\n",
       "      <th></th>\n",
       "      <th></th>\n",
       "      <th></th>\n",
       "    </tr>\n",
       "  </thead>\n",
       "  <tbody>\n",
       "    <tr>\n",
       "      <th rowspan=\"8\" valign=\"top\">Centro</th>\n",
       "      <th>A</th>\n",
       "      <td>Enero</td>\n",
       "      <td>305</td>\n",
       "      <td>48</td>\n",
       "    </tr>\n",
       "    <tr>\n",
       "      <th>A</th>\n",
       "      <td>Febrero</td>\n",
       "      <td>489</td>\n",
       "      <td>21</td>\n",
       "    </tr>\n",
       "    <tr>\n",
       "      <th>B</th>\n",
       "      <td>Marzo</td>\n",
       "      <td>661</td>\n",
       "      <td>8</td>\n",
       "    </tr>\n",
       "    <tr>\n",
       "      <th>B</th>\n",
       "      <td>Enero</td>\n",
       "      <td>971</td>\n",
       "      <td>14</td>\n",
       "    </tr>\n",
       "    <tr>\n",
       "      <th>B</th>\n",
       "      <td>Febrero</td>\n",
       "      <td>921</td>\n",
       "      <td>47</td>\n",
       "    </tr>\n",
       "    <tr>\n",
       "      <th>B</th>\n",
       "      <td>Enero</td>\n",
       "      <td>501</td>\n",
       "      <td>25</td>\n",
       "    </tr>\n",
       "    <tr>\n",
       "      <th>C</th>\n",
       "      <td>Febrero</td>\n",
       "      <td>205</td>\n",
       "      <td>45</td>\n",
       "    </tr>\n",
       "    <tr>\n",
       "      <th>C</th>\n",
       "      <td>Febrero</td>\n",
       "      <td>871</td>\n",
       "      <td>18</td>\n",
       "    </tr>\n",
       "  </tbody>\n",
       "</table>\n",
       "</div>"
      ]
     },
     "execution_count": 4,
     "metadata": {},
     "output_type": "execute_result"
    }
   ],
   "execution_count": 4
  },
  {
   "metadata": {
    "ExecuteTime": {
     "end_time": "2025-07-06T14:35:13.642133Z",
     "start_time": "2025-07-06T14:35:13.636720Z"
    }
   },
   "cell_type": "code",
   "source": [
    "# Acceso a datos específicos\n",
    "print(\"\\n📍 Acceso a datos del Centro:\")\n",
    "df_jerarquico.loc['Centro']"
   ],
   "id": "83908a1b6d320960",
   "outputs": [
    {
     "name": "stdout",
     "output_type": "stream",
     "text": [
      "\n",
      "📍 Acceso a datos del Centro:\n"
     ]
    },
    {
     "data": {
      "text/plain": [
       "              Mes  Ventas  Unidades\n",
       "Producto                           \n",
       "A           Enero     305        48\n",
       "A         Febrero     489        21\n",
       "B           Marzo     661         8\n",
       "B           Enero     971        14\n",
       "B         Febrero     921        47\n",
       "B           Enero     501        25\n",
       "C         Febrero     205        45\n",
       "C         Febrero     871        18\n",
       "C           Enero     576        24"
      ],
      "text/html": [
       "<div>\n",
       "<style scoped>\n",
       "    .dataframe tbody tr th:only-of-type {\n",
       "        vertical-align: middle;\n",
       "    }\n",
       "\n",
       "    .dataframe tbody tr th {\n",
       "        vertical-align: top;\n",
       "    }\n",
       "\n",
       "    .dataframe thead th {\n",
       "        text-align: right;\n",
       "    }\n",
       "</style>\n",
       "<table border=\"1\" class=\"dataframe\">\n",
       "  <thead>\n",
       "    <tr style=\"text-align: right;\">\n",
       "      <th></th>\n",
       "      <th>Mes</th>\n",
       "      <th>Ventas</th>\n",
       "      <th>Unidades</th>\n",
       "    </tr>\n",
       "    <tr>\n",
       "      <th>Producto</th>\n",
       "      <th></th>\n",
       "      <th></th>\n",
       "      <th></th>\n",
       "    </tr>\n",
       "  </thead>\n",
       "  <tbody>\n",
       "    <tr>\n",
       "      <th>A</th>\n",
       "      <td>Enero</td>\n",
       "      <td>305</td>\n",
       "      <td>48</td>\n",
       "    </tr>\n",
       "    <tr>\n",
       "      <th>A</th>\n",
       "      <td>Febrero</td>\n",
       "      <td>489</td>\n",
       "      <td>21</td>\n",
       "    </tr>\n",
       "    <tr>\n",
       "      <th>B</th>\n",
       "      <td>Marzo</td>\n",
       "      <td>661</td>\n",
       "      <td>8</td>\n",
       "    </tr>\n",
       "    <tr>\n",
       "      <th>B</th>\n",
       "      <td>Enero</td>\n",
       "      <td>971</td>\n",
       "      <td>14</td>\n",
       "    </tr>\n",
       "    <tr>\n",
       "      <th>B</th>\n",
       "      <td>Febrero</td>\n",
       "      <td>921</td>\n",
       "      <td>47</td>\n",
       "    </tr>\n",
       "    <tr>\n",
       "      <th>B</th>\n",
       "      <td>Enero</td>\n",
       "      <td>501</td>\n",
       "      <td>25</td>\n",
       "    </tr>\n",
       "    <tr>\n",
       "      <th>C</th>\n",
       "      <td>Febrero</td>\n",
       "      <td>205</td>\n",
       "      <td>45</td>\n",
       "    </tr>\n",
       "    <tr>\n",
       "      <th>C</th>\n",
       "      <td>Febrero</td>\n",
       "      <td>871</td>\n",
       "      <td>18</td>\n",
       "    </tr>\n",
       "    <tr>\n",
       "      <th>C</th>\n",
       "      <td>Enero</td>\n",
       "      <td>576</td>\n",
       "      <td>24</td>\n",
       "    </tr>\n",
       "  </tbody>\n",
       "</table>\n",
       "</div>"
      ]
     },
     "execution_count": 5,
     "metadata": {},
     "output_type": "execute_result"
    }
   ],
   "execution_count": 5
  },
  {
   "metadata": {
    "ExecuteTime": {
     "end_time": "2025-07-06T14:35:19.888903Z",
     "start_time": "2025-07-06T14:35:19.882266Z"
    }
   },
   "cell_type": "code",
   "source": [
    "print(\"\\n📍 Acceso específico - Centro, Producto A:\")\n",
    "df_jerarquico.loc[('Centro', 'A')]"
   ],
   "id": "5f4453eab95ce139",
   "outputs": [
    {
     "name": "stdout",
     "output_type": "stream",
     "text": [
      "\n",
      "📍 Acceso específico - Centro, Producto A:\n"
     ]
    },
    {
     "data": {
      "text/plain": [
       "                     Mes  Ventas  Unidades\n",
       "Región Producto                           \n",
       "Centro A           Enero     305        48\n",
       "       A         Febrero     489        21"
      ],
      "text/html": [
       "<div>\n",
       "<style scoped>\n",
       "    .dataframe tbody tr th:only-of-type {\n",
       "        vertical-align: middle;\n",
       "    }\n",
       "\n",
       "    .dataframe tbody tr th {\n",
       "        vertical-align: top;\n",
       "    }\n",
       "\n",
       "    .dataframe thead th {\n",
       "        text-align: right;\n",
       "    }\n",
       "</style>\n",
       "<table border=\"1\" class=\"dataframe\">\n",
       "  <thead>\n",
       "    <tr style=\"text-align: right;\">\n",
       "      <th></th>\n",
       "      <th></th>\n",
       "      <th>Mes</th>\n",
       "      <th>Ventas</th>\n",
       "      <th>Unidades</th>\n",
       "    </tr>\n",
       "    <tr>\n",
       "      <th>Región</th>\n",
       "      <th>Producto</th>\n",
       "      <th></th>\n",
       "      <th></th>\n",
       "      <th></th>\n",
       "    </tr>\n",
       "  </thead>\n",
       "  <tbody>\n",
       "    <tr>\n",
       "      <th rowspan=\"2\" valign=\"top\">Centro</th>\n",
       "      <th>A</th>\n",
       "      <td>Enero</td>\n",
       "      <td>305</td>\n",
       "      <td>48</td>\n",
       "    </tr>\n",
       "    <tr>\n",
       "      <th>A</th>\n",
       "      <td>Febrero</td>\n",
       "      <td>489</td>\n",
       "      <td>21</td>\n",
       "    </tr>\n",
       "  </tbody>\n",
       "</table>\n",
       "</div>"
      ]
     },
     "execution_count": 6,
     "metadata": {},
     "output_type": "execute_result"
    }
   ],
   "execution_count": 6
  },
  {
   "metadata": {},
   "cell_type": "markdown",
   "source": "### **3. Agrupamiento de datos con groupby()**",
   "id": "272ac0da940f06c7"
  },
  {
   "metadata": {
    "ExecuteTime": {
     "end_time": "2025-07-06T14:35:37.793531Z",
     "start_time": "2025-07-06T14:35:37.789688Z"
    }
   },
   "cell_type": "code",
   "source": [
    "# Agrupamiento básico por región\n",
    "print(\"💰 Ventas totales por región:\")\n",
    "ventas_region = df.groupby('Región')['Ventas'].sum()\n",
    "print(ventas_region)"
   ],
   "id": "3c5a913155c93c71",
   "outputs": [
    {
     "name": "stdout",
     "output_type": "stream",
     "text": [
      "💰 Ventas totales por región:\n",
      "Región\n",
      "Centro    5500\n",
      "Norte     2225\n",
      "Sur       3387\n",
      "Name: Ventas, dtype: int64\n"
     ]
    }
   ],
   "execution_count": 7
  },
  {
   "metadata": {
    "ExecuteTime": {
     "end_time": "2025-07-06T14:35:42.627714Z",
     "start_time": "2025-07-06T14:35:42.618696Z"
    }
   },
   "cell_type": "code",
   "source": [
    "print(\"\\n📦 Estadísticas de unidades por producto:\")\n",
    "stats_producto = df.groupby('Producto')['Unidades'].agg(['mean', 'sum', 'count', 'min', 'max'])\n",
    "print(stats_producto)"
   ],
   "id": "a9831e67ccfa4b50",
   "outputs": [
    {
     "name": "stdout",
     "output_type": "stream",
     "text": [
      "\n",
      "📦 Estadísticas de unidades por producto:\n",
      "               mean  sum  count  min  max\n",
      "Producto                                 \n",
      "A         32.000000  192      6   15   48\n",
      "B         26.833333  161      6    8   47\n",
      "C         24.125000  193      8    1   45\n"
     ]
    }
   ],
   "execution_count": 8
  },
  {
   "metadata": {
    "ExecuteTime": {
     "end_time": "2025-07-06T14:36:12.352592Z",
     "start_time": "2025-07-06T14:36:12.348595Z"
    }
   },
   "cell_type": "code",
   "source": [
    "print(\"\\n📅 Ventas promedio por mes:\")\n",
    "ventas_mes = df.groupby('Mes')['Ventas'].mean().round(2)\n",
    "print(ventas_mes)"
   ],
   "id": "6ecb026d454279ea",
   "outputs": [
    {
     "name": "stdout",
     "output_type": "stream",
     "text": [
      "\n",
      "📅 Ventas promedio por mes:\n",
      "Mes\n",
      "Enero      543.71\n",
      "Febrero    686.17\n",
      "Marzo      455.57\n",
      "Name: Ventas, dtype: float64\n"
     ]
    }
   ],
   "execution_count": 10
  },
  {
   "metadata": {
    "ExecuteTime": {
     "end_time": "2025-07-06T14:36:18.661428Z",
     "start_time": "2025-07-06T14:36:18.655187Z"
    }
   },
   "cell_type": "code",
   "source": [
    "# Aplicar múltiples funciones a la vez\n",
    "print(\"📊 Análisis completo por región:\")\n",
    "analisis_region = df.groupby('Región').agg({\n",
    "    'Ventas': ['sum', 'mean', 'count'],\n",
    "    'Unidades': ['sum', 'max', 'min']\n",
    "}).round(2)\n",
    "print(analisis_region)"
   ],
   "id": "f26f1be66d1e6eb",
   "outputs": [
    {
     "name": "stdout",
     "output_type": "stream",
     "text": [
      "📊 Análisis completo por región:\n",
      "       Ventas               Unidades        \n",
      "          sum    mean count      sum max min\n",
      "Región                                      \n",
      "Centro   5500  611.11     9      250  48   8\n",
      "Norte    2225  445.00     5      145  41  15\n",
      "Sur      3387  564.50     6      151  45   1\n"
     ]
    }
   ],
   "execution_count": 11
  },
  {
   "metadata": {
    "ExecuteTime": {
     "end_time": "2025-07-06T14:36:24.485709Z",
     "start_time": "2025-07-06T14:36:24.479709Z"
    }
   },
   "cell_type": "code",
   "source": [
    "print(\"\\n📈 Resumen por producto:\")\n",
    "resumen_producto = df.groupby('Producto').agg({\n",
    "    'Ventas': ['sum', 'mean'],\n",
    "    'Unidades': 'sum'\n",
    "}).round(2)\n",
    "print(resumen_producto)"
   ],
   "id": "142ff703b5887221",
   "outputs": [
    {
     "name": "stdout",
     "output_type": "stream",
     "text": [
      "\n",
      "📈 Resumen por producto:\n",
      "         Ventas         Unidades\n",
      "            sum    mean      sum\n",
      "Producto                        \n",
      "A          1931  321.83      192\n",
      "B          4511  751.83      161\n",
      "C          4670  583.75      193\n"
     ]
    }
   ],
   "execution_count": 12
  },
  {
   "metadata": {},
   "cell_type": "markdown",
   "source": "### **4. Pivoteo de datos**",
   "id": "b3db0f647c972d5a"
  },
  {
   "metadata": {
    "ExecuteTime": {
     "end_time": "2025-07-06T14:36:40.603191Z",
     "start_time": "2025-07-06T14:36:40.585295Z"
    }
   },
   "cell_type": "code",
   "source": [
    "# Crear tabla pivote: Regiones vs Productos (suma de ventas)\n",
    "print(\"🔄 Tabla pivote - Ventas por Región y Producto:\")\n",
    "pivot_ventas = df.groupby(['Región', 'Producto'])['Ventas'].sum().unstack(fill_value=0)\n",
    "print(pivot_ventas)"
   ],
   "id": "dd0634b072e20184",
   "outputs": [
    {
     "name": "stdout",
     "output_type": "stream",
     "text": [
      "🔄 Tabla pivote - Ventas por Región y Producto:\n",
      "Producto    A     B     C\n",
      "Región                   \n",
      "Centro    794  3054  1652\n",
      "Norte     768  1457     0\n",
      "Sur       369     0  3018\n"
     ]
    }
   ],
   "execution_count": 13
  },
  {
   "metadata": {
    "ExecuteTime": {
     "end_time": "2025-07-06T14:36:45.742173Z",
     "start_time": "2025-07-06T14:36:45.737637Z"
    }
   },
   "cell_type": "code",
   "source": [
    "print(\"\\n🔄 Tabla pivote - Unidades por Mes y Región:\")\n",
    "pivot_unidades = df.groupby(['Mes', 'Región'])['Unidades'].sum().unstack(fill_value=0)\n",
    "print(pivot_unidades)"
   ],
   "id": "34cc9fc9008db96c",
   "outputs": [
    {
     "name": "stdout",
     "output_type": "stream",
     "text": [
      "\n",
      "🔄 Tabla pivote - Unidades por Mes y Región:\n",
      "Región   Centro  Norte  Sur\n",
      "Mes                        \n",
      "Enero       111     23   31\n",
      "Febrero     131     26   45\n",
      "Marzo         8     96   75\n"
     ]
    }
   ],
   "execution_count": 14
  },
  {
   "metadata": {},
   "cell_type": "markdown",
   "source": "### **5. Despivoteo de datos**",
   "id": "a8844c9ee419091"
  },
  {
   "metadata": {
    "ExecuteTime": {
     "end_time": "2025-07-06T14:37:05.036229Z",
     "start_time": "2025-07-06T14:37:05.030263Z"
    }
   },
   "cell_type": "code",
   "source": [
    "# Despivotear la tabla anterior\n",
    "print(\"🔄 Despivoteo de la tabla de ventas:\")\n",
    "df_melted = pivot_ventas.reset_index().melt(\n",
    "    id_vars=['Región'],\n",
    "    var_name='Producto',\n",
    "    value_name='Ventas_Total'\n",
    ")\n",
    "print(df_melted[df_melted['Ventas_Total'] > 0])  # Solo mostrar valores > 0"
   ],
   "id": "df19fc582e627649",
   "outputs": [
    {
     "name": "stdout",
     "output_type": "stream",
     "text": [
      "🔄 Despivoteo de la tabla de ventas:\n",
      "   Región Producto  Ventas_Total\n",
      "0  Centro        A           794\n",
      "1   Norte        A           768\n",
      "2     Sur        A           369\n",
      "3  Centro        B          3054\n",
      "4   Norte        B          1457\n",
      "6  Centro        C          1652\n",
      "8     Sur        C          3018\n"
     ]
    }
   ],
   "execution_count": 15
  },
  {
   "metadata": {
    "ExecuteTime": {
     "end_time": "2025-07-06T14:37:09.923920Z",
     "start_time": "2025-07-06T14:37:09.917380Z"
    }
   },
   "cell_type": "code",
   "source": [
    "print(\"\\n🔄 Despivoteo completo del DataFrame original:\")\n",
    "df_melt_completo = df.melt(\n",
    "    id_vars=['Región', 'Producto', 'Mes'],\n",
    "    value_vars=['Ventas', 'Unidades'],\n",
    "    var_name='Métrica',\n",
    "    value_name='Valor'\n",
    ")\n",
    "print(df_melt_completo.head(8))"
   ],
   "id": "920aae38417c66c3",
   "outputs": [
    {
     "name": "stdout",
     "output_type": "stream",
     "text": [
      "\n",
      "🔄 Despivoteo completo del DataFrame original:\n",
      "   Región Producto      Mes Métrica  Valor\n",
      "0  Centro        A    Enero  Ventas    305\n",
      "1   Norte        A    Marzo  Ventas    180\n",
      "2  Centro        B    Marzo  Ventas    661\n",
      "3  Centro        B    Enero  Ventas    971\n",
      "4   Norte        A    Enero  Ventas    487\n",
      "5   Norte        A    Marzo  Ventas    101\n",
      "6  Centro        A  Febrero  Ventas    489\n",
      "7     Sur        C    Enero  Ventas    665\n"
     ]
    }
   ],
   "execution_count": 16
  },
  {
   "metadata": {},
   "cell_type": "markdown",
   "source": "### **6. Combinación de datos**",
   "id": "8fdeb446ef88c744"
  },
  {
   "metadata": {
    "ExecuteTime": {
     "end_time": "2025-07-06T14:37:32.029303Z",
     "start_time": "2025-07-06T14:37:32.023302Z"
    }
   },
   "cell_type": "code",
   "source": [
    "# Crear DataFrames adicionales para demostrar combinaciones\n",
    "df1 = df[df['Región'] == 'Centro'][['Región', 'Producto', 'Ventas']].head(3)\n",
    "df2 = df[df['Región'] == 'Norte'][['Región', 'Producto', 'Ventas']].head(3)\n",
    "\n",
    "print(\"DataFrame 1 (Centro):\")\n",
    "print(df1)\n",
    "print(\"\\nDataFrame 2 (Norte):\")\n",
    "print(df2)"
   ],
   "id": "dcd4e9bb80d5e8da",
   "outputs": [
    {
     "name": "stdout",
     "output_type": "stream",
     "text": [
      "DataFrame 1 (Centro):\n",
      "   Región Producto  Ventas\n",
      "0  Centro        A     305\n",
      "2  Centro        B     661\n",
      "3  Centro        B     971\n",
      "\n",
      "DataFrame 2 (Norte):\n",
      "  Región Producto  Ventas\n",
      "1  Norte        A     180\n",
      "4  Norte        A     487\n",
      "5  Norte        A     101\n"
     ]
    }
   ],
   "execution_count": 17
  },
  {
   "metadata": {
    "ExecuteTime": {
     "end_time": "2025-07-06T14:37:37.816913Z",
     "start_time": "2025-07-06T14:37:37.812665Z"
    }
   },
   "cell_type": "code",
   "source": [
    "# CONCATENACIÓN\n",
    "print(\"\\nCONCATENACIÓN con concat():\")\n",
    "df_concat = pd.concat([df1, df2], ignore_index=True)\n",
    "print(df_concat)"
   ],
   "id": "9198e131e09549e0",
   "outputs": [
    {
     "name": "stdout",
     "output_type": "stream",
     "text": [
      "\n",
      "CONCATENACIÓN con concat():\n",
      "   Región Producto  Ventas\n",
      "0  Centro        A     305\n",
      "1  Centro        B     661\n",
      "2  Centro        B     971\n",
      "3   Norte        A     180\n",
      "4   Norte        A     487\n",
      "5   Norte        A     101\n"
     ]
    }
   ],
   "execution_count": 18
  },
  {
   "metadata": {
    "ExecuteTime": {
     "end_time": "2025-07-06T14:37:55.451169Z",
     "start_time": "2025-07-06T14:37:55.447159Z"
    }
   },
   "cell_type": "code",
   "source": [
    "# Crear DataFrame de información adicional para merge\n",
    "info_productos = pd.DataFrame({\n",
    "    'Producto': ['A', 'B', 'C'],\n",
    "    'Categoría': ['Electrónicos', 'Ropa', 'Hogar'],\n",
    "    'Precio_Unitario': [25.50, 80.00, 45.75]\n",
    "})\n",
    "\n",
    "print(\"DataFrame de información de productos:\")\n",
    "print(info_productos)"
   ],
   "id": "7db28d10620cebbb",
   "outputs": [
    {
     "name": "stdout",
     "output_type": "stream",
     "text": [
      "DataFrame de información de productos:\n",
      "  Producto     Categoría  Precio_Unitario\n",
      "0        A  Electrónicos            25.50\n",
      "1        B          Ropa            80.00\n",
      "2        C         Hogar            45.75\n"
     ]
    }
   ],
   "execution_count": 20
  },
  {
   "metadata": {
    "ExecuteTime": {
     "end_time": "2025-07-06T14:38:02.772316Z",
     "start_time": "2025-07-06T14:38:02.765810Z"
    }
   },
   "cell_type": "code",
   "source": [
    "# MERGE - diferentes tipos de uniones\n",
    "print(\"\\nMERGE - Unión INNER:\")\n",
    "df_inner = df.merge(info_productos, on='Producto', how='inner')\n",
    "print(df_inner[['Región', 'Producto', 'Ventas', 'Categoría', 'Precio_Unitario']].head(5))"
   ],
   "id": "13711149c15e4ec7",
   "outputs": [
    {
     "name": "stdout",
     "output_type": "stream",
     "text": [
      "\n",
      "MERGE - Unión INNER:\n",
      "   Región Producto  Ventas     Categoría  Precio_Unitario\n",
      "0  Centro        A     305  Electrónicos             25.5\n",
      "1   Norte        A     180  Electrónicos             25.5\n",
      "2  Centro        B     661          Ropa             80.0\n",
      "3  Centro        B     971          Ropa             80.0\n",
      "4   Norte        A     487  Electrónicos             25.5\n"
     ]
    }
   ],
   "execution_count": 21
  },
  {
   "metadata": {
    "ExecuteTime": {
     "end_time": "2025-07-06T14:38:08.376557Z",
     "start_time": "2025-07-06T14:38:08.371680Z"
    }
   },
   "cell_type": "code",
   "source": [
    "print(\"\\nMERGE - Unión LEFT:\")\n",
    "df_left = df.merge(info_productos, on='Producto', how='left')\n",
    "print(f\"Filas originales: {len(df)}, Filas después del merge: {len(df_left)}\")"
   ],
   "id": "fc6f64d4569332d6",
   "outputs": [
    {
     "name": "stdout",
     "output_type": "stream",
     "text": [
      "\n",
      "MERGE - Unión LEFT:\n",
      "Filas originales: 20, Filas después del merge: 20\n"
     ]
    }
   ],
   "execution_count": 22
  },
  {
   "metadata": {
    "ExecuteTime": {
     "end_time": "2025-07-06T14:38:13.980917Z",
     "start_time": "2025-07-06T14:38:13.973593Z"
    }
   },
   "cell_type": "code",
   "source": [
    "# Ejemplo práctico: Calcular ingresos totales\n",
    "print(\"\\nEJEMPLO PRÁCTICO - Cálculo de ingresos:\")\n",
    "df_ingresos = df.merge(info_productos, on='Producto', how='left')\n",
    "df_ingresos['Ingresos_Calculados'] = df_ingresos['Unidades'] * df_ingresos['Precio_Unitario']\n",
    "df_ingresos[['Región', 'Producto', 'Mes', 'Ventas', 'Unidades', 'Precio_Unitario', 'Ingresos_Calculados']].head()"
   ],
   "id": "6b5ede4611b78fc9",
   "outputs": [
    {
     "name": "stdout",
     "output_type": "stream",
     "text": [
      "\n",
      "EJEMPLO PRÁCTICO - Cálculo de ingresos:\n"
     ]
    },
    {
     "data": {
      "text/plain": [
       "   Región Producto    Mes  Ventas  Unidades  Precio_Unitario  \\\n",
       "0  Centro        A  Enero     305        48             25.5   \n",
       "1   Norte        A  Marzo     180        15             25.5   \n",
       "2  Centro        B  Marzo     661         8             80.0   \n",
       "3  Centro        B  Enero     971        14             80.0   \n",
       "4   Norte        A  Enero     487        23             25.5   \n",
       "\n",
       "   Ingresos_Calculados  \n",
       "0               1224.0  \n",
       "1                382.5  \n",
       "2                640.0  \n",
       "3               1120.0  \n",
       "4                586.5  "
      ],
      "text/html": [
       "<div>\n",
       "<style scoped>\n",
       "    .dataframe tbody tr th:only-of-type {\n",
       "        vertical-align: middle;\n",
       "    }\n",
       "\n",
       "    .dataframe tbody tr th {\n",
       "        vertical-align: top;\n",
       "    }\n",
       "\n",
       "    .dataframe thead th {\n",
       "        text-align: right;\n",
       "    }\n",
       "</style>\n",
       "<table border=\"1\" class=\"dataframe\">\n",
       "  <thead>\n",
       "    <tr style=\"text-align: right;\">\n",
       "      <th></th>\n",
       "      <th>Región</th>\n",
       "      <th>Producto</th>\n",
       "      <th>Mes</th>\n",
       "      <th>Ventas</th>\n",
       "      <th>Unidades</th>\n",
       "      <th>Precio_Unitario</th>\n",
       "      <th>Ingresos_Calculados</th>\n",
       "    </tr>\n",
       "  </thead>\n",
       "  <tbody>\n",
       "    <tr>\n",
       "      <th>0</th>\n",
       "      <td>Centro</td>\n",
       "      <td>A</td>\n",
       "      <td>Enero</td>\n",
       "      <td>305</td>\n",
       "      <td>48</td>\n",
       "      <td>25.5</td>\n",
       "      <td>1224.0</td>\n",
       "    </tr>\n",
       "    <tr>\n",
       "      <th>1</th>\n",
       "      <td>Norte</td>\n",
       "      <td>A</td>\n",
       "      <td>Marzo</td>\n",
       "      <td>180</td>\n",
       "      <td>15</td>\n",
       "      <td>25.5</td>\n",
       "      <td>382.5</td>\n",
       "    </tr>\n",
       "    <tr>\n",
       "      <th>2</th>\n",
       "      <td>Centro</td>\n",
       "      <td>B</td>\n",
       "      <td>Marzo</td>\n",
       "      <td>661</td>\n",
       "      <td>8</td>\n",
       "      <td>80.0</td>\n",
       "      <td>640.0</td>\n",
       "    </tr>\n",
       "    <tr>\n",
       "      <th>3</th>\n",
       "      <td>Centro</td>\n",
       "      <td>B</td>\n",
       "      <td>Enero</td>\n",
       "      <td>971</td>\n",
       "      <td>14</td>\n",
       "      <td>80.0</td>\n",
       "      <td>1120.0</td>\n",
       "    </tr>\n",
       "    <tr>\n",
       "      <th>4</th>\n",
       "      <td>Norte</td>\n",
       "      <td>A</td>\n",
       "      <td>Enero</td>\n",
       "      <td>487</td>\n",
       "      <td>23</td>\n",
       "      <td>25.5</td>\n",
       "      <td>586.5</td>\n",
       "    </tr>\n",
       "  </tbody>\n",
       "</table>\n",
       "</div>"
      ]
     },
     "execution_count": 23,
     "metadata": {},
     "output_type": "execute_result"
    }
   ],
   "execution_count": 23
  }
 ],
 "metadata": {
  "kernelspec": {
   "display_name": "Python [conda env:base] *",
   "language": "python",
   "name": "conda-base-py"
  },
  "language_info": {
   "codemirror_mode": {
    "name": "ipython",
    "version": 2
   },
   "file_extension": ".py",
   "mimetype": "text/x-python",
   "name": "python",
   "nbconvert_exporter": "python",
   "pygments_lexer": "ipython2",
   "version": "2.7.6"
  }
 },
 "nbformat": 4,
 "nbformat_minor": 5
}
